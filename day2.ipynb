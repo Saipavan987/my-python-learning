{
 "cells": [
  {
   "cell_type": "code",
   "execution_count": 2,
   "id": "999aa7c3-2a6e-4d08-b108-a3dd9829d335",
   "metadata": {},
   "outputs": [
    {
     "name": "stdout",
     "output_type": "stream",
     "text": [
      "2000\n",
      "1900\n",
      "1800\n",
      "1700\n",
      "1600\n",
      "1500\n",
      "1400\n",
      "1300\n",
      "1200\n",
      "1100\n",
      "1000\n",
      "900\n",
      "800\n",
      "700\n",
      "600\n",
      "500\n",
      "400\n",
      "300\n",
      "200\n",
      "100\n",
      "contact bank\n"
     ]
    }
   ],
   "source": [
    "total_money=2000\n",
    "while total_money!=0:\n",
    "    print(total_money)\n",
    "    total_money=total_money-100\n",
    "else:\n",
    "    print(\"contact bank\")"
   ]
  },
  {
   "cell_type": "code",
   "execution_count": 6,
   "id": "65cc63e1-1eea-41b7-aec9-a7b4d4da978c",
   "metadata": {},
   "outputs": [
    {
     "name": "stdout",
     "output_type": "stream",
     "text": [
      "1000\n",
      "950\n",
      "900\n",
      "850\n",
      "800\n",
      "750\n",
      "700\n",
      "650\n",
      "600\n",
      "550\n",
      "500\n",
      "450\n",
      "400\n",
      "350\n",
      "300\n",
      "250\n",
      "200\n",
      "150\n",
      "100\n",
      "no money\n"
     ]
    }
   ],
   "source": [
    "total_money=1000\n",
    "while total_money>=100:\n",
    "    print(total_money)\n",
    "    total_money=total_money-50\n",
    "else:\n",
    "    print(\"no money\")"
   ]
  },
  {
   "cell_type": "code",
   "execution_count": 15,
   "id": "33f4c68c-6284-4b57-bd31-d11ae2f7d56b",
   "metadata": {},
   "outputs": [
    {
     "name": "stdin",
     "output_type": "stream",
     "text": [
      "enter a value 50\n"
     ]
    },
    {
     "name": "stdout",
     "output_type": "stream",
     "text": [
      "no money\n"
     ]
    }
   ],
   "source": [
    "total_money = int(input(\"enter a value\"))\n",
    "while total_money>=100:\n",
    "    print(total_money)\n",
    "    total_money=total_money-50\n",
    "else:\n",
    "    print(\"no money\")"
   ]
  },
  {
   "cell_type": "code",
   "execution_count": 23,
   "id": "7c019d23-c522-4579-aba9-df95f7f66cd3",
   "metadata": {},
   "outputs": [
    {
     "name": "stdin",
     "output_type": "stream",
     "text": [
      "enter a value 500\n"
     ]
    },
    {
     "name": "stdout",
     "output_type": "stream",
     "text": [
      "500\n",
      "450\n",
      "400\n",
      "350\n",
      "300\n",
      "250\n",
      "200\n",
      "no money\n"
     ]
    }
   ],
   "source": [
    "total_money = int(input(\"enter a value\"))\n",
    "while total_money!=150:   \n",
    "    print(total_money)\n",
    "    total_money=total_money-50 \n",
    "else:\n",
    "    print(\"no money\")"
   ]
  },
  {
   "cell_type": "markdown",
   "id": "958da37f-f201-4115-8500-09573e308354",
   "metadata": {},
   "source": [
    "# for loop"
   ]
  },
  {
   "cell_type": "code",
   "execution_count": 1,
   "id": "c2afb921-3b4e-48e7-95a1-dd0427f1a3a2",
   "metadata": {},
   "outputs": [],
   "source": [
    "animals=[\"dogs\", \"cats\" , 25 , 8+8j ]"
   ]
  },
  {
   "cell_type": "code",
   "execution_count": 3,
   "id": "80c1f513-c9bd-40cf-9840-ae46e1cee923",
   "metadata": {},
   "outputs": [
    {
     "data": {
      "text/plain": [
       "list"
      ]
     },
     "execution_count": 3,
     "metadata": {},
     "output_type": "execute_result"
    }
   ],
   "source": [
    "type(animals)"
   ]
  },
  {
   "cell_type": "code",
   "execution_count": 5,
   "id": "c9e38398-3288-4c50-b20c-ea85f9ca4374",
   "metadata": {},
   "outputs": [
    {
     "name": "stdout",
     "output_type": "stream",
     "text": [
      "dogs\n",
      "cats\n",
      "25\n",
      "(8+8j)\n"
     ]
    }
   ],
   "source": [
    "for a in animals:\n",
    "    print(a)"
   ]
  },
  {
   "cell_type": "code",
   "execution_count": 11,
   "id": "a8d8d410-bba7-4dfb-9d4e-5f8c11d8e3f5",
   "metadata": {},
   "outputs": [],
   "source": [
    "numbers=[1,2,3,4,5,6,7,8,9]\n"
   ]
  },
  {
   "cell_type": "code",
   "execution_count": 13,
   "id": "33e14d3a-63fe-4fd6-b136-50ab7799bb92",
   "metadata": {},
   "outputs": [
    {
     "data": {
      "text/plain": [
       "list"
      ]
     },
     "execution_count": 13,
     "metadata": {},
     "output_type": "execute_result"
    }
   ],
   "source": [
    "type(numbers)"
   ]
  },
  {
   "cell_type": "code",
   "execution_count": 15,
   "id": "d8de4ed8-a0ff-4d62-8eea-ee75884f5a55",
   "metadata": {},
   "outputs": [
    {
     "name": "stdout",
     "output_type": "stream",
     "text": [
      "1\n",
      "2\n",
      "3\n",
      "4\n",
      "5\n",
      "6\n",
      "7\n",
      "8\n",
      "9\n"
     ]
    }
   ],
   "source": [
    "for x in numbers:\n",
    "    print(x)"
   ]
  },
  {
   "cell_type": "code",
   "execution_count": 19,
   "id": "f48648a6-450c-44d8-9a37-1d4e439c55ba",
   "metadata": {},
   "outputs": [
    {
     "name": "stdout",
     "output_type": "stream",
     "text": [
      "1\n",
      "2\n",
      "3\n",
      "4\n",
      "5\n",
      "6\n",
      "completed 6\n"
     ]
    }
   ],
   "source": [
    "for x in numbers:\n",
    "    print(x)\n",
    "    if x==6:\n",
    "        print(\"completed 6\")\n",
    "        break"
   ]
  },
  {
   "cell_type": "code",
   "execution_count": 25,
   "id": "47dd952c-c1a3-4bb9-a716-0498ab19bf82",
   "metadata": {},
   "outputs": [
    {
     "name": "stdout",
     "output_type": "stream",
     "text": [
      "1\n",
      "2\n",
      "3\n",
      "4\n",
      "5\n",
      "6\n",
      "7\n",
      "8\n",
      "it is eight\n"
     ]
    }
   ],
   "source": [
    "for x in numbers:\n",
    "    print(x)\n",
    "    if x>=8:\n",
    "        print(\"it is eight\")\n",
    "        break   "
   ]
  },
  {
   "cell_type": "code",
   "execution_count": 36,
   "id": "25af686f-575e-4217-b77c-e419f17bf1af",
   "metadata": {},
   "outputs": [
    {
     "name": "stdout",
     "output_type": "stream",
     "text": [
      "1\n",
      "2\n",
      "3\n",
      "4\n",
      "5\n",
      "6\n",
      "7\n",
      "it is more than 7\n",
      "8\n",
      "it is more than 7\n",
      "it is 8\n"
     ]
    }
   ],
   "source": [
    "for x in numbers:\n",
    "    print(x)\n",
    "    if x<=5:\n",
    "        continue\n",
    "    if x>=7:\n",
    "        print(\"it is more than 7\")\n",
    "    if x==8:\n",
    "        print(\"it is 8\")\n",
    "        break"
   ]
  },
  {
   "cell_type": "markdown",
   "id": "5d01e240-9f8e-4ce5-b6ac-3feb96a12e5b",
   "metadata": {},
   "source": [
    "# range"
   ]
  },
  {
   "cell_type": "code",
   "execution_count": 7,
   "id": "12c33ea6-b8bf-447d-9dd6-87a535f99f3e",
   "metadata": {},
   "outputs": [
    {
     "name": "stdout",
     "output_type": "stream",
     "text": [
      "1\n",
      "2\n",
      "3\n",
      "4\n",
      "5\n",
      "6\n",
      "7\n",
      "8\n",
      "9\n"
     ]
    }
   ],
   "source": [
    "for sai in range (1,10):\n",
    "    print(sai)"
   ]
  },
  {
   "cell_type": "code",
   "execution_count": 9,
   "id": "0f6d0537-e7bd-48fa-a5f3-ed7a5dcfb921",
   "metadata": {},
   "outputs": [
    {
     "name": "stdout",
     "output_type": "stream",
     "text": [
      "5\n",
      "7\n",
      "9\n",
      "11\n",
      "13\n",
      "15\n",
      "17\n",
      "19\n",
      "21\n",
      "23\n"
     ]
    }
   ],
   "source": [
    "for yepp in range (5,25,2):\n",
    "    print(yepp)"
   ]
  },
  {
   "cell_type": "code",
   "execution_count": 10,
   "id": "901e5fe7-9ee1-4f67-b448-44023a91e144",
   "metadata": {},
   "outputs": [
    {
     "name": "stdout",
     "output_type": "stream",
     "text": [
      "1\n",
      "3\n",
      "5\n",
      "7\n",
      "9\n",
      "11\n",
      "13\n",
      "15\n",
      "17\n",
      "19\n",
      "21\n",
      "23\n",
      "25\n",
      "27\n",
      "29\n",
      "31\n",
      "33\n",
      "35\n",
      "37\n",
      "39\n",
      "41\n",
      "43\n",
      "45\n",
      "47\n",
      "49\n",
      "51\n",
      "53\n",
      "55\n",
      "57\n",
      "59\n",
      "61\n",
      "63\n",
      "65\n",
      "67\n",
      "69\n",
      "71\n",
      "73\n",
      "75\n",
      "77\n",
      "79\n",
      "81\n",
      "83\n",
      "85\n",
      "87\n",
      "89\n",
      "91\n",
      "93\n",
      "95\n",
      "97\n",
      "99\n",
      "101\n",
      "103\n",
      "105\n",
      "107\n",
      "109\n",
      "111\n",
      "113\n",
      "115\n",
      "117\n",
      "119\n",
      "121\n",
      "123\n",
      "125\n",
      "127\n",
      "129\n",
      "131\n",
      "133\n",
      "135\n",
      "137\n",
      "139\n",
      "141\n",
      "143\n",
      "145\n",
      "147\n",
      "149\n",
      "151\n",
      "153\n",
      "155\n",
      "157\n",
      "159\n",
      "161\n",
      "163\n",
      "165\n",
      "167\n",
      "169\n",
      "171\n",
      "173\n",
      "175\n",
      "177\n",
      "179\n",
      "181\n",
      "183\n",
      "185\n",
      "187\n",
      "189\n",
      "191\n",
      "193\n",
      "195\n",
      "197\n",
      "199\n"
     ]
    }
   ],
   "source": [
    "for n in range (1,200,2):\n",
    "    print(n)"
   ]
  },
  {
   "cell_type": "code",
   "execution_count": 11,
   "id": "cf28aa1e-ec24-4fbf-a654-b3de9945da8e",
   "metadata": {},
   "outputs": [
    {
     "name": "stdout",
     "output_type": "stream",
     "text": [
      "1\n",
      "\n",
      "2\n",
      "\n",
      "3\n",
      "\n",
      "4\n",
      "\n",
      "5\n",
      "\n",
      "6\n",
      "\n",
      "7\n",
      "\n",
      "8\n",
      "\n",
      "9\n",
      "\n"
     ]
    }
   ],
   "source": [
    "for x in range (1,10):\n",
    "    print(x)\n",
    "    print(\"\\r\")\n",
    "    "
   ]
  },
  {
   "cell_type": "code",
   "execution_count": 15,
   "id": "264af835-faab-48f4-a4cd-bfef81f3c13f",
   "metadata": {},
   "outputs": [
    {
     "name": "stdout",
     "output_type": "stream",
     "text": [
      "*\n",
      "**\n",
      "***\n",
      "****\n",
      "*****\n",
      "******\n",
      "*******\n",
      "********\n",
      "*********\n",
      "**********\n"
     ]
    }
   ],
   "source": [
    "n=10\n",
    "for i in range (0,n):\n",
    "    for j in range(0,i+1):\n",
    "        print(\"*\",end=\"\")\n",
    "    print(\"\\r\")"
   ]
  },
  {
   "cell_type": "code",
   "execution_count": 16,
   "id": "62090073-6708-417f-8332-de2b5f69250d",
   "metadata": {},
   "outputs": [
    {
     "name": "stdout",
     "output_type": "stream",
     "text": [
      "*********\n",
      "********\n",
      "*******\n",
      "******\n",
      "*****\n",
      "****\n",
      "***\n",
      "**\n",
      "*\n",
      "\n"
     ]
    }
   ],
   "source": [
    "n=10\n",
    "for i in range (0,n):\n",
    "    for j in range(0,n-i-1):\n",
    "        print(\"*\",end=\"\")\n",
    "    print(\"\\r\")"
   ]
  },
  {
   "cell_type": "code",
   "execution_count": 18,
   "id": "30cc1cd5-34d1-4026-815f-075cce2b65af",
   "metadata": {},
   "outputs": [
    {
     "name": "stdout",
     "output_type": "stream",
     "text": [
      "\n",
      "\n",
      "*\n",
      "**\n",
      "***\n",
      "****\n",
      "*****\n",
      "******\n",
      "*******\n",
      "********\n"
     ]
    }
   ],
   "source": [
    "n=10\n",
    "for i in range (0,n):\n",
    "    for j in range(0,i-1):\n",
    "        print(\"*\",end=\"\")\n",
    "    print(\"\\r\")"
   ]
  },
  {
   "cell_type": "code",
   "execution_count": 20,
   "id": "c56b1387-69ac-40c5-9dc5-3104484a18da",
   "metadata": {},
   "outputs": [
    {
     "name": "stdout",
     "output_type": "stream",
     "text": [
      "*********\n",
      "********\n",
      "*******\n",
      "******\n",
      "*****\n",
      "****\n",
      "***\n",
      "**\n",
      "*\n",
      "\n"
     ]
    }
   ],
   "source": [
    "n=10\n",
    "for i in range (0,n):\n",
    "    for j in range(0,n-i-1):\n",
    "        print(\"*\",end=\"\")\n",
    "    print()"
   ]
  }
 ],
 "metadata": {
  "kernelspec": {
   "display_name": "Python 3 (ipykernel)",
   "language": "python",
   "name": "python3"
  },
  "language_info": {
   "codemirror_mode": {
    "name": "ipython",
    "version": 3
   },
   "file_extension": ".py",
   "mimetype": "text/x-python",
   "name": "python",
   "nbconvert_exporter": "python",
   "pygments_lexer": "ipython3",
   "version": "3.10.8"
  }
 },
 "nbformat": 4,
 "nbformat_minor": 5
}
