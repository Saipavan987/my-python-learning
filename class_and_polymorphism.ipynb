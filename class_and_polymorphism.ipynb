{
  "nbformat": 4,
  "nbformat_minor": 0,
  "metadata": {
    "colab": {
      "provenance": []
    },
    "kernelspec": {
      "name": "python3",
      "display_name": "Python 3"
    },
    "language_info": {
      "name": "python"
    }
  },
  "cells": [
    {
      "cell_type": "markdown",
      "source": [
        "#### 1.creating class"
      ],
      "metadata": {
        "id": "cRJMpGjS_aiy"
      }
    },
    {
      "cell_type": "code",
      "execution_count": null,
      "metadata": {
        "colab": {
          "base_uri": "https://localhost:8080/"
        },
        "id": "Nc8UfvDQ6r-b",
        "outputId": "aab3cdd8-c5a2-485b-fb84-e910b0fa61eb"
      },
      "outputs": [
        {
          "output_type": "stream",
          "name": "stdout",
          "text": [
            "5\n"
          ]
        }
      ],
      "source": [
        "class pythonskills:\n",
        "  x=5\n",
        "p1=pythonskills()\n",
        "print(p1.x)"
      ]
    },
    {
      "cell_type": "markdown",
      "source": [
        "#### 2.class"
      ],
      "metadata": {
        "id": "qMv997Dy_Xcu"
      }
    },
    {
      "cell_type": "code",
      "source": [
        "class pythonskills2:\n",
        "\n",
        "  def  __init__(self,phone_number,email_id,student_id):\n",
        "\n",
        "   self.phone_number = phone_number\n",
        "   self.email_id = email_id\n",
        "   self.student_id = student_id\n",
        "\n",
        "  def return_student_details(self):\n",
        "    return self.phone_number, self.email_id, self.student_id\n",
        "\n"
      ],
      "metadata": {
        "id": "TLTx4xWL77TM"
      },
      "execution_count": null,
      "outputs": []
    },
    {
      "cell_type": "code",
      "source": [
        "sai = pythonskills2(65899556644,\"sai@gmail.com\",8564)"
      ],
      "metadata": {
        "id": "7V_IXjfo9uEI"
      },
      "execution_count": null,
      "outputs": []
    },
    {
      "cell_type": "code",
      "source": [
        "sai.phone_number"
      ],
      "metadata": {
        "colab": {
          "base_uri": "https://localhost:8080/"
        },
        "id": "TjUseQvE9_Vi",
        "outputId": "be30fd07-f134-4352-a83c-bac450ee21bb"
      },
      "execution_count": null,
      "outputs": [
        {
          "output_type": "execute_result",
          "data": {
            "text/plain": [
              "65899556644"
            ]
          },
          "metadata": {},
          "execution_count": 17
        }
      ]
    },
    {
      "cell_type": "code",
      "source": [
        "sai.email_id"
      ],
      "metadata": {
        "colab": {
          "base_uri": "https://localhost:8080/",
          "height": 35
        },
        "id": "k30Ekvrv_N9x",
        "outputId": "60028f3c-cc88-41ac-b04a-6560878fc1e4"
      },
      "execution_count": null,
      "outputs": [
        {
          "output_type": "execute_result",
          "data": {
            "text/plain": [
              "'sai@gmail.com'"
            ],
            "application/vnd.google.colaboratory.intrinsic+json": {
              "type": "string"
            }
          },
          "metadata": {},
          "execution_count": 18
        }
      ]
    },
    {
      "cell_type": "code",
      "source": [
        "sai.student_id"
      ],
      "metadata": {
        "colab": {
          "base_uri": "https://localhost:8080/"
        },
        "id": "6QMtPb23_QR-",
        "outputId": "0aba7f9b-f5bc-44d4-f5f5-1090b389f9da"
      },
      "execution_count": null,
      "outputs": [
        {
          "output_type": "execute_result",
          "data": {
            "text/plain": [
              "8564"
            ]
          },
          "metadata": {},
          "execution_count": 19
        }
      ]
    },
    {
      "cell_type": "markdown",
      "source": [
        "#### 3.class and objects"
      ],
      "metadata": {
        "id": "XslA2G7H_gOB"
      }
    },
    {
      "cell_type": "code",
      "source": [
        "class datascience:\n",
        "  def syllabus(sai):\n",
        "    print(\"this is my syllabus for data science\")\n",
        "\n",
        "class deeplearning:\n",
        "  def syllabus(sai):\n",
        "    print(\"this is my syllabus for deeplearning\")\n",
        "\n",
        "def classes(classobj):\n",
        "  for i in classobj:\n",
        "    i.syllabus()\n",
        "\n",
        "obj_datascience=datascience()\n",
        "obj_deeplearning=deeplearning()\n",
        "classobj=(obj_datascience,obj_deeplearning)\n",
        "classes(classobj)"
      ],
      "metadata": {
        "colab": {
          "base_uri": "https://localhost:8080/"
        },
        "id": "nt_FmTQu_hU3",
        "outputId": "d2f05f8c-b08b-4a0c-eaaf-f0ad402b2483"
      },
      "execution_count": null,
      "outputs": [
        {
          "output_type": "stream",
          "name": "stdout",
          "text": [
            "this is my syllabus for data science\n",
            "this is my syllabus for deeplearning\n"
          ]
        }
      ]
    },
    {
      "cell_type": "markdown",
      "source": [
        "#### 4.polymorphism"
      ],
      "metadata": {
        "id": "FQXEgLqSDKMw"
      }
    },
    {
      "cell_type": "code",
      "source": [
        "class car():\n",
        "  def __init__(self,brand,model):\n",
        "    self.brand=brand\n",
        "    self.model=model\n",
        "\n",
        "  def move(self):\n",
        "    print(\"drive\")\n",
        "\n",
        "class boat():\n",
        "  def __init__(self,brand,model):\n",
        "    self.brand=brand\n",
        "    self.model=model\n",
        "\n",
        "  def move(self):\n",
        "    print(\"sail\")\n",
        "\n",
        "class plane():\n",
        "  def __init__(self,brand,model):\n",
        "    self.brand=brand\n",
        "    self.model=model\n",
        "\n",
        "  def move(self):\n",
        "    print(\"fly\")\n",
        "\n",
        "car1=car(\"tata\",\"nexon\")\n",
        "boat1=boat(\"onepiece\",\"goingmarry\")\n",
        "plane1=plane(\"hindenburg\",\"5236\")\n",
        "\n",
        "for i in (car1,boat1,plane1):\n",
        "  print(i.brand)\n",
        "  print(i.model)\n",
        "  i.move()\n",
        "\n",
        "\n"
      ],
      "metadata": {
        "colab": {
          "base_uri": "https://localhost:8080/"
        },
        "id": "waXsTzGcDEUF",
        "outputId": "7f5db6ce-0fdd-4029-af3d-ccf11d1b758a"
      },
      "execution_count": null,
      "outputs": [
        {
          "output_type": "stream",
          "name": "stdout",
          "text": [
            "tata\n",
            "nexon\n",
            "drive\n",
            "onepiece\n",
            "goingmarry\n",
            "sail\n",
            "hindenburg\n",
            "5236\n",
            "fly\n"
          ]
        }
      ]
    },
    {
      "cell_type": "markdown",
      "source": [
        "#### 5.inheretence polymorphism"
      ],
      "metadata": {
        "id": "VuY6SndMKB_a"
      }
    },
    {
      "cell_type": "code",
      "source": [
        "class vehicle:\n",
        "  def __init__(self,brand,model):\n",
        "    self.brand=brand\n",
        "    self.model=model\n",
        "\n",
        "class car(vehicle):\n",
        "  def move(self):\n",
        "      print(\"move!\")\n",
        "\n",
        "class boat(vehicle):\n",
        "   def move(self):\n",
        "      print(\"sail!\")\n",
        "\n",
        "class plane(vehicle):\n",
        "  def move(self):\n",
        "      print(\"fly!\")\n",
        "\n",
        "car2=car(\"tata\",\"nexon\")\n",
        "boat2=boat(\"onepiece\",\"thousandssunny\")\n",
        "plane2=plane(\"indigo\",\"hindenburg\")\n",
        "\n",
        "for i in (car2,boat2,plane2):\n",
        "  print(i.brand)\n",
        "  print(i.model)\n",
        "  i.move()"
      ],
      "metadata": {
        "id": "6BPWIDuxEPvi",
        "colab": {
          "base_uri": "https://localhost:8080/"
        },
        "outputId": "9cf5cef5-97f8-4df6-b030-6f4a3e0d47be"
      },
      "execution_count": 1,
      "outputs": [
        {
          "output_type": "stream",
          "name": "stdout",
          "text": [
            "tata\n",
            "nexon\n",
            "move!\n",
            "onepiece\n",
            "thousandssunny\n",
            "sail!\n",
            "indigo\n",
            "hindenburg\n",
            "fly!\n"
          ]
        }
      ]
    },
    {
      "cell_type": "code",
      "source": [],
      "metadata": {
        "id": "JJws9MRaOcQB"
      },
      "execution_count": null,
      "outputs": []
    }
  ]
}