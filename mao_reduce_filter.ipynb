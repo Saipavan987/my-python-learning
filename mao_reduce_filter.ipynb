{
  "nbformat": 4,
  "nbformat_minor": 0,
  "metadata": {
    "colab": {
      "provenance": []
    },
    "kernelspec": {
      "name": "python3",
      "display_name": "Python 3"
    },
    "language_info": {
      "name": "python"
    }
  },
  "cells": [
    {
      "cell_type": "markdown",
      "source": [
        "# Map"
      ],
      "metadata": {
        "id": "T_eYCH4Y4L-Q"
      }
    },
    {
      "cell_type": "code",
      "source": [
        "#1\n",
        "l = [1,52,45,63,8,5,7,5,2]\n",
        "def sai(x):\n",
        "  return x*2\n",
        "list(map(sai,l))"
      ],
      "metadata": {
        "colab": {
          "base_uri": "https://localhost:8080/"
        },
        "id": "7qr9lJIk4OKT",
        "outputId": "01cdb883-b3bc-43ea-f4f3-9116d7998e19"
      },
      "execution_count": null,
      "outputs": [
        {
          "output_type": "execute_result",
          "data": {
            "text/plain": [
              "[2, 104, 90, 126, 16, 10, 14, 10, 4]"
            ]
          },
          "metadata": {},
          "execution_count": 3
        }
      ]
    },
    {
      "cell_type": "code",
      "source": [
        "#or\n",
        "list(map(lambda x : x*2,l))"
      ],
      "metadata": {
        "colab": {
          "base_uri": "https://localhost:8080/"
        },
        "id": "mQQbBEHh7EpI",
        "outputId": "d91dc526-d97c-45ea-c7ed-90809ccdb147"
      },
      "execution_count": null,
      "outputs": [
        {
          "output_type": "execute_result",
          "data": {
            "text/plain": [
              "[2, 104, 90, 126, 16, 10, 14, 10, 4]"
            ]
          },
          "metadata": {},
          "execution_count": 4
        }
      ]
    },
    {
      "cell_type": "code",
      "source": [
        "s=\"sai pavan mr\"\n",
        "som=list(map(lambda x: len(x),s))\n"
      ],
      "metadata": {
        "id": "o5zu_9rP7jxl"
      },
      "execution_count": null,
      "outputs": []
    },
    {
      "cell_type": "code",
      "source": [
        "print(som)"
      ],
      "metadata": {
        "colab": {
          "base_uri": "https://localhost:8080/"
        },
        "id": "T58r57kh7_hq",
        "outputId": "018a436b-ff79-4ad7-86c8-22ba95f0ec12"
      },
      "execution_count": null,
      "outputs": [
        {
          "output_type": "stream",
          "name": "stdout",
          "text": [
            "[1, 1, 1, 1, 1, 1, 1, 1, 1, 1, 1, 1]\n"
          ]
        }
      ]
    },
    {
      "cell_type": "markdown",
      "source": [
        "#### 1.upper case using map function"
      ],
      "metadata": {
        "id": "LX5hcXUcAoMh"
      }
    },
    {
      "cell_type": "code",
      "source": [
        "s = \"saipavanmr\"\n",
        "list(map(lambda x : x.upper(),s))"
      ],
      "metadata": {
        "id": "jy7b1KlTAr0G",
        "colab": {
          "base_uri": "https://localhost:8080/"
        },
        "outputId": "3da92575-c7b1-44c0-df4b-901aa5ade821"
      },
      "execution_count": null,
      "outputs": [
        {
          "output_type": "execute_result",
          "data": {
            "text/plain": [
              "['S', 'A', 'I', 'P', 'A', 'V', 'A', 'N', 'M', 'R']"
            ]
          },
          "metadata": {},
          "execution_count": 10
        }
      ]
    },
    {
      "cell_type": "markdown",
      "source": [
        "\n",
        "#### 2.add based on x and y"
      ],
      "metadata": {
        "id": "RmU1KXvPBRzH"
      }
    },
    {
      "cell_type": "code",
      "source": [
        "l1=[1,2,3,4,5]\n",
        "l2=[6,7,8,9,10]\n",
        "list(map(lambda x,y: x+y,l1,l2 ))"
      ],
      "metadata": {
        "id": "v-vLFUcWBaJQ",
        "colab": {
          "base_uri": "https://localhost:8080/"
        },
        "outputId": "5b0062dd-e8be-4e34-cf7e-2e38b1a67991"
      },
      "execution_count": null,
      "outputs": [
        {
          "output_type": "execute_result",
          "data": {
            "text/plain": [
              "[7, 9, 11, 13, 15]"
            ]
          },
          "metadata": {},
          "execution_count": 11
        }
      ]
    },
    {
      "cell_type": "markdown",
      "source": [
        "#### 3.triple all the numbers using map"
      ],
      "metadata": {
        "id": "K2RILiDpCWkW"
      }
    },
    {
      "cell_type": "code",
      "source": [
        "s=[2,52,65,85,112,4,5,6,3,5,5,8,2,2,2]\n",
        "list(map(lambda x : x+x+x , s))"
      ],
      "metadata": {
        "colab": {
          "base_uri": "https://localhost:8080/"
        },
        "id": "fjfImA7xCayH",
        "outputId": "4f6d70bc-4f83-4655-f635-bf44d4224582"
      },
      "execution_count": null,
      "outputs": [
        {
          "output_type": "execute_result",
          "data": {
            "text/plain": [
              "[6, 156, 195, 255, 336, 12, 15, 18, 9, 15, 15, 24, 6, 6, 6]"
            ]
          },
          "metadata": {},
          "execution_count": 12
        }
      ]
    },
    {
      "cell_type": "markdown",
      "source": [
        "#### 4.add three given list using map"
      ],
      "metadata": {
        "id": "LwonZnEDCtRc"
      }
    },
    {
      "cell_type": "code",
      "source": [
        "a =[1,2,3]\n",
        "b =[14,5,6]\n",
        "c =[7,8,99]\n",
        "list(map(lambda x,y,z:x+y+z, a,b,c))"
      ],
      "metadata": {
        "colab": {
          "base_uri": "https://localhost:8080/"
        },
        "id": "xkKBPPSFCyaq",
        "outputId": "37ce6653-19ad-4a58-f57c-84f54a6db987"
      },
      "execution_count": null,
      "outputs": [
        {
          "output_type": "execute_result",
          "data": {
            "text/plain": [
              "[22, 15, 108]"
            ]
          },
          "metadata": {},
          "execution_count": 13
        }
      ]
    },
    {
      "cell_type": "markdown",
      "source": [
        "### 5.use the corresponding no as the power"
      ],
      "metadata": {
        "id": "2nVIfX3aDZKh"
      }
    },
    {
      "cell_type": "code",
      "source": [
        "index = [1,2,3,4,5,6,7,8,9,10]\n",
        "power = [10,20,30,40,50,60,70,80,90,100]\n",
        "list(map(lambda x,y:x**y, index,power))"
      ],
      "metadata": {
        "colab": {
          "base_uri": "https://localhost:8080/"
        },
        "id": "pkA9Psm_Deh5",
        "outputId": "ec9282d0-70f5-44b5-d7c6-b0bb82edeeca"
      },
      "execution_count": null,
      "outputs": [
        {
          "output_type": "execute_result",
          "data": {
            "text/plain": [
              "[1,\n",
              " 1048576,\n",
              " 205891132094649,\n",
              " 1208925819614629174706176,\n",
              " 88817841970012523233890533447265625,\n",
              " 48873677980689257489322752273774603865660850176,\n",
              " 143503601609868434285603076356671071740077383739246066639249,\n",
              " 1766847064778384329583297500742918515827483896875618958121606201292619776,\n",
              " 76177348045866392339289727720615561750424801402395196724001565744957137343033038019601,\n",
              " 10000000000000000000000000000000000000000000000000000000000000000000000000000000000000000000000000000]"
            ]
          },
          "metadata": {},
          "execution_count": 14
        }
      ]
    },
    {
      "cell_type": "markdown",
      "source": [
        "#### 6.opposite the above value"
      ],
      "metadata": {
        "id": "vRL2rVanD91H"
      }
    },
    {
      "cell_type": "code",
      "source": [
        "index = [10,20,30,40,50,60,70,80,90,100]\n",
        "power = [1,2,3,4,5,6,7,8,9,10]\n",
        "list(map(lambda x,y:x**y, index,power))"
      ],
      "metadata": {
        "colab": {
          "base_uri": "https://localhost:8080/"
        },
        "id": "EgQFA61iED-B",
        "outputId": "4d85b310-85b6-4787-e214-d4cd21088155"
      },
      "execution_count": null,
      "outputs": [
        {
          "output_type": "execute_result",
          "data": {
            "text/plain": [
              "[10,\n",
              " 400,\n",
              " 27000,\n",
              " 2560000,\n",
              " 312500000,\n",
              " 46656000000,\n",
              " 8235430000000,\n",
              " 1677721600000000,\n",
              " 387420489000000000,\n",
              " 100000000000000000000]"
            ]
          },
          "metadata": {},
          "execution_count": 15
        }
      ]
    },
    {
      "cell_type": "markdown",
      "source": [
        "#### 7.square the given value"
      ],
      "metadata": {
        "id": "_0sm6EW_EhJv"
      }
    },
    {
      "cell_type": "code",
      "source": [
        "sqr = [2,50,62,4,5,852]\n",
        "list(map(lambda x:x*x, sqr))"
      ],
      "metadata": {
        "colab": {
          "base_uri": "https://localhost:8080/"
        },
        "id": "KyR5-iVWEkdy",
        "outputId": "7693be52-34e5-4543-a3d4-5538a8baea30"
      },
      "execution_count": null,
      "outputs": [
        {
          "output_type": "execute_result",
          "data": {
            "text/plain": [
              "[4, 2500, 3844, 16, 25, 725904]"
            ]
          },
          "metadata": {},
          "execution_count": 16
        }
      ]
    },
    {
      "cell_type": "markdown",
      "source": [
        "#### 7,simplify and covert the value from tuple to and integer"
      ],
      "metadata": {
        "id": "--p9w_r3FQcM"
      }
    },
    {
      "cell_type": "code",
      "source": [
        "family = [(\"sai pavan\",\"25/01/2000\",\"70kg\"),(\"sevanthi\",\"17/08/2000\",\"50kg\")]\n",
        "name= list(map(lambda x:x[0], family))\n",
        "dob= list(map(lambda x:x[1], family))\n",
        "weight= list(map(lambda x:int(x[2][:-2]), family))\n",
        "print(name)\n",
        "print(dob)\n",
        "print(weight)"
      ],
      "metadata": {
        "colab": {
          "base_uri": "https://localhost:8080/"
        },
        "id": "LmgqmwY1FW4u",
        "outputId": "50ab02f1-685f-40c9-e615-f5a92e711312"
      },
      "execution_count": null,
      "outputs": [
        {
          "output_type": "stream",
          "name": "stdout",
          "text": [
            "['sai pavan', 'sevanthi']\n",
            "['25/01/2000', '17/08/2000']\n",
            "[70, 50]\n"
          ]
        }
      ]
    },
    {
      "cell_type": "markdown",
      "source": [
        "#### 8.fibonacci"
      ],
      "metadata": {
        "id": "YmwZ1tWhh5E2"
      }
    },
    {
      "cell_type": "code",
      "source": [
        "import itertools\n",
        "n=10\n",
        "def fibo_(x=0,y=1):\n",
        "  yield x\n",
        "  while True:\n",
        "    yield y\n",
        "    x,y=y,x+y\n",
        "print(\"first fibonacci_num\")\n",
        "res=list(itertools.islice(fibo_(),n))\n",
        "print(res)\n",
        "squar=lambda x:x*x\n",
        "print(\"\\nafter squaring\")\n",
        "print(list(map(squar,res)))"
      ],
      "metadata": {
        "colab": {
          "base_uri": "https://localhost:8080/"
        },
        "id": "_okdMT8hh8yG",
        "outputId": "7e29dde9-f758-4516-aafc-e9af0a6323de"
      },
      "execution_count": 5,
      "outputs": [
        {
          "output_type": "stream",
          "name": "stdout",
          "text": [
            "first fibonacci_num\n",
            "[0, 1, 1, 2, 3, 5, 8, 13, 21, 34]\n",
            "\n",
            "after squaring\n",
            "[0, 1, 1, 4, 9, 25, 64, 169, 441, 1156]\n"
          ]
        }
      ]
    },
    {
      "cell_type": "markdown",
      "source": [
        "# reduce function"
      ],
      "metadata": {
        "id": "zKs2UruVkKgI"
      }
    },
    {
      "cell_type": "code",
      "source": [
        "l = [20,85,46,524,456,21456,8564,8524,5462]"
      ],
      "metadata": {
        "id": "aQdS1qTXpZxK"
      },
      "execution_count": 6,
      "outputs": []
    },
    {
      "cell_type": "code",
      "source": [
        "from functools import reduce\n",
        "reduce(lambda x,y:x+y,l)"
      ],
      "metadata": {
        "colab": {
          "base_uri": "https://localhost:8080/"
        },
        "id": "RFW5KhQcplG4",
        "outputId": "ac6b999a-b319-4d01-c88a-c2d5c1338271"
      },
      "execution_count": 26,
      "outputs": [
        {
          "output_type": "execute_result",
          "data": {
            "text/plain": [
              "771263"
            ]
          },
          "metadata": {},
          "execution_count": 26
        }
      ]
    },
    {
      "cell_type": "code",
      "source": [
        "l= [85,5624,8855,4443,25,4,8,5,752214]"
      ],
      "metadata": {
        "id": "ERuIsJWqps1z"
      },
      "execution_count": 18,
      "outputs": []
    },
    {
      "cell_type": "code",
      "source": [
        "l=[85,65,775,225,665,8965]\n",
        "from functools import reduce\n",
        "reduce(lambda x,y:x if x>y else y,l)"
      ],
      "metadata": {
        "colab": {
          "base_uri": "https://localhost:8080/"
        },
        "id": "S5_ElsIwqLfK",
        "outputId": "ef3a7440-add3-423f-e4cc-6ae890560267"
      },
      "execution_count": 32,
      "outputs": [
        {
          "output_type": "execute_result",
          "data": {
            "text/plain": [
              "8965"
            ]
          },
          "metadata": {},
          "execution_count": 32
        }
      ]
    },
    {
      "cell_type": "markdown",
      "source": [
        "# filter function"
      ],
      "metadata": {
        "id": "jmPJPfqVsHi6"
      }
    },
    {
      "cell_type": "code",
      "source": [
        "# filter only odd num\n",
        "odd = [1,2,3,4,5,6,7,8,9,10,12,13,45,65,85,4,5,2,52,45,26,35,75,85,96,5,5,52]\n",
        "list(filter(lambda x:x%2!=0,odd))"
      ],
      "metadata": {
        "colab": {
          "base_uri": "https://localhost:8080/"
        },
        "id": "ANVnIF-SsKZA",
        "outputId": "816dc078-ca13-46c8-ff7e-2a8cf3dc07fd"
      },
      "execution_count": 35,
      "outputs": [
        {
          "output_type": "execute_result",
          "data": {
            "text/plain": [
              "[1, 3, 5, 7, 9, 13, 45, 65, 85, 5, 45, 35, 75, 85, 5, 5]"
            ]
          },
          "metadata": {},
          "execution_count": 35
        }
      ]
    },
    {
      "cell_type": "code",
      "source": [
        "even = [1,2,3,4,5,6,5,4,7,8,9,5,6,3,2,11,55,22,444,663,888,55422,88,55,44,77,66333,88,]\n",
        "list(filter(lambda x:x%2==0,even))"
      ],
      "metadata": {
        "colab": {
          "base_uri": "https://localhost:8080/"
        },
        "id": "O_yzbeOYvOTO",
        "outputId": "3e622d1c-a9d2-446a-8280-0189daafabe1"
      },
      "execution_count": 36,
      "outputs": [
        {
          "output_type": "execute_result",
          "data": {
            "text/plain": [
              "[2, 4, 6, 4, 8, 6, 2, 22, 444, 888, 55422, 88, 44, 88]"
            ]
          },
          "metadata": {},
          "execution_count": 36
        }
      ]
    },
    {
      "cell_type": "code",
      "source": [
        "# which are greater than zero\n",
        "zero = [1,-2,-3,-5,-6,-5,0,4,5,6,3,2,1,7,8,9,6,5,2]\n",
        "list(filter(lambda x:x>0,zero))"
      ],
      "metadata": {
        "colab": {
          "base_uri": "https://localhost:8080/"
        },
        "id": "6d3zbP3FvtjN",
        "outputId": "19c3aeae-5602-4126-a97b-dc17f82705bd"
      },
      "execution_count": 37,
      "outputs": [
        {
          "output_type": "execute_result",
          "data": {
            "text/plain": [
              "[1, 4, 5, 6, 3, 2, 1, 7, 8, 9, 6, 5, 2]"
            ]
          },
          "metadata": {},
          "execution_count": 37
        }
      ]
    },
    {
      "cell_type": "code",
      "source": [
        "list(filter(lambda x:x<0,zero))"
      ],
      "metadata": {
        "colab": {
          "base_uri": "https://localhost:8080/"
        },
        "id": "uFat_8bcwD0m",
        "outputId": "be29644d-5b82-4eea-d4ea-ebcb0873647c"
      },
      "execution_count": 39,
      "outputs": [
        {
          "output_type": "execute_result",
          "data": {
            "text/plain": [
              "[-2, -3, -5, -6, -5]"
            ]
          },
          "metadata": {},
          "execution_count": 39
        }
      ]
    },
    {
      "cell_type": "code",
      "source": [
        "# filter the words\n",
        "word = [\"saipavan\",\"sevanthi\",\"mobile\",\"jhfjhk\",\"d\",\"hdgfksjdehdh\",\"gfhdj\",\"kfjgh\"]\n",
        "list(filter(lambda x: len(x)>5,word))"
      ],
      "metadata": {
        "colab": {
          "base_uri": "https://localhost:8080/"
        },
        "id": "a1_h5ewAwJ4o",
        "outputId": "358821e1-314e-4691-c0a9-f72d82d7fc55"
      },
      "execution_count": 41,
      "outputs": [
        {
          "output_type": "execute_result",
          "data": {
            "text/plain": [
              "['saipavan', 'sevanthi', 'mobile', 'jhfjhk', 'hdgfksjdehdh']"
            ]
          },
          "metadata": {},
          "execution_count": 41
        }
      ]
    },
    {
      "cell_type": "code",
      "source": [
        "list(filter(lambda x: len(x)<5,word))"
      ],
      "metadata": {
        "colab": {
          "base_uri": "https://localhost:8080/"
        },
        "id": "NYw4NC13wtw0",
        "outputId": "66c99b4c-b13d-4399-b75e-834b23205b70"
      },
      "execution_count": 42,
      "outputs": [
        {
          "output_type": "execute_result",
          "data": {
            "text/plain": [
              "['d']"
            ]
          },
          "metadata": {},
          "execution_count": 42
        }
      ]
    },
    {
      "cell_type": "code",
      "source": [],
      "metadata": {
        "id": "jRDOoRk3w2fN"
      },
      "execution_count": null,
      "outputs": []
    }
  ]
}