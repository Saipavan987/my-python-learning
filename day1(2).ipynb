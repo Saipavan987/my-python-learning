{
 "cells": [
  {
   "cell_type": "markdown",
   "id": "ba65e845-d25a-4b24-9438-b1bd5f23982b",
   "metadata": {},
   "source": [
    "# ipynd-interactive python notebook"
   ]
  },
  {
   "cell_type": "markdown",
   "id": "45020432-b6fc-4363-8b94-b8f45e2f581a",
   "metadata": {},
   "source": [
    "## variable assignments"
   ]
  },
  {
   "cell_type": "code",
   "execution_count": 1,
   "id": "c40430fb-daa6-480d-a4ab-69bd62c6f151",
   "metadata": {},
   "outputs": [],
   "source": [
    "name = \"sai pavan\"\n",
    "std = 10"
   ]
  },
  {
   "cell_type": "code",
   "execution_count": 2,
   "id": "1f047afa-0b1d-4532-8afd-ad96688f8dba",
   "metadata": {},
   "outputs": [
    {
     "data": {
      "text/plain": [
       "'sai pavan'"
      ]
     },
     "execution_count": 2,
     "metadata": {},
     "output_type": "execute_result"
    }
   ],
   "source": [
    "name"
   ]
  },
  {
   "cell_type": "code",
   "execution_count": 4,
   "id": "1d545b9e-3c1f-4ded-80f0-51bf8e0bcb35",
   "metadata": {},
   "outputs": [
    {
     "data": {
      "text/plain": [
       "10"
      ]
     },
     "execution_count": 4,
     "metadata": {},
     "output_type": "execute_result"
    }
   ],
   "source": [
    "std"
   ]
  },
  {
   "cell_type": "code",
   "execution_count": 6,
   "id": "b8f8c8cd-9193-4511-b9f6-2507309efe24",
   "metadata": {},
   "outputs": [
    {
     "data": {
      "text/plain": [
       "str"
      ]
     },
     "execution_count": 6,
     "metadata": {},
     "output_type": "execute_result"
    }
   ],
   "source": [
    "type(name)"
   ]
  },
  {
   "cell_type": "code",
   "execution_count": 8,
   "id": "e747caa3-4f96-4a5a-a136-f377e403c62c",
   "metadata": {},
   "outputs": [
    {
     "data": {
      "text/plain": [
       "int"
      ]
     },
     "execution_count": 8,
     "metadata": {},
     "output_type": "execute_result"
    }
   ],
   "source": [
    "type(std)"
   ]
  },
  {
   "cell_type": "markdown",
   "id": "ea3993c5-895b-4696-a47f-0c1cc0a395a8",
   "metadata": {},
   "source": [
    "### overwriting of data"
   ]
  },
  {
   "cell_type": "code",
   "execution_count": 9,
   "id": "73839fa9-be71-4c0a-9c12-0597dc0ea6ba",
   "metadata": {},
   "outputs": [],
   "source": [
    "name = \"sai vinay\"\n",
    "name = \"MR Ravi\"\n",
    "std = 63\n",
    "std = 859"
   ]
  },
  {
   "cell_type": "code",
   "execution_count": 11,
   "id": "c639f9d9-40a2-455b-a347-9543ebdd7bbc",
   "metadata": {},
   "outputs": [
    {
     "data": {
      "text/plain": [
       "'MR Ravi'"
      ]
     },
     "execution_count": 11,
     "metadata": {},
     "output_type": "execute_result"
    }
   ],
   "source": [
    "name"
   ]
  },
  {
   "cell_type": "code",
   "execution_count": 13,
   "id": "b96c5fba-6a8a-4bbf-9e33-9852bc21f586",
   "metadata": {},
   "outputs": [
    {
     "data": {
      "text/plain": [
       "859"
      ]
     },
     "execution_count": 13,
     "metadata": {},
     "output_type": "execute_result"
    }
   ],
   "source": [
    "std"
   ]
  },
  {
   "cell_type": "markdown",
   "id": "d5abc353-7c6c-438b-bf17-92d29a4e0dfa",
   "metadata": {},
   "source": [
    "### type function"
   ]
  },
  {
   "cell_type": "code",
   "execution_count": 27,
   "id": "7f48d288-130d-4140-b898-f78058910d34",
   "metadata": {},
   "outputs": [],
   "source": [
    "a = 658\n",
    "b = \"sai pavan mr\"\n",
    "c = 856.8521\n",
    "d = (6+8j)"
   ]
  },
  {
   "cell_type": "code",
   "execution_count": 17,
   "id": "ec7d198d-34a7-4c75-9013-30db2f052f64",
   "metadata": {},
   "outputs": [
    {
     "data": {
      "text/plain": [
       "658"
      ]
     },
     "execution_count": 17,
     "metadata": {},
     "output_type": "execute_result"
    }
   ],
   "source": [
    "a"
   ]
  },
  {
   "cell_type": "code",
   "execution_count": 19,
   "id": "4b8cea11-bc9d-430b-97d2-cf00a77bcaad",
   "metadata": {},
   "outputs": [
    {
     "data": {
      "text/plain": [
       "'sai pavan mr'"
      ]
     },
     "execution_count": 19,
     "metadata": {},
     "output_type": "execute_result"
    }
   ],
   "source": [
    "b"
   ]
  },
  {
   "cell_type": "code",
   "execution_count": 22,
   "id": "460bce20-a78f-4557-8fbe-8d010984d389",
   "metadata": {},
   "outputs": [
    {
     "data": {
      "text/plain": [
       "856.8521"
      ]
     },
     "execution_count": 22,
     "metadata": {},
     "output_type": "execute_result"
    }
   ],
   "source": [
    "c"
   ]
  },
  {
   "cell_type": "markdown",
   "id": "550b7ad7-0a30-4a4a-9f2d-ce996ffa317b",
   "metadata": {},
   "source": [
    "d"
   ]
  },
  {
   "cell_type": "code",
   "execution_count": 32,
   "id": "2e5b8a53-2d11-4c98-80af-94c489d6652c",
   "metadata": {},
   "outputs": [
    {
     "data": {
      "text/plain": [
       "int"
      ]
     },
     "execution_count": 32,
     "metadata": {},
     "output_type": "execute_result"
    }
   ],
   "source": [
    "type(a)"
   ]
  },
  {
   "cell_type": "code",
   "execution_count": 34,
   "id": "6b430cca-b2e2-41b3-85e9-fcf05bbba86c",
   "metadata": {},
   "outputs": [
    {
     "data": {
      "text/plain": [
       "str"
      ]
     },
     "execution_count": 34,
     "metadata": {},
     "output_type": "execute_result"
    }
   ],
   "source": [
    "type(b)"
   ]
  },
  {
   "cell_type": "code",
   "execution_count": 37,
   "id": "344377a1-56ac-4752-b8a5-d47cc1e0cf95",
   "metadata": {},
   "outputs": [
    {
     "data": {
      "text/plain": [
       "float"
      ]
     },
     "execution_count": 37,
     "metadata": {},
     "output_type": "execute_result"
    }
   ],
   "source": [
    "type(c)"
   ]
  },
  {
   "cell_type": "code",
   "execution_count": 39,
   "id": "1c8ecffe-1d40-46df-9de9-6bd185acef34",
   "metadata": {},
   "outputs": [
    {
     "data": {
      "text/plain": [
       "complex"
      ]
     },
     "execution_count": 39,
     "metadata": {},
     "output_type": "execute_result"
    }
   ],
   "source": [
    "type(d)"
   ]
  },
  {
   "cell_type": "code",
   "execution_count": 44,
   "id": "3e36b8c4-95f4-407d-804a-61fa11b4a301",
   "metadata": {},
   "outputs": [
    {
     "data": {
      "text/plain": [
       "8.0"
      ]
     },
     "execution_count": 44,
     "metadata": {},
     "output_type": "execute_result"
    }
   ],
   "source": [
    "d.imag"
   ]
  },
  {
   "cell_type": "code",
   "execution_count": null,
   "id": "523cdb3e-46d8-41bf-9d6a-bdd3d0d23b7c",
   "metadata": {},
   "outputs": [],
   "source": [
    "d.real"
   ]
  },
  {
   "cell_type": "markdown",
   "id": "68cfb01d-4190-473f-9e89-4350f3476b3a",
   "metadata": {},
   "source": [
    "#### boolian function"
   ]
  },
  {
   "cell_type": "code",
   "execution_count": 48,
   "id": "a4011c20-5ec5-423d-90a6-6dcc322fcd12",
   "metadata": {},
   "outputs": [
    {
     "data": {
      "text/plain": [
       "False"
      ]
     },
     "execution_count": 48,
     "metadata": {},
     "output_type": "execute_result"
    }
   ],
   "source": [
    "1+2==5"
   ]
  },
  {
   "cell_type": "code",
   "execution_count": 54,
   "id": "8b134d53-4744-4ea1-a663-20b6e168d638",
   "metadata": {},
   "outputs": [
    {
     "data": {
      "text/plain": [
       "True"
      ]
     },
     "execution_count": 54,
     "metadata": {},
     "output_type": "execute_result"
    }
   ],
   "source": [
    "1+2==3"
   ]
  },
  {
   "cell_type": "markdown",
   "id": "1c9842cc-bc61-4554-880e-0be71bd0e661",
   "metadata": {},
   "source": [
    "#### concatination"
   ]
  },
  {
   "cell_type": "code",
   "execution_count": 56,
   "id": "26ef6553-492b-4fdf-9247-545b4e484ac2",
   "metadata": {},
   "outputs": [
    {
     "data": {
      "text/plain": [
       "'11'"
      ]
     },
     "execution_count": 56,
     "metadata": {},
     "output_type": "execute_result"
    }
   ],
   "source": [
    "\"1\" + \"1\""
   ]
  },
  {
   "cell_type": "code",
   "execution_count": 59,
   "id": "dca26080-ac49-4df1-baf9-f7347f32b514",
   "metadata": {},
   "outputs": [
    {
     "data": {
      "text/plain": [
       "2"
      ]
     },
     "execution_count": 59,
     "metadata": {},
     "output_type": "execute_result"
    }
   ],
   "source": [
    "1+1"
   ]
  },
  {
   "cell_type": "markdown",
   "id": "f8522822-7f80-404b-9073-c90d43b826d5",
   "metadata": {},
   "source": [
    "\"1\" + abcd"
   ]
  },
  {
   "cell_type": "code",
   "execution_count": 63,
   "id": "9bca4b4b-5523-414d-a1fc-d5831d769d6f",
   "metadata": {},
   "outputs": [
    {
     "ename": "TypeError",
     "evalue": "can only concatenate str (not \"int\") to str",
     "output_type": "error",
     "traceback": [
      "\u001b[0;31m---------------------------------------------------------------------------\u001b[0m",
      "\u001b[0;31mTypeError\u001b[0m                                 Traceback (most recent call last)",
      "Cell \u001b[0;32mIn[63], line 1\u001b[0m\n\u001b[0;32m----> 1\u001b[0m \u001b[38;5;124;43m\"\u001b[39;49m\u001b[38;5;124;43m1\u001b[39;49m\u001b[38;5;124;43m\"\u001b[39;49m\u001b[43m \u001b[49m\u001b[38;5;241;43m+\u001b[39;49m\u001b[43m \u001b[49m\u001b[38;5;241;43m1\u001b[39;49m\n",
      "\u001b[0;31mTypeError\u001b[0m: can only concatenate str (not \"int\") to str"
     ]
    }
   ],
   "source": [
    "\"1\" + 1"
   ]
  },
  {
   "cell_type": "code",
   "execution_count": 64,
   "id": "bb5bd96f-61db-43d2-b0ef-908eae98ef3a",
   "metadata": {},
   "outputs": [
    {
     "data": {
      "text/plain": [
       "'1111111111111111111111111111111111111111111111111111111111111111111111111111111111111111111111111111'"
      ]
     },
     "execution_count": 64,
     "metadata": {},
     "output_type": "execute_result"
    }
   ],
   "source": [
    "\"1\" * 100 "
   ]
  },
  {
   "cell_type": "code",
   "execution_count": 66,
   "id": "a0e5b88b-44db-4e28-8836-d4f258ef1bc1",
   "metadata": {},
   "outputs": [
    {
     "data": {
      "text/plain": [
       "'22222222222222222222222222222222222222222222222222222222222222222222222222222222222222222222222222222222222222222222222222222222222222222222222222222222222222222222222222222222222222222222222222222222'"
      ]
     },
     "execution_count": 66,
     "metadata": {},
     "output_type": "execute_result"
    }
   ],
   "source": [
    "\"2\" * 200"
   ]
  },
  {
   "cell_type": "markdown",
   "id": "91364aba-6699-4da3-87b4-bb420f9daf5c",
   "metadata": {},
   "source": [
    "### typecasting"
   ]
  },
  {
   "cell_type": "code",
   "execution_count": 68,
   "id": "12649c80-c93a-4ce5-90df-9244b60458f6",
   "metadata": {},
   "outputs": [],
   "source": [
    "a = 25+85==95"
   ]
  },
  {
   "cell_type": "markdown",
   "id": "158afbd1-72d9-474a-acf9-8bc9c71f11e4",
   "metadata": {},
   "source": [
    "type(a)"
   ]
  },
  {
   "cell_type": "code",
   "execution_count": 71,
   "id": "897acb88-2b59-4876-ad5f-fc9e7ba59dfb",
   "metadata": {},
   "outputs": [],
   "source": [
    "b=25"
   ]
  },
  {
   "cell_type": "code",
   "execution_count": 73,
   "id": "6e0ba65c-60a0-4166-97ce-b49e68a934b9",
   "metadata": {},
   "outputs": [
    {
     "data": {
      "text/plain": [
       "int"
      ]
     },
     "execution_count": 73,
     "metadata": {},
     "output_type": "execute_result"
    }
   ],
   "source": [
    "type(b)"
   ]
  },
  {
   "cell_type": "code",
   "execution_count": 75,
   "id": "949108a4-891b-4bd1-af9f-a6334da46226",
   "metadata": {},
   "outputs": [
    {
     "data": {
      "text/plain": [
       "float"
      ]
     },
     "execution_count": 75,
     "metadata": {},
     "output_type": "execute_result"
    }
   ],
   "source": [
    "type(c)"
   ]
  },
  {
   "cell_type": "code",
   "execution_count": 77,
   "id": "90e07978-d3cc-48d8-95e5-fd093f73ad1b",
   "metadata": {},
   "outputs": [],
   "source": [
    "c= \" sai\""
   ]
  },
  {
   "cell_type": "code",
   "execution_count": 79,
   "id": "99220c41-a4e6-45ee-bd0d-c020294dc1b2",
   "metadata": {},
   "outputs": [
    {
     "data": {
      "text/plain": [
       "str"
      ]
     },
     "execution_count": 79,
     "metadata": {},
     "output_type": "execute_result"
    }
   ],
   "source": [
    "type(c)"
   ]
  },
  {
   "cell_type": "code",
   "execution_count": 81,
   "id": "9acfffcb-cf8d-47e9-a862-fa8f583c37bc",
   "metadata": {},
   "outputs": [
    {
     "data": {
      "text/plain": [
       "138"
      ]
     },
     "execution_count": 81,
     "metadata": {},
     "output_type": "execute_result"
    }
   ],
   "source": [
    "52+86"
   ]
  },
  {
   "cell_type": "code",
   "execution_count": 83,
   "id": "a0bfa518-2b79-47de-99b0-adc087a38e01",
   "metadata": {},
   "outputs": [
    {
     "data": {
      "text/plain": [
       "int"
      ]
     },
     "execution_count": 83,
     "metadata": {},
     "output_type": "execute_result"
    }
   ],
   "source": [
    "type(138)"
   ]
  },
  {
   "cell_type": "markdown",
   "id": "dc6f4a03-39fd-4e9e-8479-3668d44ede5b",
   "metadata": {},
   "source": [
    "### print"
   ]
  },
  {
   "cell_type": "code",
   "execution_count": 84,
   "id": "d0d15775-c5d2-4d23-9b89-65ca4bcc3f89",
   "metadata": {},
   "outputs": [],
   "source": [
    "age = 24\n",
    "name = \"sai pavan mr\"\n",
    "degree = \"BE in Mechanical Engineering\""
   ]
  },
  {
   "cell_type": "code",
   "execution_count": 87,
   "id": "3bfd8ca8-50ce-4413-93ff-84c07194710c",
   "metadata": {},
   "outputs": [
    {
     "name": "stdout",
     "output_type": "stream",
     "text": [
      "my name is sai pavan mr and my age is 24 i have completed my degree is BE in Mechanical Engineering\n"
     ]
    }
   ],
   "source": [
    "print(\"my name is {} and my age is {} i have completed my degree is {}\" .format(name,age,degree))"
   ]
  },
  {
   "cell_type": "code",
   "execution_count": 3,
   "id": "4c3902fa-0977-4081-944c-4c0c29c9cdaf",
   "metadata": {},
   "outputs": [
    {
     "ename": "NameError",
     "evalue": "name 'name' is not defined",
     "output_type": "error",
     "traceback": [
      "\u001b[0;31m---------------------------------------------------------------------------\u001b[0m",
      "\u001b[0;31mNameError\u001b[0m                                 Traceback (most recent call last)",
      "Cell \u001b[0;32mIn[3], line 1\u001b[0m\n\u001b[0;32m----> 1\u001b[0m \u001b[38;5;28mprint\u001b[39m(\u001b[38;5;124mf\u001b[39m\u001b[38;5;124m\"\u001b[39m\u001b[38;5;124mmy name is \u001b[39m\u001b[38;5;132;01m{\u001b[39;00m\u001b[43mname\u001b[49m\u001b[38;5;132;01m}\u001b[39;00m\u001b[38;5;124m and my age is \u001b[39m\u001b[38;5;132;01m{\u001b[39;00mage\u001b[38;5;132;01m}\u001b[39;00m\u001b[38;5;124m i have completed my degree in \u001b[39m\u001b[38;5;132;01m{\u001b[39;00mdegree\u001b[38;5;132;01m}\u001b[39;00m\u001b[38;5;124m\"\u001b[39m)\n",
      "\u001b[0;31mNameError\u001b[0m: name 'name' is not defined"
     ]
    }
   ],
   "source": [
    "print(f\"my name is {name} and my age is {age} i have completed my degree in {degree}\")"
   ]
  },
  {
   "cell_type": "code",
   "execution_count": 6,
   "id": "c9765443-dcd5-497d-9493-09cf01b3aa52",
   "metadata": {},
   "outputs": [
    {
     "name": "stdin",
     "output_type": "stream",
     "text": [
      "enter the age 23\n"
     ]
    }
   ],
   "source": [
    "age = int(input(\"enter the age\"))"
   ]
  },
  {
   "cell_type": "code",
   "execution_count": 8,
   "id": "702e9650-997b-4ff0-aacb-1156771866ae",
   "metadata": {},
   "outputs": [
    {
     "data": {
      "text/plain": [
       "23"
      ]
     },
     "execution_count": 8,
     "metadata": {},
     "output_type": "execute_result"
    }
   ],
   "source": [
    "age"
   ]
  },
  {
   "cell_type": "code",
   "execution_count": 12,
   "id": "82eb7ab8-a129-458b-bfab-db4ab7ba8b5b",
   "metadata": {},
   "outputs": [
    {
     "name": "stdout",
     "output_type": "stream",
     "text": [
      "my name is between this two\n"
     ]
    }
   ],
   "source": [
    "age = 23\n",
    "if age>=18 and age<=32:\n",
    "    print(\"my name is between this two\")"
   ]
  },
  {
   "cell_type": "code",
   "execution_count": 16,
   "id": "3b003ef3-cf21-4a07-b5fa-4d57cb86b9fe",
   "metadata": {},
   "outputs": [
    {
     "name": "stdout",
     "output_type": "stream",
     "text": [
      "print the message that iam young blood\n"
     ]
    }
   ],
   "source": [
    "age=23\n",
    "if age>=18 and age<=45:\n",
    "    print(\"print the message that iam young blood\")"
   ]
  },
  {
   "cell_type": "code",
   "execution_count": 21,
   "id": "bf52b358-ac78-41e7-a5b9-1995525d0a63",
   "metadata": {},
   "outputs": [
    {
     "name": "stdin",
     "output_type": "stream",
     "text": [
      "enter the age 23\n"
     ]
    },
    {
     "name": "stdout",
     "output_type": "stream",
     "text": [
      "you are young blood\n"
     ]
    }
   ],
   "source": [
    "age= int(input(\"enter the age\"))\n",
    "if age>=18 and age<=45:\n",
    "    print(\"you are young blood\")"
   ]
  },
  {
   "cell_type": "code",
   "execution_count": 22,
   "id": "cbc928a3-26c7-4bda-88db-5b7a54c741ca",
   "metadata": {},
   "outputs": [
    {
     "name": "stdin",
     "output_type": "stream",
     "text": [
      "enter the age 65\n"
     ]
    },
    {
     "name": "stdout",
     "output_type": "stream",
     "text": [
      "thank you your application is rejected\n"
     ]
    }
   ],
   "source": [
    "age= int(input(\"enter the age\"))\n",
    "if age>=18 and age<=45:\n",
    "    print(\"you are young blood\")\n",
    "else:\n",
    "    print(\"thank you your application is rejected\")"
   ]
  },
  {
   "cell_type": "code",
   "execution_count": 24,
   "id": "e6624abc-7bdb-445d-9adc-302c91d2eb9b",
   "metadata": {},
   "outputs": [
    {
     "name": "stdin",
     "output_type": "stream",
     "text": [
      "enter the age 23\n"
     ]
    },
    {
     "name": "stdout",
     "output_type": "stream",
     "text": [
      "you are young blood\n"
     ]
    }
   ],
   "source": [
    "age= int(input(\"enter the age\"))\n",
    "if age>=18 and age<=45:\n",
    "    print(\"you are young blood\")\n",
    "else:\n",
    "    print(\"thank you your application is rejected\")"
   ]
  },
  {
   "cell_type": "code",
   "execution_count": 41,
   "id": "078eed79-2375-4c39-9160-f10003594280",
   "metadata": {},
   "outputs": [
    {
     "name": "stdin",
     "output_type": "stream",
     "text": [
      "enter the product price 10000\n"
     ]
    },
    {
     "name": "stdout",
     "output_type": "stream",
     "text": [
      "price of the product is 8000.0\n"
     ]
    }
   ],
   "source": [
    "product_price=int(input(\"enter the product price\"))\n",
    "if product_price>1000:\n",
    "    print(\"price of the product is {}\".format(product_price*0.8))\n",
    "else:\n",
    "    print(\"price of the product is {}\".format(product_price*0.7))"
   ]
  },
  {
   "cell_type": "code",
   "execution_count": 42,
   "id": "fbae173c-7872-4832-b042-f2e8f1e2aa20",
   "metadata": {},
   "outputs": [
    {
     "name": "stdin",
     "output_type": "stream",
     "text": [
      "enter the product price 800\n"
     ]
    },
    {
     "name": "stdout",
     "output_type": "stream",
     "text": [
      "price of the product is 560.0\n"
     ]
    }
   ],
   "source": [
    "product_price=int(input(\"enter the product price\"))\n",
    "if product_price>1000:\n",
    "    print(\"price of the product is {}\".format(product_price*0.8))\n",
    "else:\n",
    "    print(\"price of the product is {}\".format(product_price*0.7))"
   ]
  },
  {
   "cell_type": "code",
   "execution_count": 45,
   "id": "924503fe-f98d-4361-b3fc-f8ec6621e545",
   "metadata": {},
   "outputs": [
    {
     "name": "stdin",
     "output_type": "stream",
     "text": [
      "enter the product price 2500\n"
     ]
    },
    {
     "name": "stdout",
     "output_type": "stream",
     "text": [
      "price of the product is 1750.0\n"
     ]
    }
   ],
   "source": [
    "product_price=int(input(\"enter the product price\"))\n",
    "if product_price>3000:\n",
    "    print(\"price of the product is {}\".format(product_price*0.8))\n",
    "elif product_price>=2000 and product_price<=3000:\n",
    "    print(\"price of the product is {}\".format(product_price*0.7))\n",
    "elif product_price<=1000 and product_price<=2000:\n",
    "    print(\"price of the product is {}\".format(product_price*0.6))\n",
    "else:\n",
    "    print(nothing)"
   ]
  },
  {
   "cell_type": "code",
   "execution_count": 46,
   "id": "f49415d2-24d4-4507-9066-c8f3105785b9",
   "metadata": {},
   "outputs": [
    {
     "name": "stdin",
     "output_type": "stream",
     "text": [
      "enter the product price 600\n"
     ]
    },
    {
     "name": "stdout",
     "output_type": "stream",
     "text": [
      "price of the product is 360.0\n"
     ]
    }
   ],
   "source": [
    "product_price=int(input(\"enter the product price\"))\n",
    "if product_price>3000:\n",
    "    print(\"price of the product is {}\".format(product_price*0.8))\n",
    "elif product_price>=2000 and product_price<=3000:\n",
    "    print(\"price of the product is {}\".format(product_price*0.7))\n",
    "elif product_price<=1000 and product_price<=2000:\n",
    "    print(\"price of the product is {}\".format(product_price*0.6))\n",
    "else:\n",
    "    print(nothing)"
   ]
  },
  {
   "cell_type": "code",
   "execution_count": 50,
   "id": "f7fd2e46-1a9c-430f-aa80-f46bb976afe2",
   "metadata": {},
   "outputs": [
    {
     "name": "stdin",
     "output_type": "stream",
     "text": [
      "enter the product price 4000\n"
     ]
    },
    {
     "name": "stdout",
     "output_type": "stream",
     "text": [
      "congrajulation you get goa trip\n",
      "price of the product is 3200.0\n"
     ]
    }
   ],
   "source": [
    "product_price=int(input(\"enter the product price\"))\n",
    "if product_price>3000:\n",
    "    if product_price==4000:\n",
    "        print(\"congrajulation you get goa trip\")\n",
    "    print(\"price of the product is {}\".format(product_price*0.8))\n",
    "elif product_price>=2000 and product_price<=3000:\n",
    "    if product_price==2999:\n",
    "        print(\"you get a special offer\")\n",
    "    print(\"price of the product is {}\".format(product_price*0.7))\n",
    "elif product_price<=1000 and product_price<=2000:\n",
    "    print(\"price of the product is {}\".format(product_price*0.6))\n",
    "else:\n",
    "    print(nothing)"
   ]
  }
 ],
 "metadata": {
  "kernelspec": {
   "display_name": "Python 3 (ipykernel)",
   "language": "python",
   "name": "python3"
  },
  "language_info": {
   "codemirror_mode": {
    "name": "ipython",
    "version": 3
   },
   "file_extension": ".py",
   "mimetype": "text/x-python",
   "name": "python",
   "nbconvert_exporter": "python",
   "pygments_lexer": "ipython3",
   "version": "3.10.8"
  }
 },
 "nbformat": 4,
 "nbformat_minor": 5
}
