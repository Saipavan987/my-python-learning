{
  "nbformat": 4,
  "nbformat_minor": 0,
  "metadata": {
    "colab": {
      "provenance": []
    },
    "kernelspec": {
      "name": "python3",
      "display_name": "Python 3"
    },
    "language_info": {
      "name": "python"
    }
  },
  "cells": [
    {
      "cell_type": "markdown",
      "source": [
        "# functions"
      ],
      "metadata": {
        "id": "onNJZT8m-6__"
      }
    },
    {
      "cell_type": "code",
      "source": [
        "def test():\n",
        "  print(\"this is my new learning\")\n"
      ],
      "metadata": {
        "id": "ZN4OTGwU-9Mo"
      },
      "execution_count": null,
      "outputs": []
    },
    {
      "cell_type": "code",
      "source": [
        "test()"
      ],
      "metadata": {
        "colab": {
          "base_uri": "https://localhost:8080/"
        },
        "id": "qHjj87oZ_YwP",
        "outputId": "771832bf-b986-427f-eb00-8c85b127d3fd"
      },
      "execution_count": null,
      "outputs": [
        {
          "output_type": "stream",
          "name": "stdout",
          "text": [
            "this is my new learning\n"
          ]
        }
      ]
    },
    {
      "cell_type": "code",
      "source": [
        "def test1():\n",
        "  return \"this is my function with return\""
      ],
      "metadata": {
        "id": "aYGMrCXS_kOl"
      },
      "execution_count": null,
      "outputs": []
    },
    {
      "cell_type": "code",
      "source": [
        "test1()"
      ],
      "metadata": {
        "colab": {
          "base_uri": "https://localhost:8080/",
          "height": 35
        },
        "id": "VcOd1l7o_waw",
        "outputId": "d29753df-e047-4d6d-a6de-29b3f5575c54"
      },
      "execution_count": null,
      "outputs": [
        {
          "output_type": "execute_result",
          "data": {
            "text/plain": [
              "'this is my function with return'"
            ],
            "application/vnd.google.colaboratory.intrinsic+json": {
              "type": "string"
            }
          },
          "metadata": {},
          "execution_count": 6
        }
      ]
    },
    {
      "cell_type": "code",
      "source": [
        "def test2():\n",
        "  return(1,2,3,4,5,6,7,8,9)"
      ],
      "metadata": {
        "id": "iZJTnUcp_y-l"
      },
      "execution_count": null,
      "outputs": []
    },
    {
      "cell_type": "code",
      "source": [
        "test2()"
      ],
      "metadata": {
        "colab": {
          "base_uri": "https://localhost:8080/"
        },
        "id": "H-eyQ5rY_9Vc",
        "outputId": "e956e599-1627-475f-8797-0aad7cf152c1"
      },
      "execution_count": null,
      "outputs": [
        {
          "output_type": "execute_result",
          "data": {
            "text/plain": [
              "(1, 2, 3, 4, 5, 6, 7, 8, 9)"
            ]
          },
          "metadata": {},
          "execution_count": 9
        }
      ]
    },
    {
      "cell_type": "markdown",
      "source": [
        "#### 1.multiple returns using different types of values\n"
      ],
      "metadata": {
        "id": "CWmKixDAAAcd"
      }
    },
    {
      "cell_type": "code",
      "source": [
        "def test3():\n",
        "  return(1,2,3,[1,2,\"sai\",56],(\"sai pavan\"),{8,5,6,2,\"reu\"})"
      ],
      "metadata": {
        "id": "TTpbJbe4ANtk"
      },
      "execution_count": null,
      "outputs": []
    },
    {
      "cell_type": "code",
      "source": [
        "test3()"
      ],
      "metadata": {
        "colab": {
          "base_uri": "https://localhost:8080/"
        },
        "id": "l-z_7s_nAgMl",
        "outputId": "41557a10-b33a-4d16-bed1-2a9a52891c9c"
      },
      "execution_count": null,
      "outputs": [
        {
          "output_type": "execute_result",
          "data": {
            "text/plain": [
              "(1, 2, 3, [1, 2, 'sai', 56], 'sai pavan', {2, 5, 6, 8, 'reu'})"
            ]
          },
          "metadata": {},
          "execution_count": 14
        }
      ]
    },
    {
      "cell_type": "markdown",
      "source": [
        "#### 2.calculations using return function"
      ],
      "metadata": {
        "id": "PMKHjcN_A1Md"
      }
    },
    {
      "cell_type": "code",
      "source": [
        "def test4(b,c):\n",
        "  a = b*c\n",
        "  return a"
      ],
      "metadata": {
        "id": "Sc0v5siiA7Ir"
      },
      "execution_count": null,
      "outputs": []
    },
    {
      "cell_type": "code",
      "source": [
        "test4(5,9)"
      ],
      "metadata": {
        "colab": {
          "base_uri": "https://localhost:8080/"
        },
        "id": "wOaFjZH5BQeq",
        "outputId": "b1468a6c-3397-4908-9fcd-afc00d4a1e76"
      },
      "execution_count": null,
      "outputs": [
        {
          "output_type": "execute_result",
          "data": {
            "text/plain": [
              "45"
            ]
          },
          "metadata": {},
          "execution_count": 20
        }
      ]
    },
    {
      "cell_type": "markdown",
      "source": [
        "#### 3.assigning operations using duff functions"
      ],
      "metadata": {
        "id": "fZk5vBRWBobY"
      }
    },
    {
      "cell_type": "code",
      "source": [
        "a,b,c,d=1,2,3,4"
      ],
      "metadata": {
        "id": "QiMj3vv2Bu7y"
      },
      "execution_count": null,
      "outputs": []
    },
    {
      "cell_type": "code",
      "source": [
        "a"
      ],
      "metadata": {
        "colab": {
          "base_uri": "https://localhost:8080/"
        },
        "id": "QIr0-fbSB36J",
        "outputId": "c6409ac6-dffa-46c1-f20b-20becd267e01"
      },
      "execution_count": null,
      "outputs": [
        {
          "output_type": "execute_result",
          "data": {
            "text/plain": [
              "1"
            ]
          },
          "metadata": {},
          "execution_count": 25
        }
      ]
    },
    {
      "cell_type": "code",
      "source": [
        "def test5(a,b):\n",
        "  c = a+b\n",
        "  return c"
      ],
      "metadata": {
        "id": "lixKdV0fCPkw"
      },
      "execution_count": null,
      "outputs": []
    },
    {
      "cell_type": "code",
      "source": [
        "test5(\"sai\",\"pavan\")"
      ],
      "metadata": {
        "colab": {
          "base_uri": "https://localhost:8080/",
          "height": 35
        },
        "id": "pKZ8hNhSCfaf",
        "outputId": "b7cc9c29-9899-4deb-b87c-2fc83cc78393"
      },
      "execution_count": null,
      "outputs": [
        {
          "output_type": "execute_result",
          "data": {
            "text/plain": [
              "'saipavan'"
            ],
            "application/vnd.google.colaboratory.intrinsic+json": {
              "type": "string"
            }
          },
          "metadata": {},
          "execution_count": 27
        }
      ]
    },
    {
      "cell_type": "markdown",
      "source": [
        "#### 4.to filter out only numerical values inside an list."
      ],
      "metadata": {
        "id": "LYXWJp0sCt1d"
      }
    },
    {
      "cell_type": "code",
      "source": [
        "s = [\"sai\",\"pavan\",1,2,3,4,5,6,[1,2,3,4,5,6,7],(1,\"sai\",8,5,6,3,4)]\n"
      ],
      "metadata": {
        "id": "7PWiB5nZC3vb"
      },
      "execution_count": null,
      "outputs": []
    },
    {
      "cell_type": "code",
      "source": [
        "def test6(a):\n",
        "  n=[]\n",
        "  for i in a:\n",
        "    if type(i)==int or type(i)==float:\n",
        "      n.append(i)\n",
        "  return n"
      ],
      "metadata": {
        "id": "9SUxMD1zDHXT"
      },
      "execution_count": null,
      "outputs": []
    },
    {
      "cell_type": "code",
      "source": [
        "test6(s)"
      ],
      "metadata": {
        "colab": {
          "base_uri": "https://localhost:8080/"
        },
        "id": "ytxkQhG-DqPc",
        "outputId": "a174b25d-fa64-4dad-dac3-233fdbed2a27"
      },
      "execution_count": null,
      "outputs": [
        {
          "output_type": "execute_result",
          "data": {
            "text/plain": [
              "[1, 2, 3, 4, 5, 6]"
            ]
          },
          "metadata": {},
          "execution_count": 44
        }
      ]
    },
    {
      "cell_type": "code",
      "source": [
        "b = [\"sai\",2563,5,2,4,5,6,2,[1,2,5,8,6,3,4,455622,856,2]]\n"
      ],
      "metadata": {
        "id": "jSP-ZKwJGM4a"
      },
      "execution_count": null,
      "outputs": []
    },
    {
      "cell_type": "code",
      "source": [
        "def test6(b):\n",
        "  n=[]\n",
        "  for i in b:\n",
        "    if type(i)==list:\n",
        "      for j in i:\n",
        "        if type(j)==int or type(j)==float:\n",
        "          n.append(j)\n",
        "    else:\n",
        "      if type(i)==int or type(i)==float:\n",
        "        n.append(i)\n",
        "\n",
        "  return n"
      ],
      "metadata": {
        "id": "S9oE3g18D3ja"
      },
      "execution_count": null,
      "outputs": []
    },
    {
      "cell_type": "code",
      "source": [
        "test6(b)"
      ],
      "metadata": {
        "colab": {
          "base_uri": "https://localhost:8080/"
        },
        "id": "JpKlC16vF8Mt",
        "outputId": "7b3a665c-56df-4ea5-b163-eeea765e9b5e"
      },
      "execution_count": null,
      "outputs": [
        {
          "output_type": "execute_result",
          "data": {
            "text/plain": [
              "[2563, 5, 2, 4, 5, 6, 2, 1, 2, 5, 8, 6, 3, 4, 455622, 856, 2]"
            ]
          },
          "metadata": {},
          "execution_count": 65
        }
      ]
    },
    {
      "cell_type": "markdown",
      "source": [
        "#### 5.multiple arguments"
      ],
      "metadata": {
        "id": "8_HXkNW8H96E"
      }
    },
    {
      "cell_type": "code",
      "source": [
        "def test(*sai):\n",
        "  return sai"
      ],
      "metadata": {
        "id": "YHud-BPNIHLk"
      },
      "execution_count": null,
      "outputs": []
    },
    {
      "cell_type": "code",
      "source": [
        "test(1,2,3,4,5,\"sai\",\"pavan\",[1,2,3,4,5,6],(8,5,2,6,2,2),{7,8,9,5,2})"
      ],
      "metadata": {
        "colab": {
          "base_uri": "https://localhost:8080/"
        },
        "id": "3QzifDCpIOV0",
        "outputId": "676694a9-f38c-4b4e-8d38-0f6a11633181"
      },
      "execution_count": null,
      "outputs": [
        {
          "output_type": "execute_result",
          "data": {
            "text/plain": [
              "(1,\n",
              " 2,\n",
              " 3,\n",
              " 4,\n",
              " 5,\n",
              " 'sai',\n",
              " 'pavan',\n",
              " [1, 2, 3, 4, 5, 6],\n",
              " (8, 5, 2, 6, 2, 2),\n",
              " {2, 5, 7, 8, 9})"
            ]
          },
          "metadata": {},
          "execution_count": 67
        }
      ]
    },
    {
      "cell_type": "code",
      "source": [
        "def test9(*suvi,a):\n",
        "  return suvi,a"
      ],
      "metadata": {
        "id": "qQlue8ZtIms_"
      },
      "execution_count": null,
      "outputs": []
    },
    {
      "cell_type": "code",
      "source": [
        "test9(8,5,6,2,4,5, a = \"sai\")"
      ],
      "metadata": {
        "colab": {
          "base_uri": "https://localhost:8080/"
        },
        "id": "KRHNdnI5IruF",
        "outputId": "4d268cef-8c02-478f-d88a-4ab73141044b"
      },
      "execution_count": null,
      "outputs": [
        {
          "output_type": "execute_result",
          "data": {
            "text/plain": [
              "((8, 5, 6, 2, 4, 5), 'sai')"
            ]
          },
          "metadata": {},
          "execution_count": 71
        }
      ]
    },
    {
      "cell_type": "code",
      "source": [
        "def test10(*pav):\n",
        "  l = []\n",
        "  for i in pav:\n",
        "    if type(i)==list:\n",
        "      l.append(i)\n",
        "\n",
        "  return l"
      ],
      "metadata": {
        "id": "sv9hNZqpJGsB"
      },
      "execution_count": 3,
      "outputs": []
    },
    {
      "cell_type": "code",
      "source": [
        "test10([12,5,4,7,5,2],752555,\"saipavan\",78541)"
      ],
      "metadata": {
        "colab": {
          "base_uri": "https://localhost:8080/"
        },
        "id": "_wNWDqs1JiR9",
        "outputId": "f6cdf1ac-f1df-4968-b399-c38c557c9396"
      },
      "execution_count": 4,
      "outputs": [
        {
          "output_type": "execute_result",
          "data": {
            "text/plain": [
              "[[12, 5, 4, 7, 5, 2]]"
            ]
          },
          "metadata": {},
          "execution_count": 4
        }
      ]
    },
    {
      "cell_type": "markdown",
      "source": [
        "#### 6. keys and values"
      ],
      "metadata": {
        "id": "McrS6VWrZkSz"
      }
    },
    {
      "cell_type": "code",
      "source": [
        "def test11(**kvalu):\n",
        "  return kvalu"
      ],
      "metadata": {
        "id": "AnjWG-JjZoXe"
      },
      "execution_count": 5,
      "outputs": []
    },
    {
      "cell_type": "code",
      "source": [
        "test11(a=85,b=89,c=785,d=\"sai pavan\",e=[856,745])"
      ],
      "metadata": {
        "colab": {
          "base_uri": "https://localhost:8080/"
        },
        "id": "wCvATiN1Zxac",
        "outputId": "69baba06-e493-4ecb-cb83-4f9f91758345"
      },
      "execution_count": 6,
      "outputs": [
        {
          "output_type": "execute_result",
          "data": {
            "text/plain": [
              "{'a': 85, 'b': 89, 'c': 785, 'd': 'sai pavan', 'e': [856, 745]}"
            ]
          },
          "metadata": {},
          "execution_count": 6
        }
      ]
    },
    {
      "cell_type": "code",
      "source": [
        "type(test11)"
      ],
      "metadata": {
        "colab": {
          "base_uri": "https://localhost:8080/"
        },
        "id": "o8fKma8yaDZ_",
        "outputId": "db1ad41f-cb4e-4dd3-f6a0-8f6fe0ec5187"
      },
      "execution_count": 7,
      "outputs": [
        {
          "output_type": "execute_result",
          "data": {
            "text/plain": [
              "function"
            ]
          },
          "metadata": {},
          "execution_count": 7
        }
      ]
    },
    {
      "cell_type": "code",
      "source": [
        "def test12(**san):\n",
        "  for i in san.keys():\n",
        "    if type(san[i])==list:\n",
        "      return i,san[i]"
      ],
      "metadata": {
        "id": "KoUZb8jVaYR4"
      },
      "execution_count": 8,
      "outputs": []
    },
    {
      "cell_type": "code",
      "source": [
        "test12(a=856,b=[\"sai\",856],c=(745,865,42),d={8,5,})"
      ],
      "metadata": {
        "colab": {
          "base_uri": "https://localhost:8080/"
        },
        "id": "74_M3RA4bKDW",
        "outputId": "ade2c093-37c9-4b86-af1d-e0ad5663dacf"
      },
      "execution_count": 9,
      "outputs": [
        {
          "output_type": "execute_result",
          "data": {
            "text/plain": [
              "('b', ['sai', 856])"
            ]
          },
          "metadata": {},
          "execution_count": 9
        }
      ]
    },
    {
      "cell_type": "code",
      "source": [
        "def test12(**san):\n",
        "  for i in san.keys():\n",
        "    if type(san[i])==set:\n",
        "      return i,san[i]"
      ],
      "metadata": {
        "id": "ABiWfJV9beHs"
      },
      "execution_count": 12,
      "outputs": []
    },
    {
      "cell_type": "code",
      "source": [
        "test12(a={745,562,842,\"sai\"},b=[7854,452,])"
      ],
      "metadata": {
        "colab": {
          "base_uri": "https://localhost:8080/"
        },
        "id": "QZ8-ma3YbxOw",
        "outputId": "3385cca2-824f-47c0-b7ca-5151c5d7444b"
      },
      "execution_count": 13,
      "outputs": [
        {
          "output_type": "execute_result",
          "data": {
            "text/plain": [
              "('a', {562, 745, 842, 'sai'})"
            ]
          },
          "metadata": {},
          "execution_count": 13
        }
      ]
    },
    {
      "cell_type": "markdown",
      "source": [
        "#### 7.print max of three\n"
      ],
      "metadata": {
        "id": "yLZGm6y1iRuG"
      }
    },
    {
      "cell_type": "code",
      "source": [
        "def num(x,y,z):\n",
        "  return max(x,y,z)"
      ],
      "metadata": {
        "id": "Pkwj7ME5k2Mv"
      },
      "execution_count": 33,
      "outputs": []
    },
    {
      "cell_type": "code",
      "source": [
        "num(8,10,100)"
      ],
      "metadata": {
        "colab": {
          "base_uri": "https://localhost:8080/"
        },
        "id": "OsD2IFd6lSur",
        "outputId": "c7ee2c6a-c984-4c49-afeb-862c346288e2"
      },
      "execution_count": 34,
      "outputs": [
        {
          "output_type": "execute_result",
          "data": {
            "text/plain": [
              "100"
            ]
          },
          "metadata": {},
          "execution_count": 34
        }
      ]
    },
    {
      "cell_type": "markdown",
      "source": [
        "#### 8.to sum all the numbers"
      ],
      "metadata": {
        "id": "RMAtRErjqWVq"
      }
    },
    {
      "cell_type": "code",
      "source": [
        "def sum(numbers):\n",
        "  total = 0\n",
        "  for x in numbers:\n",
        "    total += x\n",
        "  return total\n",
        "print(sum((8,2,3,0,7)))"
      ],
      "metadata": {
        "colab": {
          "base_uri": "https://localhost:8080/"
        },
        "id": "sc0kNnN1lc_N",
        "outputId": "c6e20255-7a5e-41d4-a19b-6a76450d1c94"
      },
      "execution_count": 41,
      "outputs": [
        {
          "output_type": "stream",
          "name": "stdout",
          "text": [
            "20\n"
          ]
        }
      ]
    },
    {
      "cell_type": "markdown",
      "source": [
        "#### 9. to multiply all the numbers"
      ],
      "metadata": {
        "id": "9ycr_5-Fr8lO"
      }
    },
    {
      "cell_type": "code",
      "source": [
        "def mult(numbers):\n",
        "  total = 1\n",
        "  for x in numbers:\n",
        "    total *= x\n",
        "  return total\n",
        "print(mult((8,2,3,-1,7)))"
      ],
      "metadata": {
        "colab": {
          "base_uri": "https://localhost:8080/"
        },
        "id": "A2TA-4FSsE1G",
        "outputId": "95f74806-437d-408e-bc79-06a36ecf9558"
      },
      "execution_count": 45,
      "outputs": [
        {
          "output_type": "stream",
          "name": "stdout",
          "text": [
            "-336\n"
          ]
        }
      ]
    },
    {
      "cell_type": "markdown",
      "source": [
        "#### 10.write a python program to reverse a string"
      ],
      "metadata": {
        "id": "VZDdsee6s2eP"
      }
    },
    {
      "cell_type": "code",
      "source": [
        "def rev(num):\n",
        "  s=num[::-1]\n",
        "  return s\n",
        "print(rev(\"123548\"))"
      ],
      "metadata": {
        "colab": {
          "base_uri": "https://localhost:8080/"
        },
        "id": "5gh5_fhutIaZ",
        "outputId": "03fac816-a383-4657-ea53-533828e7969a"
      },
      "execution_count": 53,
      "outputs": [
        {
          "output_type": "stream",
          "name": "stdout",
          "text": [
            "845321\n"
          ]
        }
      ]
    },
    {
      "cell_type": "markdown",
      "source": [
        "#### 11.to find a factorial of a number\n"
      ],
      "metadata": {
        "id": "p9-Fxwm8ujlv"
      }
    },
    {
      "cell_type": "code",
      "source": [
        "def fact(n):\n",
        "  if n==0:\n",
        "   return 1\n",
        "  else:\n",
        "    return n * fact(n-1)\n",
        "n = int(input(\"enter a factorial\"))\n",
        "print(fact(n))"
      ],
      "metadata": {
        "colab": {
          "base_uri": "https://localhost:8080/"
        },
        "id": "Kx8a3Xmturdm",
        "outputId": "aba7bad2-f5da-4bb3-f111-9b26d9ec327c"
      },
      "execution_count": 64,
      "outputs": [
        {
          "output_type": "stream",
          "name": "stdout",
          "text": [
            "enter a factorial5\n",
            "120\n"
          ]
        }
      ]
    },
    {
      "cell_type": "markdown",
      "source": [
        "#### 12. check whether the number falls in the given range"
      ],
      "metadata": {
        "id": "cqZECn4XIYiM"
      }
    },
    {
      "cell_type": "code",
      "source": [
        "def number(n):\n",
        "  if n in range(3,10):\n",
        "    print(\"the given number is in the range\")\n",
        "  else:\n",
        "    print(\"not in range\")"
      ],
      "metadata": {
        "id": "suYGXJB-Idkj"
      },
      "execution_count": 4,
      "outputs": []
    },
    {
      "cell_type": "code",
      "source": [
        "number(5)"
      ],
      "metadata": {
        "colab": {
          "base_uri": "https://localhost:8080/"
        },
        "id": "nRluNNQqI7_B",
        "outputId": "ea9c544e-b3a9-4a63-e3e6-524c758eab36"
      },
      "execution_count": 5,
      "outputs": [
        {
          "output_type": "stream",
          "name": "stdout",
          "text": [
            "the given number is in the range\n"
          ]
        }
      ]
    },
    {
      "cell_type": "code",
      "source": [
        "number(1)"
      ],
      "metadata": {
        "colab": {
          "base_uri": "https://localhost:8080/"
        },
        "id": "T48evvOPJDlk",
        "outputId": "098c3007-948b-4171-d351-9796270d04f1"
      },
      "execution_count": 6,
      "outputs": [
        {
          "output_type": "stream",
          "name": "stdout",
          "text": [
            "not in range\n"
          ]
        }
      ]
    },
    {
      "cell_type": "markdown",
      "source": [
        "#### 13.new list with distinct elements"
      ],
      "metadata": {
        "id": "-3qKoY8sPV8N"
      }
    },
    {
      "cell_type": "code",
      "source": [
        "def old(l):\n",
        "  m = []\n",
        "  for a in l:\n",
        "    if a not in m:\n",
        "      m.append(a)\n",
        "  return m\n",
        "\n"
      ],
      "metadata": {
        "id": "gC-Pl7iFPbCZ"
      },
      "execution_count": 42,
      "outputs": []
    },
    {
      "cell_type": "code",
      "source": [
        "old([1,1,2,2,3,3,5,5,6,8,9,5,4,])"
      ],
      "metadata": {
        "colab": {
          "base_uri": "https://localhost:8080/"
        },
        "id": "wZucn5BEP4NR",
        "outputId": "71f0d786-4bf2-4464-b7eb-3493c6a8d0de"
      },
      "execution_count": 43,
      "outputs": [
        {
          "output_type": "execute_result",
          "data": {
            "text/plain": [
              "[1, 2, 3, 5, 6, 8, 9, 4]"
            ]
          },
          "metadata": {},
          "execution_count": 43
        }
      ]
    },
    {
      "cell_type": "markdown",
      "source": [
        "#### 14.check if the given number is perfect or not"
      ],
      "metadata": {
        "id": "yT0e81l3Q4sZ"
      }
    },
    {
      "cell_type": "code",
      "source": [],
      "metadata": {
        "id": "Voy7HX3rVX1H"
      },
      "execution_count": null,
      "outputs": []
    },
    {
      "cell_type": "code",
      "source": [
        "def perfect(n):\n",
        "  sum = 0\n",
        "  for x in range(1,n):\n",
        "    if n%x==0:\n",
        "      sum+=x\n",
        "\n",
        "  return sum ==n\n",
        "\n"
      ],
      "metadata": {
        "id": "7p4ValyqQ-3t"
      },
      "execution_count": 64,
      "outputs": []
    },
    {
      "cell_type": "code",
      "source": [
        "perfect(5)"
      ],
      "metadata": {
        "colab": {
          "base_uri": "https://localhost:8080/"
        },
        "id": "22VJs6c9U3J4",
        "outputId": "d43899da-da0f-4150-cc1e-cb87e8f7be4a"
      },
      "execution_count": 65,
      "outputs": [
        {
          "output_type": "execute_result",
          "data": {
            "text/plain": [
              "False"
            ]
          },
          "metadata": {},
          "execution_count": 65
        }
      ]
    },
    {
      "cell_type": "code",
      "source": [
        "perfect(6)"
      ],
      "metadata": {
        "colab": {
          "base_uri": "https://localhost:8080/"
        },
        "id": "b25lGKRwV60V",
        "outputId": "ea698a41-ee6b-4a62-a3e7-bc7ff3bffb9f"
      },
      "execution_count": 66,
      "outputs": [
        {
          "output_type": "execute_result",
          "data": {
            "text/plain": [
              "True"
            ]
          },
          "metadata": {},
          "execution_count": 66
        }
      ]
    },
    {
      "cell_type": "code",
      "source": [],
      "metadata": {
        "id": "pSwecNw-WVe0"
      },
      "execution_count": null,
      "outputs": []
    }
  ]
}