{
  "nbformat": 4,
  "nbformat_minor": 0,
  "metadata": {
    "colab": {
      "provenance": []
    },
    "kernelspec": {
      "name": "python3",
      "display_name": "Python 3"
    },
    "language_info": {
      "name": "python"
    }
  },
  "cells": [
    {
      "cell_type": "markdown",
      "source": [
        "#### 1.creating class"
      ],
      "metadata": {
        "id": "cRJMpGjS_aiy"
      }
    },
    {
      "cell_type": "code",
      "execution_count": null,
      "metadata": {
        "colab": {
          "base_uri": "https://localhost:8080/"
        },
        "id": "Nc8UfvDQ6r-b",
        "outputId": "aab3cdd8-c5a2-485b-fb84-e910b0fa61eb"
      },
      "outputs": [
        {
          "output_type": "stream",
          "name": "stdout",
          "text": [
            "5\n"
          ]
        }
      ],
      "source": [
        "class pythonskills:\n",
        "  x=5\n",
        "p1=pythonskills()\n",
        "print(p1.x)"
      ]
    },
    {
      "cell_type": "markdown",
      "source": [
        "#### 2.class"
      ],
      "metadata": {
        "id": "qMv997Dy_Xcu"
      }
    },
    {
      "cell_type": "code",
      "source": [
        "class pythonskills2:\n",
        "\n",
        "  def  __init__(self,phone_number,email_id,student_id):\n",
        "\n",
        "   self.phone_number = phone_number\n",
        "   self.email_id = email_id\n",
        "   self.student_id = student_id\n",
        "\n",
        "  def return_student_details(self):\n",
        "    return self.phone_number, self.email_id, self.student_id\n",
        "\n"
      ],
      "metadata": {
        "id": "TLTx4xWL77TM"
      },
      "execution_count": null,
      "outputs": []
    },
    {
      "cell_type": "code",
      "source": [
        "sai = pythonskills2(65899556644,\"sai@gmail.com\",8564)"
      ],
      "metadata": {
        "id": "7V_IXjfo9uEI"
      },
      "execution_count": null,
      "outputs": []
    },
    {
      "cell_type": "code",
      "source": [
        "sai.phone_number"
      ],
      "metadata": {
        "colab": {
          "base_uri": "https://localhost:8080/"
        },
        "id": "TjUseQvE9_Vi",
        "outputId": "be30fd07-f134-4352-a83c-bac450ee21bb"
      },
      "execution_count": null,
      "outputs": [
        {
          "output_type": "execute_result",
          "data": {
            "text/plain": [
              "65899556644"
            ]
          },
          "metadata": {},
          "execution_count": 17
        }
      ]
    },
    {
      "cell_type": "code",
      "source": [
        "sai.email_id"
      ],
      "metadata": {
        "colab": {
          "base_uri": "https://localhost:8080/",
          "height": 35
        },
        "id": "k30Ekvrv_N9x",
        "outputId": "60028f3c-cc88-41ac-b04a-6560878fc1e4"
      },
      "execution_count": null,
      "outputs": [
        {
          "output_type": "execute_result",
          "data": {
            "text/plain": [
              "'sai@gmail.com'"
            ],
            "application/vnd.google.colaboratory.intrinsic+json": {
              "type": "string"
            }
          },
          "metadata": {},
          "execution_count": 18
        }
      ]
    },
    {
      "cell_type": "code",
      "source": [
        "sai.student_id"
      ],
      "metadata": {
        "colab": {
          "base_uri": "https://localhost:8080/"
        },
        "id": "6QMtPb23_QR-",
        "outputId": "0aba7f9b-f5bc-44d4-f5f5-1090b389f9da"
      },
      "execution_count": null,
      "outputs": [
        {
          "output_type": "execute_result",
          "data": {
            "text/plain": [
              "8564"
            ]
          },
          "metadata": {},
          "execution_count": 19
        }
      ]
    },
    {
      "cell_type": "markdown",
      "source": [
        "#### 3.class and objects"
      ],
      "metadata": {
        "id": "XslA2G7H_gOB"
      }
    },
    {
      "cell_type": "code",
      "source": [
        "class datascience:\n",
        "  def syllabus(sai):\n",
        "    print(\"this is my syllabus for data science\")\n",
        "\n",
        "class deeplearning:\n",
        "  def syllabus(sai):\n",
        "    print(\"this is my syllabus for deeplearning\")\n",
        "\n",
        "def classes(classobj):\n",
        "  for i in classobj:\n",
        "    i.syllabus()\n",
        "\n",
        "obj_datascience=datascience()\n",
        "obj_deeplearning=deeplearning()\n",
        "classobj=(obj_datascience,obj_deeplearning)\n",
        "classes(classobj)"
      ],
      "metadata": {
        "colab": {
          "base_uri": "https://localhost:8080/"
        },
        "id": "nt_FmTQu_hU3",
        "outputId": "d2f05f8c-b08b-4a0c-eaaf-f0ad402b2483"
      },
      "execution_count": null,
      "outputs": [
        {
          "output_type": "stream",
          "name": "stdout",
          "text": [
            "this is my syllabus for data science\n",
            "this is my syllabus for deeplearning\n"
          ]
        }
      ]
    },
    {
      "cell_type": "markdown",
      "source": [
        "#### 4.polymorphism"
      ],
      "metadata": {
        "id": "FQXEgLqSDKMw"
      }
    },
    {
      "cell_type": "code",
      "source": [
        "class car():\n",
        "  def __init__(self,brand,model):\n",
        "    self.brand=brand\n",
        "    self.model=model\n",
        "\n",
        "  def move(self):\n",
        "    print(\"drive\")\n",
        "\n",
        "class boat():\n",
        "  def __init__(self,brand,model):\n",
        "    self.brand=brand\n",
        "    self.model=model\n",
        "\n",
        "  def move(self):\n",
        "    print(\"sail\")\n",
        "\n",
        "class plane():\n",
        "  def __init__(self,brand,model):\n",
        "    self.brand=brand\n",
        "    self.model=model\n",
        "\n",
        "  def move(self):\n",
        "    print(\"fly\")\n",
        "\n",
        "car1=car(\"tata\",\"nexon\")\n",
        "boat1=boat(\"onepiece\",\"goingmarry\")\n",
        "plane1=plane(\"hindenburg\",\"5236\")\n",
        "\n",
        "for i in (car1,boat1,plane1):\n",
        "  print(i.brand)\n",
        "  print(i.model)\n",
        "  i.move()\n",
        "\n",
        "\n"
      ],
      "metadata": {
        "colab": {
          "base_uri": "https://localhost:8080/"
        },
        "id": "waXsTzGcDEUF",
        "outputId": "7f5db6ce-0fdd-4029-af3d-ccf11d1b758a"
      },
      "execution_count": null,
      "outputs": [
        {
          "output_type": "stream",
          "name": "stdout",
          "text": [
            "tata\n",
            "nexon\n",
            "drive\n",
            "onepiece\n",
            "goingmarry\n",
            "sail\n",
            "hindenburg\n",
            "5236\n",
            "fly\n"
          ]
        }
      ]
    },
    {
      "cell_type": "markdown",
      "source": [
        "#### 5.inheretence polymorphism"
      ],
      "metadata": {
        "id": "VuY6SndMKB_a"
      }
    },
    {
      "cell_type": "code",
      "source": [
        "class vehicle:\n",
        "  def __init__(self,brand,model):\n",
        "    self.brand=brand\n",
        "    self.model=model\n",
        "\n",
        "class car(vehicle):\n",
        "  def move(self):\n",
        "      print(\"move!\")\n",
        "\n",
        "class boat(vehicle):\n",
        "   def move(self):\n",
        "      print(\"sail!\")\n",
        "\n",
        "class plane(vehicle):\n",
        "  def move(self):\n",
        "      print(\"fly!\")\n",
        "\n",
        "car2=car(\"tata\",\"nexon\")\n",
        "boat2=boat(\"onepiece\",\"thousandssunny\")\n",
        "plane2=plane(\"indigo\",\"hindenburg\")\n",
        "\n",
        "for i in (car2,boat2,plane2):\n",
        "  print(i.brand)\n",
        "  print(i.model)\n",
        "  i.move()"
      ],
      "metadata": {
        "id": "6BPWIDuxEPvi",
        "colab": {
          "base_uri": "https://localhost:8080/"
        },
        "outputId": "9cf5cef5-97f8-4df6-b030-6f4a3e0d47be"
      },
      "execution_count": null,
      "outputs": [
        {
          "output_type": "stream",
          "name": "stdout",
          "text": [
            "tata\n",
            "nexon\n",
            "move!\n",
            "onepiece\n",
            "thousandssunny\n",
            "sail!\n",
            "indigo\n",
            "hindenburg\n",
            "fly!\n"
          ]
        }
      ]
    },
    {
      "cell_type": "markdown",
      "source": [
        "# Encapsulation"
      ],
      "metadata": {
        "id": "G3JbPXr6jC8n"
      }
    },
    {
      "cell_type": "code",
      "source": [
        "class car:\n",
        "  def __init__(self,year,make,model,speed):\n",
        "    self.__year=year\n",
        "    self.__make=make\n",
        "    self.__model=model\n",
        "    self.__speed=0\n",
        "  def set__speed(self,speed):\n",
        "    self. __speed = 0 if speed<0 else speed\n",
        "\n",
        "  def get__speed(self):\n",
        "    return self.__speed"
      ],
      "metadata": {
        "id": "Adt8T2QxkTZF"
      },
      "execution_count": null,
      "outputs": []
    },
    {
      "cell_type": "code",
      "source": [
        "obj_car = car(2021,\"toyota\",\"innova\",12)"
      ],
      "metadata": {
        "id": "FR_BkWVzom4W"
      },
      "execution_count": null,
      "outputs": []
    },
    {
      "cell_type": "code",
      "source": [
        "obj_car.set__speed(524)"
      ],
      "metadata": {
        "id": "siIVXV3vziuU"
      },
      "execution_count": 25,
      "outputs": []
    },
    {
      "cell_type": "markdown",
      "source": [
        "#### 2.class bank account"
      ],
      "metadata": {
        "id": "7ybk7eNY1y4N"
      }
    },
    {
      "cell_type": "code",
      "source": [
        "class bankaccount:\n",
        "  def __init__(self,balance):\n",
        "    self.__balance=balance\n",
        "\n",
        "  def deposit(self,amount):\n",
        "   self.__balance=self.__balance+amount\n",
        "\n",
        "  def withdraw(self,amount):\n",
        "    if self.__balance>=amount:\n",
        "     self.__balance=self.__balance-amount\n",
        "     return True\n",
        "    else:\n",
        "      return False\n",
        "\n",
        "  def get__balance(self):\n",
        "    return self.__balance"
      ],
      "metadata": {
        "id": "l6qYA1qD1u8l"
      },
      "execution_count": 50,
      "outputs": []
    },
    {
      "cell_type": "code",
      "source": [
        "obj_bankaccount=bankaccount(5000)"
      ],
      "metadata": {
        "id": "0I6aFdhZ2sbV"
      },
      "execution_count": 51,
      "outputs": []
    },
    {
      "cell_type": "code",
      "source": [
        "obj_bankaccount.get__balance()"
      ],
      "metadata": {
        "colab": {
          "base_uri": "https://localhost:8080/"
        },
        "id": "2FprECws3hgh",
        "outputId": "297c7e16-13c4-4736-eccd-af6af5576c04"
      },
      "execution_count": 52,
      "outputs": [
        {
          "output_type": "execute_result",
          "data": {
            "text/plain": [
              "5000"
            ]
          },
          "metadata": {},
          "execution_count": 52
        }
      ]
    },
    {
      "cell_type": "code",
      "source": [
        "obj_bankaccount.withdraw(10000)"
      ],
      "metadata": {
        "colab": {
          "base_uri": "https://localhost:8080/"
        },
        "id": "5dj1GLkQ3otU",
        "outputId": "6d72a4f1-74e0-491a-879c-443c92a33aab"
      },
      "execution_count": 53,
      "outputs": [
        {
          "output_type": "execute_result",
          "data": {
            "text/plain": [
              "False"
            ]
          },
          "metadata": {},
          "execution_count": 53
        }
      ]
    },
    {
      "cell_type": "code",
      "source": [
        "obj_bankaccount.deposit(100000)"
      ],
      "metadata": {
        "id": "t96pnOrB4cSl"
      },
      "execution_count": 54,
      "outputs": []
    },
    {
      "cell_type": "code",
      "source": [
        "obj_bankaccount.withdraw(2000)"
      ],
      "metadata": {
        "colab": {
          "base_uri": "https://localhost:8080/"
        },
        "id": "GgDhP2os4034",
        "outputId": "c84b5730-0cbe-4a85-9f63-7a9c446f1106"
      },
      "execution_count": 55,
      "outputs": [
        {
          "output_type": "execute_result",
          "data": {
            "text/plain": [
              "True"
            ]
          },
          "metadata": {},
          "execution_count": 55
        }
      ]
    },
    {
      "cell_type": "code",
      "source": [
        "obj_bankaccount.get__balance()"
      ],
      "metadata": {
        "colab": {
          "base_uri": "https://localhost:8080/"
        },
        "id": "wn02_pzK45r9",
        "outputId": "d918d717-a1de-4da6-edc8-8e9e4717f818"
      },
      "execution_count": 58,
      "outputs": [
        {
          "output_type": "execute_result",
          "data": {
            "text/plain": [
              "103000"
            ]
          },
          "metadata": {},
          "execution_count": 58
        }
      ]
    },
    {
      "cell_type": "markdown",
      "source": [
        "#### multi level inheritence"
      ],
      "metadata": {
        "id": "NeJ4kGw48ITU"
      }
    },
    {
      "cell_type": "code",
      "source": [
        "class class1:\n",
        "  def test__class1(self):\n",
        "    print(\"this is my class\")\n",
        "\n",
        "class class2(class1):\n",
        "  def test__class2(self):\n",
        "    print(\"this my class2\")\n",
        "\n",
        "class class3(class2):\n",
        "  def test__class3(self):\n",
        "    print(\"this is my class3\")"
      ],
      "metadata": {
        "id": "3JNnVuwW8O7I"
      },
      "execution_count": 63,
      "outputs": []
    },
    {
      "cell_type": "code",
      "source": [
        "obj_class1=class1()"
      ],
      "metadata": {
        "id": "6mQ8mYB282Gl"
      },
      "execution_count": 64,
      "outputs": []
    },
    {
      "cell_type": "code",
      "source": [
        "obj_class1.test__class1()"
      ],
      "metadata": {
        "colab": {
          "base_uri": "https://localhost:8080/"
        },
        "id": "Pfzw91Kp8_mf",
        "outputId": "f316df3d-744b-4e67-e0fa-83b5aeca2846"
      },
      "execution_count": 67,
      "outputs": [
        {
          "output_type": "stream",
          "name": "stdout",
          "text": [
            "this is my class\n"
          ]
        }
      ]
    },
    {
      "cell_type": "code",
      "source": [
        "obj_class3 = class3()"
      ],
      "metadata": {
        "id": "HI9znpzW9DDS"
      },
      "execution_count": 68,
      "outputs": []
    },
    {
      "cell_type": "code",
      "source": [
        "obj_class3.test__class2()"
      ],
      "metadata": {
        "colab": {
          "base_uri": "https://localhost:8080/"
        },
        "id": "Gt0QKuRl9d9M",
        "outputId": "2e2bb9b4-cd21-4130-f61a-27c5c033d4cf"
      },
      "execution_count": 69,
      "outputs": [
        {
          "output_type": "stream",
          "name": "stdout",
          "text": [
            "this my class2\n"
          ]
        }
      ]
    },
    {
      "cell_type": "code",
      "source": [
        "obj_class3.test__class1()"
      ],
      "metadata": {
        "colab": {
          "base_uri": "https://localhost:8080/"
        },
        "id": "kXhDW-u89jJv",
        "outputId": "5a8a51f9-8b01-4ae8-8887-15dadc67723b"
      },
      "execution_count": 70,
      "outputs": [
        {
          "output_type": "stream",
          "name": "stdout",
          "text": [
            "this is my class\n"
          ]
        }
      ]
    },
    {
      "cell_type": "markdown",
      "source": [
        "#### multiple inheritence"
      ],
      "metadata": {
        "id": "WeZkFQ-j9w5j"
      }
    },
    {
      "cell_type": "code",
      "source": [
        "class section1:\n",
        "  def test__section1(self):\n",
        "    print(\"this is my section\")\n",
        "\n",
        "class section2:\n",
        "  def test__section2(self):\n",
        "    print(\"this is my section2\")\n",
        "\n",
        "class section3(section1,section2):\n",
        "  pass"
      ],
      "metadata": {
        "id": "UVgbgdUG90Mh"
      },
      "execution_count": 72,
      "outputs": []
    },
    {
      "cell_type": "code",
      "source": [
        "obj__class4=section3()"
      ],
      "metadata": {
        "id": "4dME5myJ-GWM"
      },
      "execution_count": 73,
      "outputs": []
    },
    {
      "cell_type": "code",
      "source": [
        "obj__class4.test__section2()"
      ],
      "metadata": {
        "colab": {
          "base_uri": "https://localhost:8080/"
        },
        "id": "dlaib9h7-h9q",
        "outputId": "7becef63-9f6f-4267-8375-607bef54f972"
      },
      "execution_count": 75,
      "outputs": [
        {
          "output_type": "stream",
          "name": "stdout",
          "text": [
            "this is my section2\n"
          ]
        }
      ]
    },
    {
      "cell_type": "code",
      "source": [
        "obj__class4.test__section1()"
      ],
      "metadata": {
        "colab": {
          "base_uri": "https://localhost:8080/"
        },
        "id": "2FeXvQUC-lT-",
        "outputId": "b018822d-0168-4437-f18e-4d71017e1468"
      },
      "execution_count": 76,
      "outputs": [
        {
          "output_type": "stream",
          "name": "stdout",
          "text": [
            "this is my section\n"
          ]
        }
      ]
    },
    {
      "cell_type": "code",
      "source": [],
      "metadata": {
        "id": "oAgRPCfv-qM4"
      },
      "execution_count": null,
      "outputs": []
    }
  ]
}