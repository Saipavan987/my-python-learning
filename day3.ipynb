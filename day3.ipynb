{
 "cells": [
  {
   "cell_type": "markdown",
   "id": "3c03c2f7-9926-4a44-b3e0-b528000203f0",
   "metadata": {},
   "source": [
    "#### 1.write the following line in poem format."
   ]
  },
  {
   "cell_type": "code",
   "execution_count": 25,
   "id": "8c5e9293-62f9-4c46-b0ba-5efd43cd196d",
   "metadata": {},
   "outputs": [
    {
     "name": "stdout",
     "output_type": "stream",
     "text": [
      "Twinkle, twinkle, little star, \n",
      "      How i wonder what you are, \n",
      "              up above the world so high, \n",
      "              like the diamond in the sky. \n",
      "Twinkle twinkle, little star, \n",
      "           How i wonder what you are.\n"
     ]
    }
   ],
   "source": [
    "print(\"Twinkle, twinkle, little star, \\n      How i wonder what you are, \\n              up above the world so high, \\n              like the diamond in the sky. \\nTwinkle twinkle, little star, \\n           How i wonder what you are.\")"
   ]
  },
  {
   "cell_type": "markdown",
   "id": "b968beb9-dae1-4315-a76b-3eb8b961693b",
   "metadata": {},
   "source": [
    "#### 2.To display current date and time"
   ]
  },
  {
   "cell_type": "code",
   "execution_count": 59,
   "id": "1df9102e-315f-411e-9ec2-e87e5bc40d28",
   "metadata": {},
   "outputs": [],
   "source": [
    "import datetime \n",
    "###imports the date and time"
   ]
  },
  {
   "cell_type": "code",
   "execution_count": 127,
   "id": "9d7e4e08-19a1-490a-9906-969b545d99a0",
   "metadata": {},
   "outputs": [],
   "source": [
    "now = (datetime.datetime.now())\n",
    "###get the current date and time"
   ]
  },
  {
   "cell_type": "code",
   "execution_count": 157,
   "id": "61f83a4d-05ae-4365-aed6-6bc7897cff29",
   "metadata": {},
   "outputs": [
    {
     "name": "stdout",
     "output_type": "stream",
     "text": [
      "11/29/23--18:42:48\n"
     ]
    }
   ],
   "source": [
    "print(now.strftime(\"%D--%H:%M:%S\"))\n",
    "###strftime prints in a stream"
   ]
  },
  {
   "cell_type": "markdown",
   "id": "51f3b442-2ca7-4899-899c-86faea96d786",
   "metadata": {},
   "source": [
    "#### 3.To find the version of python"
   ]
  },
  {
   "cell_type": "code",
   "execution_count": 160,
   "id": "8bf54174-7b11-4b68-907a-cc1d040c3db9",
   "metadata": {},
   "outputs": [],
   "source": [
    "import sys"
   ]
  },
  {
   "cell_type": "code",
   "execution_count": 174,
   "id": "45833bc6-8177-4b6b-806f-7d2bd11a874d",
   "metadata": {},
   "outputs": [
    {
     "name": "stdout",
     "output_type": "stream",
     "text": [
      "3.11.5 (main, Sep 11 2023, 13:54:46) [GCC 11.2.0]\n"
     ]
    }
   ],
   "source": [
    "print(sys.version)"
   ]
  },
  {
   "cell_type": "markdown",
   "id": "a79265fd-28b4-4ab9-840e-034834eb7332",
   "metadata": {},
   "source": [
    "#### 3.To calculate area using r=1.1"
   ]
  },
  {
   "cell_type": "code",
   "execution_count": 179,
   "id": "2ffbdf60-3ca0-4211-8f08-78d2d28e5e3b",
   "metadata": {},
   "outputs": [],
   "source": [
    "radius = 1.1"
   ]
  },
  {
   "cell_type": "code",
   "execution_count": 11,
   "id": "5b7e2d9e-1e47-4746-ab1e-468d662bc185",
   "metadata": {},
   "outputs": [],
   "source": [
    "from math import pi\n"
   ]
  },
  {
   "cell_type": "code",
   "execution_count": 33,
   "id": "43a902a5-6c53-452c-aad7-aaaaab67e86b",
   "metadata": {},
   "outputs": [
    {
     "name": "stdin",
     "output_type": "stream",
     "text": [
      "input the radius of circle: 1.1\n"
     ]
    }
   ],
   "source": [
    "r = float(input(\"input the radius of circle:\"))"
   ]
  },
  {
   "cell_type": "code",
   "execution_count": 39,
   "id": "6339b9a3-3e37-4020-b78b-6a7437a778f5",
   "metadata": {
    "tags": []
   },
   "outputs": [],
   "source": [
    "area = pi* r **2"
   ]
  },
  {
   "cell_type": "code",
   "execution_count": 43,
   "id": "b5f3747c-cbee-4185-af16-446ca9e216a8",
   "metadata": {},
   "outputs": [
    {
     "name": "stdout",
     "output_type": "stream",
     "text": [
      "3.8013271108436504\n"
     ]
    }
   ],
   "source": [
    "print(area)"
   ]
  },
  {
   "cell_type": "markdown",
   "id": "c25dba99-8ff4-4180-a2ca-d25a8ce6c0dd",
   "metadata": {},
   "source": [
    "#### 4.write user name in reverse order with space between them"
   ]
  },
  {
   "cell_type": "code",
   "execution_count": 56,
   "id": "55c2e548-bfe0-40eb-ad7a-cc476b82a1bb",
   "metadata": {},
   "outputs": [],
   "source": [
    "user_name = \"SaiPavanMR\" "
   ]
  },
  {
   "cell_type": "code",
   "execution_count": 88,
   "id": "ec026fbd-6e57-4652-840a-16c5480d0688",
   "metadata": {},
   "outputs": [
    {
     "data": {
      "text/plain": [
       "'R M n a v a P i a S'"
      ]
     },
     "execution_count": 88,
     "metadata": {},
     "output_type": "execute_result"
    }
   ],
   "source": [
    "\" \".join(reversed(\"SaiPavanMR\"))"
   ]
  },
  {
   "cell_type": "markdown",
   "id": "0fc8e37c-1a7d-447c-a5f9-8cc2ce7e276b",
   "metadata": {},
   "source": [
    "#### 5.sequence of numbers from the user\n",
    "#### in tuple = 3 5 7 23"
   ]
  },
  {
   "cell_type": "code",
   "execution_count": 11,
   "id": "8cc1778d-25ff-4ab5-9b63-c4a47b7e8189",
   "metadata": {},
   "outputs": [],
   "source": [
    "t1 = (3,5,7,23)"
   ]
  },
  {
   "cell_type": "code",
   "execution_count": 13,
   "id": "fd02ea14-31cd-4407-a391-fd73eaecc6fd",
   "metadata": {},
   "outputs": [
    {
     "data": {
      "text/plain": [
       "tuple"
      ]
     },
     "execution_count": 13,
     "metadata": {},
     "output_type": "execute_result"
    }
   ],
   "source": [
    "type(t1)"
   ]
  },
  {
   "cell_type": "code",
   "execution_count": 15,
   "id": "b834b352-9b57-4cc4-b39d-5103c3beabf7",
   "metadata": {},
   "outputs": [
    {
     "name": "stdout",
     "output_type": "stream",
     "text": [
      "(3, 5, 7, 23)\n"
     ]
    }
   ],
   "source": [
    "print(t1)"
   ]
  }
 ],
 "metadata": {
  "kernelspec": {
   "display_name": "anaconda-panel-2023.05-py310",
   "language": "python",
   "name": "conda-env-anaconda-panel-2023.05-py310-py"
  },
  "language_info": {
   "codemirror_mode": {
    "name": "ipython",
    "version": 3
   },
   "file_extension": ".py",
   "mimetype": "text/x-python",
   "name": "python",
   "nbconvert_exporter": "python",
   "pygments_lexer": "ipython3",
   "version": "3.11.5"
  }
 },
 "nbformat": 4,
 "nbformat_minor": 5
}
