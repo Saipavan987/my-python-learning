{
  "nbformat": 4,
  "nbformat_minor": 0,
  "metadata": {
    "colab": {
      "provenance": []
    },
    "kernelspec": {
      "name": "python3",
      "display_name": "Python 3"
    },
    "language_info": {
      "name": "python"
    }
  },
  "cells": [
    {
      "cell_type": "markdown",
      "source": [
        "# TUPLES\n"
      ],
      "metadata": {
        "id": "BjDDWGv2RJ4l"
      }
    },
    {
      "cell_type": "markdown",
      "source": [
        "#### 1. Write a python program to create a tuples"
      ],
      "metadata": {
        "id": "FLqbgGL5RQRY"
      }
    },
    {
      "cell_type": "code",
      "source": [
        "t1 = ()"
      ],
      "metadata": {
        "id": "JL5YYcR1RXYa"
      },
      "execution_count": null,
      "outputs": []
    },
    {
      "cell_type": "code",
      "source": [
        "type(t1)"
      ],
      "metadata": {
        "colab": {
          "base_uri": "https://localhost:8080/"
        },
        "id": "69es6V1rRe5p",
        "outputId": "08a869a0-0eeb-4182-a184-9a359996661b"
      },
      "execution_count": null,
      "outputs": [
        {
          "output_type": "execute_result",
          "data": {
            "text/plain": [
              "tuple"
            ]
          },
          "metadata": {},
          "execution_count": 4
        }
      ]
    },
    {
      "cell_type": "code",
      "source": [
        "t2 = (5,65,85,\"sai\",8+7j)"
      ],
      "metadata": {
        "id": "bQge8ph7Ri1t"
      },
      "execution_count": null,
      "outputs": []
    },
    {
      "cell_type": "code",
      "source": [
        "type(t2)"
      ],
      "metadata": {
        "colab": {
          "base_uri": "https://localhost:8080/"
        },
        "id": "bFRoLqPxRqEL",
        "outputId": "bccdfd1d-ce8d-4775-baff-1376a22c102c"
      },
      "execution_count": null,
      "outputs": [
        {
          "output_type": "execute_result",
          "data": {
            "text/plain": [
              "tuple"
            ]
          },
          "metadata": {},
          "execution_count": 8
        }
      ]
    },
    {
      "cell_type": "markdown",
      "source": [
        "#### 2. Write a python program to create a tuple of numbers and print one item"
      ],
      "metadata": {
        "id": "aBKgmjvCRvNI"
      }
    },
    {
      "cell_type": "code",
      "source": [
        "tuples = (85,456,852,\"sai\",45+8j)"
      ],
      "metadata": {
        "id": "Ux9yTezLSNcF"
      },
      "execution_count": null,
      "outputs": []
    },
    {
      "cell_type": "code",
      "source": [
        "type(tuples)"
      ],
      "metadata": {
        "colab": {
          "base_uri": "https://localhost:8080/"
        },
        "id": "IdeeUKn1SZdK",
        "outputId": "814a6ae6-824d-4056-8011-f060296896b1"
      },
      "execution_count": null,
      "outputs": [
        {
          "output_type": "execute_result",
          "data": {
            "text/plain": [
              "tuple"
            ]
          },
          "metadata": {},
          "execution_count": 13
        }
      ]
    },
    {
      "cell_type": "code",
      "source": [
        "tuples[0]"
      ],
      "metadata": {
        "colab": {
          "base_uri": "https://localhost:8080/"
        },
        "id": "E_umRObrSdie",
        "outputId": "7faccc49-9baf-425e-e4fc-6ea240c626f5"
      },
      "execution_count": null,
      "outputs": [
        {
          "output_type": "execute_result",
          "data": {
            "text/plain": [
              "85"
            ]
          },
          "metadata": {},
          "execution_count": 15
        }
      ]
    },
    {
      "cell_type": "code",
      "source": [
        "print(tuples)"
      ],
      "metadata": {
        "colab": {
          "base_uri": "https://localhost:8080/"
        },
        "id": "U9j9hVDYSj1Q",
        "outputId": "23ef3f7e-c81e-430c-a7d0-a46d2afe78f0"
      },
      "execution_count": null,
      "outputs": [
        {
          "output_type": "stream",
          "name": "stdout",
          "text": [
            "(85, 456, 852, 'sai', (45+8j))\n"
          ]
        }
      ]
    },
    {
      "cell_type": "markdown",
      "source": [
        "#### 3.write a python program to unpack tuple into several variables"
      ],
      "metadata": {
        "id": "c-NxjZbzSrWw"
      }
    },
    {
      "cell_type": "code",
      "source": [
        "tuplex = 85,47,79,5236"
      ],
      "metadata": {
        "id": "hUM9NokiTJtW"
      },
      "execution_count": null,
      "outputs": []
    },
    {
      "cell_type": "code",
      "source": [
        "tuple(tuplex)"
      ],
      "metadata": {
        "colab": {
          "base_uri": "https://localhost:8080/"
        },
        "id": "fzVsktNZTPhM",
        "outputId": "d5141567-3cfc-41b7-f4db-49d5f2106f67"
      },
      "execution_count": null,
      "outputs": [
        {
          "output_type": "execute_result",
          "data": {
            "text/plain": [
              "(85, 47, 79, 5236)"
            ]
          },
          "metadata": {},
          "execution_count": 21
        }
      ]
    },
    {
      "cell_type": "code",
      "source": [
        "n1,n2,n3,n4 = tuplex"
      ],
      "metadata": {
        "id": "anv-fwXmTTQj"
      },
      "execution_count": null,
      "outputs": []
    },
    {
      "cell_type": "code",
      "source": [
        "print(n1+n2+n3+n4)"
      ],
      "metadata": {
        "colab": {
          "base_uri": "https://localhost:8080/"
        },
        "id": "pSQdqPWATcnE",
        "outputId": "c7891c35-cfcd-409d-d636-14758f3a906a"
      },
      "execution_count": null,
      "outputs": [
        {
          "output_type": "stream",
          "name": "stdout",
          "text": [
            "5447\n"
          ]
        }
      ]
    },
    {
      "cell_type": "markdown",
      "source": [
        "#### 4. write a python program to add a item to a tuple"
      ],
      "metadata": {
        "id": "IdBFueU1TuJz"
      }
    },
    {
      "cell_type": "code",
      "source": [
        "s1 = (852,456,951,753)"
      ],
      "metadata": {
        "id": "VLr1raxOT6HQ"
      },
      "execution_count": null,
      "outputs": []
    },
    {
      "cell_type": "code",
      "source": [
        "set(s1)"
      ],
      "metadata": {
        "colab": {
          "base_uri": "https://localhost:8080/"
        },
        "id": "0ssExorMWWqy",
        "outputId": "e0473dac-b82c-4ffc-fe6e-b5f624d8e39e"
      },
      "execution_count": null,
      "outputs": [
        {
          "output_type": "execute_result",
          "data": {
            "text/plain": [
              "{456, 753, 852, 951}"
            ]
          },
          "metadata": {},
          "execution_count": 95
        }
      ]
    },
    {
      "cell_type": "code",
      "source": [
        "si=set(s1)"
      ],
      "metadata": {
        "id": "GDzFQontY_dp"
      },
      "execution_count": null,
      "outputs": []
    },
    {
      "cell_type": "code",
      "source": [
        "type(si)"
      ],
      "metadata": {
        "colab": {
          "base_uri": "https://localhost:8080/"
        },
        "id": "wKmQwKuKZMQ0",
        "outputId": "dbe43858-fd27-4fae-a7f9-37f8e36c4685"
      },
      "execution_count": null,
      "outputs": [
        {
          "output_type": "execute_result",
          "data": {
            "text/plain": [
              "set"
            ]
          },
          "metadata": {},
          "execution_count": 101
        }
      ]
    },
    {
      "cell_type": "code",
      "source": [
        "si.add(865)"
      ],
      "metadata": {
        "id": "8ldIagXVZQ13"
      },
      "execution_count": null,
      "outputs": []
    },
    {
      "cell_type": "code",
      "source": [
        "si"
      ],
      "metadata": {
        "colab": {
          "base_uri": "https://localhost:8080/"
        },
        "id": "cOvwhfH6ZUjK",
        "outputId": "6b22bf5a-52c5-49fd-cd35-c3fef75fd31c"
      },
      "execution_count": null,
      "outputs": [
        {
          "output_type": "execute_result",
          "data": {
            "text/plain": [
              "{456, 753, 852, 865, 951}"
            ]
          },
          "metadata": {},
          "execution_count": 105
        }
      ]
    },
    {
      "cell_type": "code",
      "source": [
        "s8 = tuple(si)"
      ],
      "metadata": {
        "id": "a50chUbKZWZj"
      },
      "execution_count": null,
      "outputs": []
    },
    {
      "cell_type": "code",
      "source": [
        "si"
      ],
      "metadata": {
        "colab": {
          "base_uri": "https://localhost:8080/"
        },
        "id": "RoxpfEzSZc36",
        "outputId": "be50ab4b-3d74-4618-daf1-9c7b9f0788db"
      },
      "execution_count": null,
      "outputs": [
        {
          "output_type": "execute_result",
          "data": {
            "text/plain": [
              "{456, 753, 852, 865, 951}"
            ]
          },
          "metadata": {},
          "execution_count": 111
        }
      ]
    },
    {
      "cell_type": "code",
      "source": [
        "type(s8)"
      ],
      "metadata": {
        "colab": {
          "base_uri": "https://localhost:8080/"
        },
        "id": "-hh2LORJZjzz",
        "outputId": "50338ad5-ed79-46ec-a17c-90bad1d503a7"
      },
      "execution_count": null,
      "outputs": [
        {
          "output_type": "execute_result",
          "data": {
            "text/plain": [
              "tuple"
            ]
          },
          "metadata": {},
          "execution_count": 113
        }
      ]
    },
    {
      "cell_type": "markdown",
      "source": [
        "#### 5.Write a python program to get 4th element from the last of a tuple"
      ],
      "metadata": {
        "id": "yEBpU-WgkpYg"
      }
    },
    {
      "cell_type": "code",
      "source": [
        "tupp = (1,5,96,853,45632,8562)"
      ],
      "metadata": {
        "id": "HOPYB14yk1ht"
      },
      "execution_count": null,
      "outputs": []
    },
    {
      "cell_type": "code",
      "source": [
        "type(tupp)"
      ],
      "metadata": {
        "colab": {
          "base_uri": "https://localhost:8080/"
        },
        "id": "CDq3hZeLlRn0",
        "outputId": "a3df5496-685f-4f19-8399-9691972e4b82"
      },
      "execution_count": null,
      "outputs": [
        {
          "output_type": "execute_result",
          "data": {
            "text/plain": [
              "tuple"
            ]
          },
          "metadata": {},
          "execution_count": 117
        }
      ]
    },
    {
      "cell_type": "code",
      "source": [
        "t2 = tupp[-4]"
      ],
      "metadata": {
        "id": "wlvNwd3AlVp1"
      },
      "execution_count": null,
      "outputs": []
    },
    {
      "cell_type": "code",
      "source": [
        "print(t2)"
      ],
      "metadata": {
        "colab": {
          "base_uri": "https://localhost:8080/"
        },
        "id": "9V1gMEnDlljt",
        "outputId": "b5aa867a-6afc-4b63-c9bf-5db307eb391b"
      },
      "execution_count": null,
      "outputs": [
        {
          "output_type": "stream",
          "name": "stdout",
          "text": [
            "96\n"
          ]
        }
      ]
    },
    {
      "cell_type": "markdown",
      "source": [
        "#### 6.write a python program to repeated items in tuple\n"
      ],
      "metadata": {
        "id": "0sV1pypAlt1N"
      }
    },
    {
      "cell_type": "code",
      "source": [
        "items = (5,5,8,9,4,6,753,456,85,951235,5,5,4,4,4,77,)"
      ],
      "metadata": {
        "id": "YvVdOVwznBl3"
      },
      "execution_count": null,
      "outputs": []
    },
    {
      "cell_type": "code",
      "source": [
        "type(items)"
      ],
      "metadata": {
        "colab": {
          "base_uri": "https://localhost:8080/"
        },
        "id": "RgS8P71wnNkR",
        "outputId": "a890f81d-25fd-427b-d457-f67c0f8004ab"
      },
      "execution_count": null,
      "outputs": [
        {
          "output_type": "execute_result",
          "data": {
            "text/plain": [
              "tuple"
            ]
          },
          "metadata": {},
          "execution_count": 127
        },
        {
          "output_type": "execute_result",
          "data": {
            "text/plain": [
              "tuple"
            ]
          },
          "metadata": {},
          "execution_count": 128
        }
      ]
    },
    {
      "cell_type": "code",
      "source": [
        "items.count(5)"
      ],
      "metadata": {
        "colab": {
          "base_uri": "https://localhost:8080/"
        },
        "id": "-IqMK67MnXxb",
        "outputId": "d3daaa1c-f419-4a0c-9a16-b6914cebf701"
      },
      "execution_count": null,
      "outputs": [
        {
          "output_type": "execute_result",
          "data": {
            "text/plain": [
              "4"
            ]
          },
          "metadata": {},
          "execution_count": 131
        }
      ]
    },
    {
      "cell_type": "code",
      "source": [
        "items.count(4)"
      ],
      "metadata": {
        "colab": {
          "base_uri": "https://localhost:8080/"
        },
        "id": "b4TfalGvnkTJ",
        "outputId": "0f1b9faa-685a-4f80-a96f-b7767fd1edcf"
      },
      "execution_count": null,
      "outputs": [
        {
          "output_type": "execute_result",
          "data": {
            "text/plain": [
              "4"
            ]
          },
          "metadata": {},
          "execution_count": 133
        }
      ]
    },
    {
      "cell_type": "markdown",
      "source": [
        "#### 7.write a python program to check whether a element exists in the tuple"
      ],
      "metadata": {
        "id": "bSuCYpFun7zE"
      }
    },
    {
      "cell_type": "code",
      "source": [
        "tup = (8,56,75,\"sai\",\"pavan\",\"sevanthi\",896,4562,)"
      ],
      "metadata": {
        "id": "9c0IQULIn3aQ"
      },
      "execution_count": null,
      "outputs": []
    },
    {
      "cell_type": "code",
      "source": [
        "\"sai\" in tup"
      ],
      "metadata": {
        "colab": {
          "base_uri": "https://localhost:8080/"
        },
        "id": "TYw4kngcoVmZ",
        "outputId": "d965b745-b1c0-49a8-9fbd-928733756753"
      },
      "execution_count": null,
      "outputs": [
        {
          "output_type": "execute_result",
          "data": {
            "text/plain": [
              "True"
            ]
          },
          "metadata": {},
          "execution_count": 138
        }
      ]
    },
    {
      "cell_type": "code",
      "source": [
        "if \"sevanthi\" in tup:\n",
        "  print(\"sevanthi is in my heart\")\n",
        "else:\n",
        "  print(\"no tuple\")\n"
      ],
      "metadata": {
        "colab": {
          "base_uri": "https://localhost:8080/"
        },
        "id": "9tzwel1uoZc-",
        "outputId": "8a56c190-3969-4f3c-bf72-4b5b047333ea"
      },
      "execution_count": null,
      "outputs": [
        {
          "output_type": "stream",
          "name": "stdout",
          "text": [
            "sevanthi is in my heart\n"
          ]
        }
      ]
    },
    {
      "cell_type": "markdown",
      "source": [
        "#### 8.write a python program to slice a tuple"
      ],
      "metadata": {
        "id": "kLZVSgEuo_H8"
      }
    },
    {
      "cell_type": "code",
      "source": [
        "trr = (853,856,1,2,5,6,8,462)"
      ],
      "metadata": {
        "id": "wPpR2fGRpL-c"
      },
      "execution_count": null,
      "outputs": []
    },
    {
      "cell_type": "code",
      "source": [
        "trr[::-1]"
      ],
      "metadata": {
        "colab": {
          "base_uri": "https://localhost:8080/"
        },
        "id": "DTX-SURupSHI",
        "outputId": "d5ea38aa-38fa-4415-ed14-fbf6e29264db"
      },
      "execution_count": null,
      "outputs": [
        {
          "output_type": "execute_result",
          "data": {
            "text/plain": [
              "(462, 8, 6, 5, 2, 1, 856, 853)"
            ]
          },
          "metadata": {},
          "execution_count": 146
        }
      ]
    },
    {
      "cell_type": "code",
      "source": [
        "trr[1:5]"
      ],
      "metadata": {
        "colab": {
          "base_uri": "https://localhost:8080/"
        },
        "id": "RDCm_AE8pxB_",
        "outputId": "0d757988-35de-4efb-e137-31db77352640"
      },
      "execution_count": null,
      "outputs": [
        {
          "output_type": "execute_result",
          "data": {
            "text/plain": [
              "(856, 1, 2, 5)"
            ]
          },
          "metadata": {},
          "execution_count": 148
        }
      ]
    },
    {
      "cell_type": "markdown",
      "source": [
        "#### 9.write a python program to find an index number in elements"
      ],
      "metadata": {
        "id": "CqFjZP0MqAaS"
      }
    },
    {
      "cell_type": "code",
      "source": [
        "suk = (89,78,42,2,4,8,2,5,65,8,)"
      ],
      "metadata": {
        "id": "ZDk1p2a0qIQC"
      },
      "execution_count": null,
      "outputs": []
    },
    {
      "cell_type": "code",
      "source": [
        "len(suk)"
      ],
      "metadata": {
        "colab": {
          "base_uri": "https://localhost:8080/"
        },
        "id": "Y1XxtK59qSWJ",
        "outputId": "8f50956b-3f33-463b-afe3-621282223dde"
      },
      "execution_count": null,
      "outputs": [
        {
          "output_type": "execute_result",
          "data": {
            "text/plain": [
              "10"
            ]
          },
          "metadata": {},
          "execution_count": 153
        }
      ]
    },
    {
      "cell_type": "code",
      "source": [
        "suk.index(5)"
      ],
      "metadata": {
        "colab": {
          "base_uri": "https://localhost:8080/"
        },
        "id": "ndinrS9Yq_vD",
        "outputId": "edd107d1-3eb1-4c2b-8959-87585eea13c6"
      },
      "execution_count": null,
      "outputs": [
        {
          "output_type": "execute_result",
          "data": {
            "text/plain": [
              "7"
            ]
          },
          "metadata": {},
          "execution_count": 155
        }
      ]
    },
    {
      "cell_type": "markdown",
      "source": [
        "#### 10.write a program to convert tuple into dictionary"
      ],
      "metadata": {
        "id": "mhHXk9JsrqSQ"
      }
    },
    {
      "cell_type": "code",
      "source": [
        "tuplerrr = ((825,\"sai\"),(5896,\"pavan\"))"
      ],
      "metadata": {
        "id": "BJT1-O3qr0HF"
      },
      "execution_count": null,
      "outputs": []
    },
    {
      "cell_type": "code",
      "source": [
        "tuplexxxx = dict(tuplerrr)"
      ],
      "metadata": {
        "id": "_zt9nJsgsJ5H"
      },
      "execution_count": null,
      "outputs": []
    },
    {
      "cell_type": "code",
      "source": [
        "type(tuplexxxx)"
      ],
      "metadata": {
        "colab": {
          "base_uri": "https://localhost:8080/"
        },
        "id": "lePKHTK9sRvg",
        "outputId": "edea9209-ab9b-4bad-f504-dec4917e0fe7"
      },
      "execution_count": null,
      "outputs": [
        {
          "output_type": "execute_result",
          "data": {
            "text/plain": [
              "dict"
            ]
          },
          "metadata": {},
          "execution_count": 165
        }
      ]
    },
    {
      "cell_type": "code",
      "source": [
        "tuplexxxx"
      ],
      "metadata": {
        "colab": {
          "base_uri": "https://localhost:8080/"
        },
        "id": "zVk0EHohsVwC",
        "outputId": "82181609-e8b1-4b9b-ed8b-79db5811ba76"
      },
      "execution_count": null,
      "outputs": [
        {
          "output_type": "execute_result",
          "data": {
            "text/plain": [
              "{825: 'sai', 5896: 'pavan'}"
            ]
          },
          "metadata": {},
          "execution_count": 167
        }
      ]
    },
    {
      "cell_type": "markdown",
      "source": [
        "#### 11.to unzip a list of tuples"
      ],
      "metadata": {
        "id": "3NnHliYzsa9h"
      }
    },
    {
      "cell_type": "code",
      "source": [
        "unzip = ((48,86),(978,96),(75,95))"
      ],
      "metadata": {
        "id": "sPgbrWhns8W4"
      },
      "execution_count": null,
      "outputs": []
    },
    {
      "cell_type": "code",
      "source": [
        "result =list(zip(*unzip))"
      ],
      "metadata": {
        "id": "NvexA_WotJQc"
      },
      "execution_count": null,
      "outputs": []
    },
    {
      "cell_type": "code",
      "source": [
        "print(result)"
      ],
      "metadata": {
        "colab": {
          "base_uri": "https://localhost:8080/"
        },
        "id": "O_Pz52UzuRHh",
        "outputId": "65978489-a941-4dd6-c3e6-e97797f53afb"
      },
      "execution_count": null,
      "outputs": [
        {
          "output_type": "stream",
          "name": "stdout",
          "text": [
            "[(48, 978, 75), (86, 96, 95)]\n"
          ]
        }
      ]
    },
    {
      "cell_type": "markdown",
      "source": [
        "#### 12.write a pythgon program to reverse a tuples"
      ],
      "metadata": {
        "id": "etl07yOPSyou"
      }
    },
    {
      "cell_type": "code",
      "source": [
        "hemzz = 12,86,95,75,\"saai\",\"suvi\""
      ],
      "metadata": {
        "id": "39BZ8FMxTDGq"
      },
      "execution_count": 1,
      "outputs": []
    },
    {
      "cell_type": "code",
      "source": [
        "tuple(hemzz)"
      ],
      "metadata": {
        "colab": {
          "base_uri": "https://localhost:8080/"
        },
        "id": "EmENbsHQTNpj",
        "outputId": "3f063498-55ba-4ecb-c6a3-eb277879c0dd"
      },
      "execution_count": 3,
      "outputs": [
        {
          "output_type": "execute_result",
          "data": {
            "text/plain": [
              "(12, 86, 95, 75, 'saai', 'suvi')"
            ]
          },
          "metadata": {},
          "execution_count": 3
        }
      ]
    },
    {
      "cell_type": "code",
      "source": [
        "hemzz[::-1]"
      ],
      "metadata": {
        "colab": {
          "base_uri": "https://localhost:8080/"
        },
        "id": "fwFJydGwTVVF",
        "outputId": "25660fdd-eb4f-4c80-b424-b57cc37c9c1a"
      },
      "execution_count": 7,
      "outputs": [
        {
          "output_type": "execute_result",
          "data": {
            "text/plain": [
              "('suvi', 'saai', 75, 95, 86, 12)"
            ]
          },
          "metadata": {},
          "execution_count": 7
        }
      ]
    },
    {
      "cell_type": "code",
      "source": [
        "hemzz[::-2]"
      ],
      "metadata": {
        "colab": {
          "base_uri": "https://localhost:8080/"
        },
        "id": "LRvbZL8hTelb",
        "outputId": "4478304d-3ae3-4009-beda-1ac64abc1209"
      },
      "execution_count": 9,
      "outputs": [
        {
          "output_type": "execute_result",
          "data": {
            "text/plain": [
              "('suvi', 75, 86)"
            ]
          },
          "metadata": {},
          "execution_count": 9
        }
      ]
    },
    {
      "cell_type": "markdown",
      "source": [
        "#### 13. write a python program to print a tuple with string formatting sample tuple = (852,951,753,654,761,943)"
      ],
      "metadata": {
        "id": "vWYXNpbJT6W4"
      }
    },
    {
      "cell_type": "code",
      "source": [
        "sample = 852,951,753,654,761,943"
      ],
      "metadata": {
        "id": "1uq_TTpNUN6X"
      },
      "execution_count": 10,
      "outputs": []
    },
    {
      "cell_type": "code",
      "source": [
        "tuple(sample)\n",
        "print(\"this is a sample tuple {}\".format(sample))"
      ],
      "metadata": {
        "colab": {
          "base_uri": "https://localhost:8080/"
        },
        "id": "KvZe9NOWUfP7",
        "outputId": "41319c6d-17a1-43f2-d24e-1c396c33d1d9"
      },
      "execution_count": 14,
      "outputs": [
        {
          "output_type": "stream",
          "name": "stdout",
          "text": [
            "this is a sample tuple (852, 951, 753, 654, 761, 943)\n"
          ]
        }
      ]
    },
    {
      "cell_type": "markdown",
      "source": [
        "#### 14.write python program to replace last value of tuples in a list\n",
        "#### sample = [(10,20,40),(40,50,60),(70,80,90)] replace=100"
      ],
      "metadata": {
        "id": "Mp6oQVNAU-I6"
      }
    },
    {
      "cell_type": "code",
      "source": [
        "sam = [(10,20,40),(40,50,60),(70,80,90)]"
      ],
      "metadata": {
        "id": "YZSU9QkwW0R_"
      },
      "execution_count": 15,
      "outputs": []
    },
    {
      "cell_type": "code",
      "source": [
        "type(sam)"
      ],
      "metadata": {
        "colab": {
          "base_uri": "https://localhost:8080/"
        },
        "id": "ncfuKm2yXMiW",
        "outputId": "29743b0a-3beb-44cd-f0a9-59977a93f33e"
      },
      "execution_count": 17,
      "outputs": [
        {
          "output_type": "execute_result",
          "data": {
            "text/plain": [
              "list"
            ]
          },
          "metadata": {},
          "execution_count": 17
        }
      ]
    },
    {
      "cell_type": "code",
      "source": [
        "len(sam)"
      ],
      "metadata": {
        "colab": {
          "base_uri": "https://localhost:8080/"
        },
        "id": "iKFOjkrSXP6r",
        "outputId": "aacac72e-a4ff-49d9-c67f-7c6ea7216a3c"
      },
      "execution_count": 31,
      "outputs": [
        {
          "output_type": "execute_result",
          "data": {
            "text/plain": [
              "3"
            ]
          },
          "metadata": {},
          "execution_count": 31
        }
      ]
    },
    {
      "cell_type": "code",
      "source": [
        "print([t[:-1]+(100,) for t in sam])"
      ],
      "metadata": {
        "colab": {
          "base_uri": "https://localhost:8080/"
        },
        "id": "1mIlFxOfYRgf",
        "outputId": "66291749-d591-4e84-b4d3-c1aa75b97db7"
      },
      "execution_count": 35,
      "outputs": [
        {
          "output_type": "stream",
          "name": "stdout",
          "text": [
            "[(10, 20, 100), (40, 50, 100), (70, 80, 100)]\n"
          ]
        }
      ]
    },
    {
      "cell_type": "code",
      "source": [
        "tuple(sam)"
      ],
      "metadata": {
        "colab": {
          "base_uri": "https://localhost:8080/"
        },
        "id": "sVh5EtzyZa0I",
        "outputId": "fa2d46a5-44f9-45d9-ea50-56c68b6f2442"
      },
      "execution_count": 36,
      "outputs": [
        {
          "output_type": "execute_result",
          "data": {
            "text/plain": [
              "((10, 20, 40), (40, 50, 60), (70, 80, 90))"
            ]
          },
          "metadata": {},
          "execution_count": 36
        }
      ]
    },
    {
      "cell_type": "markdown",
      "source": [
        "#### 15.write python program to remove an empty tuple from a list of tuples [(),(),(sai),(sev),1,52,]"
      ],
      "metadata": {
        "id": "LNOeL4a6ZfR5"
      }
    },
    {
      "cell_type": "code",
      "source": [
        "l = (),(),(\"sai\"),(\"sev\"),1,52"
      ],
      "metadata": {
        "id": "wtwVqjQQakS6"
      },
      "execution_count": 73,
      "outputs": []
    },
    {
      "cell_type": "code",
      "source": [
        "type(l)"
      ],
      "metadata": {
        "colab": {
          "base_uri": "https://localhost:8080/"
        },
        "id": "hvaJevc8a_gw",
        "outputId": "9cc0d7e0-5880-4266-894e-cebfd7b56ce0"
      },
      "execution_count": 74,
      "outputs": [
        {
          "output_type": "execute_result",
          "data": {
            "text/plain": [
              "tuple"
            ]
          },
          "metadata": {},
          "execution_count": 74
        }
      ]
    },
    {
      "cell_type": "code",
      "source": [
        "l1=list(l)"
      ],
      "metadata": {
        "id": "KkwEbh4TcCDG"
      },
      "execution_count": 75,
      "outputs": []
    },
    {
      "cell_type": "code",
      "source": [
        "type(l1)"
      ],
      "metadata": {
        "colab": {
          "base_uri": "https://localhost:8080/"
        },
        "id": "UW3qtUfAcFIS",
        "outputId": "89e57604-394b-4687-d032-7d4713af6ba8"
      },
      "execution_count": 76,
      "outputs": [
        {
          "output_type": "execute_result",
          "data": {
            "text/plain": [
              "list"
            ]
          },
          "metadata": {},
          "execution_count": 76
        }
      ]
    },
    {
      "cell_type": "code",
      "source": [
        "l1"
      ],
      "metadata": {
        "colab": {
          "base_uri": "https://localhost:8080/"
        },
        "id": "YceX8xn7cyY5",
        "outputId": "8ebb72f5-03ec-4ac3-9d2f-6425eb9dfd25"
      },
      "execution_count": 77,
      "outputs": [
        {
          "output_type": "execute_result",
          "data": {
            "text/plain": [
              "[(), (), 'sai', 'sev', 1, 52]"
            ]
          },
          "metadata": {},
          "execution_count": 77
        }
      ]
    },
    {
      "cell_type": "code",
      "source": [
        "l1.pop(0)"
      ],
      "metadata": {
        "colab": {
          "base_uri": "https://localhost:8080/"
        },
        "id": "naKo--zTczws",
        "outputId": "c6cac7e3-6004-49e7-f695-704832b55f29"
      },
      "execution_count": 79,
      "outputs": [
        {
          "output_type": "execute_result",
          "data": {
            "text/plain": [
              "()"
            ]
          },
          "metadata": {},
          "execution_count": 79
        }
      ]
    },
    {
      "cell_type": "code",
      "source": [
        "l1"
      ],
      "metadata": {
        "colab": {
          "base_uri": "https://localhost:8080/"
        },
        "id": "KTodD7E6dDva",
        "outputId": "29b8291d-e2ed-4edb-e90b-2ff7dab395ee"
      },
      "execution_count": 81,
      "outputs": [
        {
          "output_type": "execute_result",
          "data": {
            "text/plain": [
              "['sai', 'sev', 1, 52]"
            ]
          },
          "metadata": {},
          "execution_count": 81
        }
      ]
    },
    {
      "cell_type": "markdown",
      "source": [
        "#### 16.write a python program to sort a tuple by its float element."
      ],
      "metadata": {
        "id": "m5ZxgKlSdG2_"
      }
    },
    {
      "cell_type": "code",
      "source": [
        "f = [('item1','12.20'),('item2','15.10'),('item3','24.5')]"
      ],
      "metadata": {
        "id": "F-DueDzNeGlP"
      },
      "execution_count": 83,
      "outputs": []
    },
    {
      "cell_type": "code",
      "source": [
        "f1 = sorted(f,key=lambda m: float(m[1]),reverse=True )"
      ],
      "metadata": {
        "id": "T4toiWBqeaZg"
      },
      "execution_count": 96,
      "outputs": []
    },
    {
      "cell_type": "code",
      "source": [
        "f1"
      ],
      "metadata": {
        "colab": {
          "base_uri": "https://localhost:8080/"
        },
        "id": "dP4auMTXed9b",
        "outputId": "06f69da2-13d3-479c-eef5-66195c353b9e"
      },
      "execution_count": 98,
      "outputs": [
        {
          "output_type": "execute_result",
          "data": {
            "text/plain": [
              "[('item3', '24.5'), ('item2', '15.10'), ('item1', '12.20')]"
            ]
          },
          "metadata": {},
          "execution_count": 98
        }
      ]
    },
    {
      "cell_type": "markdown",
      "source": [
        "#### 17.write a program to count index in list until element is tuple"
      ],
      "metadata": {
        "id": "EPFqht9gotId"
      }
    },
    {
      "cell_type": "code",
      "source": [
        "c = [25,45,987,856,(856,895),(896),8965]"
      ],
      "metadata": {
        "id": "YgU0-bpMo8Ua"
      },
      "execution_count": 99,
      "outputs": []
    },
    {
      "cell_type": "code",
      "source": [
        "for i in c:\n",
        "  if type(i)==tuple:\n",
        "    print(c.index(i))"
      ],
      "metadata": {
        "colab": {
          "base_uri": "https://localhost:8080/"
        },
        "id": "av0bPzj9pHbS",
        "outputId": "1f4bf93b-a927-481c-9f9d-8906b2b494f6"
      },
      "execution_count": 104,
      "outputs": [
        {
          "output_type": "stream",
          "name": "stdout",
          "text": [
            "4\n"
          ]
        }
      ]
    },
    {
      "cell_type": "markdown",
      "source": [],
      "metadata": {
        "id": "XNjZjF9HqQok"
      }
    }
  ]
}