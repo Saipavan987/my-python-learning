{
  "nbformat": 4,
  "nbformat_minor": 0,
  "metadata": {
    "colab": {
      "provenance": []
    },
    "kernelspec": {
      "name": "python3",
      "display_name": "Python 3"
    },
    "language_info": {
      "name": "python"
    }
  },
  "cells": [
    {
      "cell_type": "markdown",
      "source": [
        "# Logging and Debugging"
      ],
      "metadata": {
        "id": "znkI1o-8wNmF"
      }
    },
    {
      "cell_type": "markdown",
      "source": [
        "when doing the program there will be some purpose and if there is any error and we just print it it doesnt solve the program so we have to fix it thats where the logging concept comes into picture, in a production grade code we should not use the print where it will be gone while shutting down so wwe use logging"
      ],
      "metadata": {
        "id": "b4vUamN_wSWt"
      }
    },
    {
      "cell_type": "code",
      "execution_count": 129,
      "metadata": {
        "id": "UdkjfEiWwLz2"
      },
      "outputs": [],
      "source": [
        "import logging\n"
      ]
    },
    {
      "cell_type": "code",
      "source": [
        "with open(\"test.txt\",\"w\") as f:\n",
        "  print(f)"
      ],
      "metadata": {
        "colab": {
          "base_uri": "https://localhost:8080/"
        },
        "id": "-q6D1cZ5IhaM",
        "outputId": "175cb890-baf7-4151-918c-fba6349f3dbe"
      },
      "execution_count": 130,
      "outputs": [
        {
          "output_type": "stream",
          "name": "stdout",
          "text": [
            "<_io.TextIOWrapper name='test.txt' mode='w' encoding='UTF-8'>\n"
          ]
        }
      ]
    },
    {
      "cell_type": "code",
      "source": [
        "logging.basicConfig(filename = \"test.txt\" , level = logging.INFO)"
      ],
      "metadata": {
        "id": "ukhnW-uDwdr-"
      },
      "execution_count": 131,
      "outputs": []
    },
    {
      "cell_type": "code",
      "source": [
        "logging.info(\"this is my line of execution\")"
      ],
      "metadata": {
        "id": "niUH9HMEwoSC"
      },
      "execution_count": 132,
      "outputs": []
    },
    {
      "cell_type": "code",
      "source": [
        "logging.error(\"this is my error\")"
      ],
      "metadata": {
        "colab": {
          "base_uri": "https://localhost:8080/"
        },
        "id": "l31I-9luwu1Y",
        "outputId": "fb5b44d8-3a1f-4e53-d80b-319bda364df6"
      },
      "execution_count": 133,
      "outputs": [
        {
          "output_type": "stream",
          "name": "stderr",
          "text": [
            "ERROR:root:this is my error\n"
          ]
        }
      ]
    },
    {
      "cell_type": "code",
      "source": [
        "logging.critical(\"this is my critical\")"
      ],
      "metadata": {
        "colab": {
          "base_uri": "https://localhost:8080/"
        },
        "id": "Y1Z48icFw3zS",
        "outputId": "24d830b1-d70f-458f-c70b-c4e685312d6e"
      },
      "execution_count": 134,
      "outputs": [
        {
          "output_type": "stream",
          "name": "stderr",
          "text": [
            "CRITICAL:root:this is my critical\n"
          ]
        }
      ]
    },
    {
      "cell_type": "markdown",
      "source": [
        "different levels of logging in hierarchy\n",
        "1. NOSET\n",
        "2. DEBUG\n",
        "3. INFO\n",
        "4. WARNING\n",
        "5. ERROR\n",
        "6. CRITICAL\n",
        " this is the hierarchy any logging level is going to follow when the level is set and any this below the level will only be printed not above that level"
      ],
      "metadata": {
        "id": "-OpLF6WPy-X-"
      }
    },
    {
      "cell_type": "code",
      "source": [
        "logging.warning(\"this is my warning\")"
      ],
      "metadata": {
        "colab": {
          "base_uri": "https://localhost:8080/"
        },
        "id": "ulY1G7iNy4FC",
        "outputId": "7dc86cf9-4dd6-4285-d3f6-0dba86ffa852"
      },
      "execution_count": 135,
      "outputs": [
        {
          "output_type": "stream",
          "name": "stderr",
          "text": [
            "WARNING:root:this is my warning\n"
          ]
        }
      ]
    },
    {
      "cell_type": "markdown",
      "source": [
        "now letsee the debug"
      ],
      "metadata": {
        "id": "oUZK7vdezg0J"
      }
    },
    {
      "cell_type": "code",
      "source": [
        "logging.debug(\"this is my debug\")"
      ],
      "metadata": {
        "id": "2PEH4-jmzf-2"
      },
      "execution_count": 136,
      "outputs": []
    },
    {
      "cell_type": "markdown",
      "source": [
        "these above two are not logged"
      ],
      "metadata": {
        "id": "-vNwbbFzzs8_"
      }
    },
    {
      "cell_type": "markdown",
      "source": [
        "to close the logging we have to shutdown"
      ],
      "metadata": {
        "id": "bRbPC_-V0Fqf"
      }
    },
    {
      "cell_type": "code",
      "source": [
        "logging.shutdown"
      ],
      "metadata": {
        "colab": {
          "base_uri": "https://localhost:8080/"
        },
        "id": "0rFpXQnHz2Uz",
        "outputId": "0f731b1e-4e0b-4fee-ca96-5ecaec0a8be4"
      },
      "execution_count": 137,
      "outputs": [
        {
          "output_type": "execute_result",
          "data": {
            "text/plain": [
              "<function logging.shutdown(handlerList=[<weakref at 0x7afd320b2980; to 'StreamHandler' at 0x7afd320b8d00>, <weakref at 0x7afd2c050c70; to 'StreamHandler' at 0x7afd325a0790>, <weakref at 0x7afd1bef1c10; to 'StreamHandler' at 0x7afd1bbad810>])>"
            ]
          },
          "metadata": {},
          "execution_count": 137
        }
      ]
    },
    {
      "cell_type": "markdown",
      "source": [
        "inorder to know the timings and and a message we have to give the format"
      ],
      "metadata": {
        "id": "EnCsUEWp0diu"
      }
    },
    {
      "cell_type": "code",
      "source": [
        "logging.basicConfig(filename = \"test.log\" , level= logging.DEBUG ,format = \"%(asctime)s %(message)s\")"
      ],
      "metadata": {
        "id": "iZa-PUgf0Lr7"
      },
      "execution_count": 138,
      "outputs": []
    },
    {
      "cell_type": "code",
      "source": [
        "logging.info(\"this is my info log\")"
      ],
      "metadata": {
        "id": "z3fC9Vng04Zp"
      },
      "execution_count": 139,
      "outputs": []
    },
    {
      "cell_type": "code",
      "source": [
        "logging.debug(\"this is my debug\")"
      ],
      "metadata": {
        "id": "5mLwGC0U1Ot_"
      },
      "execution_count": 140,
      "outputs": []
    },
    {
      "cell_type": "code",
      "source": [
        "logging.warning(\"this is my warning\")"
      ],
      "metadata": {
        "colab": {
          "base_uri": "https://localhost:8080/"
        },
        "id": "hfMrpZkp1Rk_",
        "outputId": "af02dc12-6543-4729-e507-3104b13dbcf3"
      },
      "execution_count": 141,
      "outputs": [
        {
          "output_type": "stream",
          "name": "stderr",
          "text": [
            "WARNING:root:this is my warning\n"
          ]
        }
      ]
    },
    {
      "cell_type": "code",
      "source": [
        "f.close()"
      ],
      "metadata": {
        "id": "rJ-8BU-mK03O"
      },
      "execution_count": 142,
      "outputs": []
    },
    {
      "cell_type": "markdown",
      "source": [
        "even the time stamps will be logged in when we give a log the debug etc"
      ],
      "metadata": {
        "id": "31T-9TND1dbZ"
      }
    },
    {
      "cell_type": "code",
      "source": [
        "logging.shutdown"
      ],
      "metadata": {
        "colab": {
          "base_uri": "https://localhost:8080/"
        },
        "id": "x6XuaevJ1VeQ",
        "outputId": "fac408fb-c611-486f-e4fc-7a97d2a7341f"
      },
      "execution_count": 143,
      "outputs": [
        {
          "output_type": "execute_result",
          "data": {
            "text/plain": [
              "<function logging.shutdown(handlerList=[<weakref at 0x7afd320b2980; to 'StreamHandler' at 0x7afd320b8d00>, <weakref at 0x7afd2c050c70; to 'StreamHandler' at 0x7afd325a0790>, <weakref at 0x7afd1bef1c10; to 'StreamHandler' at 0x7afd1bbad810>])>"
            ]
          },
          "metadata": {},
          "execution_count": 143
        }
      ]
    },
    {
      "cell_type": "markdown",
      "source": [
        "inorder to log the name of the system"
      ],
      "metadata": {
        "id": "lm3GV-TD1n1T"
      }
    },
    {
      "cell_type": "code",
      "source": [
        "with open(\"test3.log\",\"w\") as a:\n",
        "  print(a)"
      ],
      "metadata": {
        "colab": {
          "base_uri": "https://localhost:8080/"
        },
        "id": "IHETuEM3KPj1",
        "outputId": "efa9e044-3f44-421e-f5ec-7ed03cab1737"
      },
      "execution_count": 144,
      "outputs": [
        {
          "output_type": "stream",
          "name": "stdout",
          "text": [
            "<_io.TextIOWrapper name='test3.log' mode='w' encoding='UTF-8'>\n"
          ]
        }
      ]
    },
    {
      "cell_type": "code",
      "source": [
        "logging.basicConfig(filename = \"test3.log\" , level = logging.DEBUG, format = \"%(asctime)s %(levelname)s %(name)s %(message)s\")"
      ],
      "metadata": {
        "id": "BlrkEFvc1xSd"
      },
      "execution_count": 145,
      "outputs": []
    },
    {
      "cell_type": "code",
      "source": [
        "logging.info(\"this is my info log\")"
      ],
      "metadata": {
        "id": "CUZcnwzN2Nho"
      },
      "execution_count": 146,
      "outputs": []
    },
    {
      "cell_type": "code",
      "source": [
        "l = [1,2,3,4,5,6,[7,8,9], \"sai\", \"pavan\"]"
      ],
      "metadata": {
        "id": "5-vybXZB2Vz3"
      },
      "execution_count": 147,
      "outputs": []
    },
    {
      "cell_type": "markdown",
      "source": [
        "take this list and create two sepafate list of integer and string"
      ],
      "metadata": {
        "id": "-s67G-mV_jG7"
      }
    },
    {
      "cell_type": "code",
      "source": [
        "l1_int = []\n",
        "l2_str = []\n",
        "for i in l:\n",
        "  logging.info(\"this is the start of my first for loop {}.format(l)\")\n",
        "  logging.info(\"this is the value of i iam logging {}.format(i)\")\n",
        "  if type(i)== list:\n",
        "    for j in i:\n",
        "      logging.info(\"logging my j {} and i is {}.format(i=i , j=j)\")\n",
        "      if type(j)== int:\n",
        "        l1_int.append(j)\n",
        "  elif type(i)==int:\n",
        "    l1_int.append(i)\n",
        "\n",
        "  else :\n",
        "     if type(i)==str:\n",
        "      l2_str.append(i)\n",
        "logging.info(\"this is my final result with all int {l1} , with all string{12}.format(l1 =l1_int )\")"
      ],
      "metadata": {
        "id": "BA9QqZHu_gBt"
      },
      "execution_count": 148,
      "outputs": []
    },
    {
      "cell_type": "code",
      "source": [
        "a.close()"
      ],
      "metadata": {
        "id": "IS7mS0_ZLqKp"
      },
      "execution_count": 149,
      "outputs": []
    },
    {
      "cell_type": "code",
      "source": [],
      "metadata": {
        "id": "UMwrVqwALLuS"
      },
      "execution_count": null,
      "outputs": []
    }
  ]
}