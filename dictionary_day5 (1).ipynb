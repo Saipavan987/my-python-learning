{
  "nbformat": 4,
  "nbformat_minor": 0,
  "metadata": {
    "colab": {
      "provenance": []
    },
    "kernelspec": {
      "name": "python3",
      "display_name": "Python 3"
    },
    "language_info": {
      "name": "python"
    }
  },
  "cells": [
    {
      "cell_type": "markdown",
      "source": [
        "# Dictionary"
      ],
      "metadata": {
        "id": "aZ1G7zE9F30O"
      }
    },
    {
      "cell_type": "code",
      "source": [
        "d = {\"sai\":85,\"suvi\":895}\n"
      ],
      "metadata": {
        "id": "nivdjl31GDs3"
      },
      "execution_count": 3,
      "outputs": []
    },
    {
      "cell_type": "code",
      "source": [
        "type(d)"
      ],
      "metadata": {
        "colab": {
          "base_uri": "https://localhost:8080/"
        },
        "id": "ICtEPD3eGiX_",
        "outputId": "775fb4c4-f2fa-4820-d904-07de84929fec"
      },
      "execution_count": 5,
      "outputs": [
        {
          "output_type": "execute_result",
          "data": {
            "text/plain": [
              "dict"
            ]
          },
          "metadata": {},
          "execution_count": 5
        }
      ]
    },
    {
      "cell_type": "code",
      "source": [
        "d1 = {\"name\":\"sai pavan\", 12345:\"sai\",\"suvi\":123456852,True:\"abc\",}"
      ],
      "metadata": {
        "id": "DheSuGDDGlRf"
      },
      "execution_count": 7,
      "outputs": []
    },
    {
      "cell_type": "code",
      "source": [
        "type(d)"
      ],
      "metadata": {
        "colab": {
          "base_uri": "https://localhost:8080/"
        },
        "id": "S2LYQGjTG-dW",
        "outputId": "e4025d35-2160-48a9-f7ff-bec68c2d5b10"
      },
      "execution_count": 9,
      "outputs": [
        {
          "output_type": "execute_result",
          "data": {
            "text/plain": [
              "dict"
            ]
          },
          "metadata": {},
          "execution_count": 9
        }
      ]
    },
    {
      "cell_type": "code",
      "source": [
        "d1['name']"
      ],
      "metadata": {
        "colab": {
          "base_uri": "https://localhost:8080/",
          "height": 35
        },
        "id": "7YjdJCccHAx1",
        "outputId": "ab0e9be6-2c9d-47bd-af7f-905dede53cf5"
      },
      "execution_count": 15,
      "outputs": [
        {
          "output_type": "execute_result",
          "data": {
            "text/plain": [
              "'sai pavan'"
            ],
            "application/vnd.google.colaboratory.intrinsic+json": {
              "type": "string"
            }
          },
          "metadata": {},
          "execution_count": 15
        }
      ]
    },
    {
      "cell_type": "code",
      "source": [
        "d1[12345]"
      ],
      "metadata": {
        "colab": {
          "base_uri": "https://localhost:8080/",
          "height": 35
        },
        "id": "xlVBHQ26Hslc",
        "outputId": "1c001513-c81b-41c4-8b7e-d648491b3ddc"
      },
      "execution_count": 17,
      "outputs": [
        {
          "output_type": "execute_result",
          "data": {
            "text/plain": [
              "'sai'"
            ],
            "application/vnd.google.colaboratory.intrinsic+json": {
              "type": "string"
            }
          },
          "metadata": {},
          "execution_count": 17
        }
      ]
    },
    {
      "cell_type": "markdown",
      "source": [
        "#### check whether tuples,list and sets can be used inside the dictionary\n"
      ],
      "metadata": {
        "id": "YipFUCKHHzhQ"
      }
    },
    {
      "cell_type": "code",
      "source": [
        "d2 = {[\"sai\"]:\"pavan\"}"
      ],
      "metadata": {
        "colab": {
          "base_uri": "https://localhost:8080/",
          "height": 175
        },
        "id": "kYjDkpCTIB1i",
        "outputId": "b797d92f-9e50-4692-ec23-ffa441edde31"
      },
      "execution_count": 24,
      "outputs": [
        {
          "output_type": "error",
          "ename": "TypeError",
          "evalue": "ignored",
          "traceback": [
            "\u001b[0;31m---------------------------------------------------------------------------\u001b[0m",
            "\u001b[0;31mTypeError\u001b[0m                                 Traceback (most recent call last)",
            "\u001b[0;32m<ipython-input-24-d6cf30d3b5a8>\u001b[0m in \u001b[0;36m<cell line: 1>\u001b[0;34m()\u001b[0m\n\u001b[0;32m----> 1\u001b[0;31m \u001b[0md2\u001b[0m \u001b[0;34m=\u001b[0m \u001b[0;34m{\u001b[0m\u001b[0;34m[\u001b[0m\u001b[0;34m\"sai\"\u001b[0m\u001b[0;34m]\u001b[0m\u001b[0;34m:\u001b[0m\u001b[0;34m\"pavan\"\u001b[0m\u001b[0;34m}\u001b[0m\u001b[0;34m\u001b[0m\u001b[0;34m\u001b[0m\u001b[0m\n\u001b[0m",
            "\u001b[0;31mTypeError\u001b[0m: unhashable type: 'list'"
          ]
        }
      ]
    },
    {
      "cell_type": "markdown",
      "source": [
        "#### list cant be used as key under dictionary"
      ],
      "metadata": {
        "id": "-6cqQTNWIsq4"
      }
    },
    {
      "cell_type": "code",
      "source": [
        "d3 = {(\"sai\"):\"pavan\"}"
      ],
      "metadata": {
        "id": "r1_7ywrGIyBv"
      },
      "execution_count": 38,
      "outputs": []
    },
    {
      "cell_type": "code",
      "source": [
        "type(d3)"
      ],
      "metadata": {
        "colab": {
          "base_uri": "https://localhost:8080/"
        },
        "id": "U5_SFE5mJTIX",
        "outputId": "caebe71a-8639-403d-ddaf-3669f2554f9d"
      },
      "execution_count": 28,
      "outputs": [
        {
          "output_type": "execute_result",
          "data": {
            "text/plain": [
              "dict"
            ]
          },
          "metadata": {},
          "execution_count": 28
        }
      ]
    },
    {
      "cell_type": "markdown",
      "source": [
        "#### tuples can be used as key the dictionary\n"
      ],
      "metadata": {
        "id": "HB8EmazvJW7V"
      }
    },
    {
      "cell_type": "code",
      "source": [
        "d4 = {{\"suvi\"}:\"sai pavan\"}"
      ],
      "metadata": {
        "colab": {
          "base_uri": "https://localhost:8080/",
          "height": 175
        },
        "id": "umO8RTsrJcOa",
        "outputId": "e163004d-f431-4a3b-ef6f-bc1b5f5d5df6"
      },
      "execution_count": 29,
      "outputs": [
        {
          "output_type": "error",
          "ename": "TypeError",
          "evalue": "ignored",
          "traceback": [
            "\u001b[0;31m---------------------------------------------------------------------------\u001b[0m",
            "\u001b[0;31mTypeError\u001b[0m                                 Traceback (most recent call last)",
            "\u001b[0;32m<ipython-input-29-77399b3a48b0>\u001b[0m in \u001b[0;36m<cell line: 1>\u001b[0;34m()\u001b[0m\n\u001b[0;32m----> 1\u001b[0;31m \u001b[0md4\u001b[0m \u001b[0;34m=\u001b[0m \u001b[0;34m{\u001b[0m\u001b[0;34m{\u001b[0m\u001b[0;34m\"suvi\"\u001b[0m\u001b[0;34m}\u001b[0m\u001b[0;34m:\u001b[0m\u001b[0;34m\"sai pavan\"\u001b[0m\u001b[0;34m}\u001b[0m\u001b[0;34m\u001b[0m\u001b[0;34m\u001b[0m\u001b[0m\n\u001b[0m",
            "\u001b[0;31mTypeError\u001b[0m: unhashable type: 'set'"
          ]
        }
      ]
    },
    {
      "cell_type": "markdown",
      "source": [
        "#### set cant be used as key the dictionary"
      ],
      "metadata": {
        "id": "lKGEEV5SJmmS"
      }
    },
    {
      "cell_type": "code",
      "source": [
        "#### one single key with multiple values"
      ],
      "metadata": {
        "id": "gFCAr1vKJslZ"
      },
      "execution_count": 30,
      "outputs": []
    },
    {
      "cell_type": "code",
      "source": [
        "d5 = {(\"sai\"):[85632,\"pavan\",7896552,\"handsome\",\"data scientist\"]}"
      ],
      "metadata": {
        "id": "fZzYR29hJ22z"
      },
      "execution_count": 42,
      "outputs": []
    },
    {
      "cell_type": "code",
      "source": [
        "d5"
      ],
      "metadata": {
        "colab": {
          "base_uri": "https://localhost:8080/"
        },
        "id": "dxJ-l-jnKYCZ",
        "outputId": "6e2cb91c-3159-4051-f6b9-c5ba3d804777"
      },
      "execution_count": 43,
      "outputs": [
        {
          "output_type": "execute_result",
          "data": {
            "text/plain": [
              "{'sai': [85632, 'pavan', 7896552, 'handsome', 'data scientist']}"
            ]
          },
          "metadata": {},
          "execution_count": 43
        }
      ]
    },
    {
      "cell_type": "code",
      "source": [
        "d5[\"sai\"]"
      ],
      "metadata": {
        "colab": {
          "base_uri": "https://localhost:8080/"
        },
        "id": "SVDoBFt4KaAo",
        "outputId": "507800bc-bd11-4bc0-bcbf-86f72ba3e231"
      },
      "execution_count": 45,
      "outputs": [
        {
          "output_type": "execute_result",
          "data": {
            "text/plain": [
              "[85632, 'pavan', 7896552, 'handsome', 'data scientist']"
            ]
          },
          "metadata": {},
          "execution_count": 45
        }
      ]
    },
    {
      "cell_type": "markdown",
      "source": [
        "#### list, set and tuples as values\n"
      ],
      "metadata": {
        "id": "Adcuwl3oLWWM"
      }
    },
    {
      "cell_type": "code",
      "source": [
        "d6={\"key\":(563289)}"
      ],
      "metadata": {
        "id": "SO1L5FigLbfa"
      },
      "execution_count": 47,
      "outputs": []
    },
    {
      "cell_type": "code",
      "source": [
        "d6['key']"
      ],
      "metadata": {
        "colab": {
          "base_uri": "https://localhost:8080/"
        },
        "id": "RShmV0yJLk8_",
        "outputId": "78c54ee8-ecd1-47aa-a949-a99c87f483da"
      },
      "execution_count": 49,
      "outputs": [
        {
          "output_type": "execute_result",
          "data": {
            "text/plain": [
              "563289"
            ]
          },
          "metadata": {},
          "execution_count": 49
        }
      ]
    },
    {
      "cell_type": "code",
      "source": [
        "d7={'key2':[785412]}"
      ],
      "metadata": {
        "id": "toYSeBmDLoms"
      },
      "execution_count": 52,
      "outputs": []
    },
    {
      "cell_type": "code",
      "source": [
        "d7['key2']"
      ],
      "metadata": {
        "colab": {
          "base_uri": "https://localhost:8080/"
        },
        "id": "On3vrjtCLxcD",
        "outputId": "4542664b-124c-444a-bbf2-5211d4cd04e1"
      },
      "execution_count": 54,
      "outputs": [
        {
          "output_type": "execute_result",
          "data": {
            "text/plain": [
              "[785412]"
            ]
          },
          "metadata": {},
          "execution_count": 54
        }
      ]
    },
    {
      "cell_type": "code",
      "source": [
        "d8={\"sssi\":{89654785}}"
      ],
      "metadata": {
        "id": "OYbFd7RKL1Me"
      },
      "execution_count": 58,
      "outputs": []
    },
    {
      "cell_type": "code",
      "source": [
        "d8"
      ],
      "metadata": {
        "colab": {
          "base_uri": "https://localhost:8080/"
        },
        "id": "cImwRr4jL-2Q",
        "outputId": "6a1a4054-c15e-45c9-de2c-a811ba7f62d3"
      },
      "execution_count": 60,
      "outputs": [
        {
          "output_type": "execute_result",
          "data": {
            "text/plain": [
              "{'sssi': {89654785}}"
            ]
          },
          "metadata": {},
          "execution_count": 60
        }
      ]
    },
    {
      "cell_type": "markdown",
      "source": [
        "### nested dictionary"
      ],
      "metadata": {
        "id": "LbfWlNy7MCm4"
      }
    },
    {
      "cell_type": "code",
      "source": [
        "d9 = {\"sai\":{\"superman\":120,\"batman\":852,\"wonderwoman\":78965}}"
      ],
      "metadata": {
        "id": "XsxYAlwgMFfh"
      },
      "execution_count": 63,
      "outputs": []
    },
    {
      "cell_type": "code",
      "source": [
        "d9"
      ],
      "metadata": {
        "colab": {
          "base_uri": "https://localhost:8080/"
        },
        "id": "cnOMbcTPMz6G",
        "outputId": "7e38c4b3-726d-4600-bc95-530458a54e6f"
      },
      "execution_count": 65,
      "outputs": [
        {
          "output_type": "execute_result",
          "data": {
            "text/plain": [
              "{'sai': {'superman': 120, 'batman': 852, 'wonderwoman': 78965}}"
            ]
          },
          "metadata": {},
          "execution_count": 65
        }
      ]
    },
    {
      "cell_type": "code",
      "source": [
        "d9.keys ()"
      ],
      "metadata": {
        "colab": {
          "base_uri": "https://localhost:8080/"
        },
        "id": "ii1FaAyDM30V",
        "outputId": "c557de13-e96b-4b7f-b6ff-a071d7d733cf"
      },
      "execution_count": 73,
      "outputs": [
        {
          "output_type": "execute_result",
          "data": {
            "text/plain": [
              "dict_keys(['sai'])"
            ]
          },
          "metadata": {},
          "execution_count": 73
        }
      ]
    },
    {
      "cell_type": "code",
      "source": [
        "d9[\"sai\"]['superman']"
      ],
      "metadata": {
        "colab": {
          "base_uri": "https://localhost:8080/"
        },
        "id": "LdKIHcFGNnpW",
        "outputId": "f9a0e450-bb5d-4c75-e9f4-7137c609fc37"
      },
      "execution_count": 77,
      "outputs": [
        {
          "output_type": "execute_result",
          "data": {
            "text/plain": [
              "120"
            ]
          },
          "metadata": {},
          "execution_count": 77
        }
      ]
    },
    {
      "cell_type": "code",
      "source": [
        "d10 = {\"batch_name\":[\"data science masters\",\"web dev\",\"pds\"],\"start_date\":(20,11,23),\"mentor_name\":{\"kiran naik\",\"sudhanshu\",\"anurag\"}}"
      ],
      "metadata": {
        "id": "97oazJAwOBzn"
      },
      "execution_count": 81,
      "outputs": []
    },
    {
      "cell_type": "code",
      "source": [
        "d10"
      ],
      "metadata": {
        "colab": {
          "base_uri": "https://localhost:8080/"
        },
        "id": "1IADJBMMO4h-",
        "outputId": "5d8f5087-1661-49f3-fd6a-287635fe14a5"
      },
      "execution_count": 83,
      "outputs": [
        {
          "output_type": "execute_result",
          "data": {
            "text/plain": [
              "{'batch_name': ['data science masters', 'web dev', 'pds'],\n",
              " 'start_date': (20, 11, 23),\n",
              " 'mentor_name': {'anurag', 'kiran naik', 'sudhanshu'}}"
            ]
          },
          "metadata": {},
          "execution_count": 83
        }
      ]
    },
    {
      "cell_type": "code",
      "source": [
        "d10.keys()"
      ],
      "metadata": {
        "colab": {
          "base_uri": "https://localhost:8080/"
        },
        "id": "oNhECo56PFyg",
        "outputId": "2e10a6c2-18d6-4ff3-a8fb-d5db1e303aa9"
      },
      "execution_count": 85,
      "outputs": [
        {
          "output_type": "execute_result",
          "data": {
            "text/plain": [
              "dict_keys(['batch_name', 'start_date', 'mentor_name'])"
            ]
          },
          "metadata": {},
          "execution_count": 85
        }
      ]
    },
    {
      "cell_type": "code",
      "source": [
        "d10.values()"
      ],
      "metadata": {
        "colab": {
          "base_uri": "https://localhost:8080/"
        },
        "id": "7mufj2nCPJ3o",
        "outputId": "88f47d0e-9512-40c2-9aba-beaf808bab13"
      },
      "execution_count": 87,
      "outputs": [
        {
          "output_type": "execute_result",
          "data": {
            "text/plain": [
              "dict_values([['data science masters', 'web dev', 'pds'], (20, 11, 23), {'anurag', 'sudhanshu', 'kiran naik'}])"
            ]
          },
          "metadata": {},
          "execution_count": 87
        }
      ]
    },
    {
      "cell_type": "code",
      "source": [
        "### to add particular data\n",
        "d10['sai_pavan']=(\"new_student\")"
      ],
      "metadata": {
        "id": "ljxSuG-yPNvW"
      },
      "execution_count": 89,
      "outputs": []
    },
    {
      "cell_type": "code",
      "source": [
        "d10"
      ],
      "metadata": {
        "colab": {
          "base_uri": "https://localhost:8080/"
        },
        "id": "bzKQZjEUPh22",
        "outputId": "324690d1-d9d4-42b5-cb1d-775afd22e9dd"
      },
      "execution_count": 91,
      "outputs": [
        {
          "output_type": "execute_result",
          "data": {
            "text/plain": [
              "{'batch_name': ['data science masters', 'web dev', 'pds'],\n",
              " 'start_date': (20, 11, 23),\n",
              " 'mentor_name': {'anurag', 'kiran naik', 'sudhanshu'},\n",
              " 'sai_pavan': 'new_student'}"
            ]
          },
          "metadata": {},
          "execution_count": 91
        }
      ]
    },
    {
      "cell_type": "code",
      "source": [
        "### to extract particular data set\n",
        "d10[\"sai_pavan\"]"
      ],
      "metadata": {
        "colab": {
          "base_uri": "https://localhost:8080/",
          "height": 35
        },
        "id": "9iL6KAB0PkB_",
        "outputId": "c9d862d8-545f-453f-b1c0-33c4379f9699"
      },
      "execution_count": 93,
      "outputs": [
        {
          "output_type": "execute_result",
          "data": {
            "text/plain": [
              "'new_student'"
            ],
            "application/vnd.google.colaboratory.intrinsic+json": {
              "type": "string"
            }
          },
          "metadata": {},
          "execution_count": 93
        }
      ]
    },
    {
      "cell_type": "code",
      "source": [
        "d10[\"mentor_name\"]"
      ],
      "metadata": {
        "colab": {
          "base_uri": "https://localhost:8080/"
        },
        "id": "TjYwDhKgPulG",
        "outputId": "5bd6c15e-62a8-4dce-d888-623fc001664f"
      },
      "execution_count": 96,
      "outputs": [
        {
          "output_type": "execute_result",
          "data": {
            "text/plain": [
              "{'anurag', 'kiran naik', 'sudhanshu'}"
            ]
          },
          "metadata": {},
          "execution_count": 96
        }
      ]
    },
    {
      "cell_type": "code",
      "source": [
        "### to convert to uppercase\n",
        "d10[\"sai_pavan\"].upper()"
      ],
      "metadata": {
        "colab": {
          "base_uri": "https://localhost:8080/",
          "height": 35
        },
        "id": "p5im4vOWP2tu",
        "outputId": "d216b00e-1875-4de8-a0e4-20339ba0cb8f"
      },
      "execution_count": 99,
      "outputs": [
        {
          "output_type": "execute_result",
          "data": {
            "text/plain": [
              "'NEW_STUDENT'"
            ],
            "application/vnd.google.colaboratory.intrinsic+json": {
              "type": "string"
            }
          },
          "metadata": {},
          "execution_count": 99
        }
      ]
    },
    {
      "cell_type": "code",
      "source": [
        "### to conver to lowercase\n",
        "d10[\"sai_pavan\"].lower()"
      ],
      "metadata": {
        "colab": {
          "base_uri": "https://localhost:8080/",
          "height": 35
        },
        "id": "3MECgbdHQJ0n",
        "outputId": "037e855c-3460-42e8-c8ef-cd9191ad81f2"
      },
      "execution_count": 101,
      "outputs": [
        {
          "output_type": "execute_result",
          "data": {
            "text/plain": [
              "'new_student'"
            ],
            "application/vnd.google.colaboratory.intrinsic+json": {
              "type": "string"
            }
          },
          "metadata": {},
          "execution_count": 101
        }
      ]
    },
    {
      "cell_type": "code",
      "source": [
        "\n",
        "d10[\"new batch\"]=20,12,23"
      ],
      "metadata": {
        "id": "p2xzXCdFQSwH"
      },
      "execution_count": 115,
      "outputs": []
    },
    {
      "cell_type": "code",
      "source": [
        "d10"
      ],
      "metadata": {
        "colab": {
          "base_uri": "https://localhost:8080/"
        },
        "id": "E_GHj3QpQmUD",
        "outputId": "7a79b0b2-5409-43de-df22-83ae69a5cda2"
      },
      "execution_count": 105,
      "outputs": [
        {
          "output_type": "execute_result",
          "data": {
            "text/plain": [
              "{'batch_name': ['data science masters', 'web dev', 'pds'],\n",
              " 'start_date': (20, 11, 23),\n",
              " 'mentor_name': {'anurag', 'kiran naik', 'sudhanshu'},\n",
              " 'sai_pavan': 'new_student',\n",
              " 'new batch': (20, 12, 23)}"
            ]
          },
          "metadata": {},
          "execution_count": 105
        }
      ]
    },
    {
      "cell_type": "code",
      "source": [
        "d1.clear()"
      ],
      "metadata": {
        "id": "VAofwnl3Quxo"
      },
      "execution_count": 117,
      "outputs": []
    },
    {
      "cell_type": "code",
      "source": [
        "d1"
      ],
      "metadata": {
        "colab": {
          "base_uri": "https://localhost:8080/"
        },
        "id": "EMWepnodRtMW",
        "outputId": "c513cd4a-2e7e-4f50-9ff9-4dd60df438cc"
      },
      "execution_count": 118,
      "outputs": [
        {
          "output_type": "execute_result",
          "data": {
            "text/plain": [
              "{}"
            ]
          },
          "metadata": {},
          "execution_count": 118
        }
      ]
    },
    {
      "cell_type": "code",
      "source": [
        "len(d10)"
      ],
      "metadata": {
        "colab": {
          "base_uri": "https://localhost:8080/"
        },
        "id": "Ovb7nA5LRtuW",
        "outputId": "db0b1f33-d178-4b0f-9a9d-ba0a00da2214"
      },
      "execution_count": 120,
      "outputs": [
        {
          "output_type": "execute_result",
          "data": {
            "text/plain": [
              "5"
            ]
          },
          "metadata": {},
          "execution_count": 120
        }
      ]
    },
    {
      "cell_type": "code",
      "source": [
        "#### to convert values from dictionary to list\n",
        "list(d10.values())"
      ],
      "metadata": {
        "colab": {
          "base_uri": "https://localhost:8080/"
        },
        "id": "SB6sq1ycRzZx",
        "outputId": "f35656a7-682e-428b-da69-f71b28b901e7"
      },
      "execution_count": 124,
      "outputs": [
        {
          "output_type": "execute_result",
          "data": {
            "text/plain": [
              "[['data science masters', 'web dev', 'pds'],\n",
              " (20, 11, 23),\n",
              " {'anurag', 'kiran naik', 'sudhanshu'},\n",
              " 'new_student',\n",
              " (20, 12, 23)]"
            ]
          },
          "metadata": {},
          "execution_count": 124
        }
      ]
    },
    {
      "cell_type": "code",
      "source": [
        "d11={\"pavan\":95632,\"navap\":78542}"
      ],
      "metadata": {
        "id": "ZzE8DRQnSVBw"
      },
      "execution_count": 125,
      "outputs": []
    },
    {
      "cell_type": "code",
      "source": [
        "#### to extract both values and keys\n",
        "d11.items()"
      ],
      "metadata": {
        "colab": {
          "base_uri": "https://localhost:8080/"
        },
        "id": "ZlTDjcv8Si81",
        "outputId": "a7b3342c-db08-4abb-8657-5fe323ee499e"
      },
      "execution_count": 128,
      "outputs": [
        {
          "output_type": "execute_result",
          "data": {
            "text/plain": [
              "dict_items([('pavan', 95632), ('navap', 78542)])"
            ]
          },
          "metadata": {},
          "execution_count": 128
        }
      ]
    },
    {
      "cell_type": "code",
      "source": [
        "#### to create replica\n",
        "d11 = d3.copy()"
      ],
      "metadata": {
        "id": "s0dWg9ihSnDc"
      },
      "execution_count": 133,
      "outputs": []
    },
    {
      "cell_type": "code",
      "source": [
        "d11"
      ],
      "metadata": {
        "colab": {
          "base_uri": "https://localhost:8080/"
        },
        "id": "5YYHrwaGS5AI",
        "outputId": "50cbe706-44e9-4f36-8b2a-b44bd7d73c97"
      },
      "execution_count": 135,
      "outputs": [
        {
          "output_type": "execute_result",
          "data": {
            "text/plain": [
              "{'sai': 'pavan'}"
            ]
          },
          "metadata": {},
          "execution_count": 135
        }
      ]
    },
    {
      "cell_type": "code",
      "source": [
        "d3"
      ],
      "metadata": {
        "colab": {
          "base_uri": "https://localhost:8080/"
        },
        "id": "GlI_yYt-TNL6",
        "outputId": "6ed7bfb2-82c7-4d0e-c18b-1c29471fb1f2"
      },
      "execution_count": 137,
      "outputs": [
        {
          "output_type": "execute_result",
          "data": {
            "text/plain": [
              "{'sai': 'pavan'}"
            ]
          },
          "metadata": {},
          "execution_count": 137
        }
      ]
    },
    {
      "cell_type": "code",
      "source": [
        "d12 = {\"amitabh\":8965,\"yash\":78542}"
      ],
      "metadata": {
        "id": "qlXRnjWGTSD8"
      },
      "execution_count": 138,
      "outputs": []
    },
    {
      "cell_type": "code",
      "source": [
        "d12.pop('amitabh')"
      ],
      "metadata": {
        "colab": {
          "base_uri": "https://localhost:8080/"
        },
        "id": "b0D1XjV0ThdT",
        "outputId": "c753e6a6-4d45-4844-dac0-e84800b5a7f3"
      },
      "execution_count": 139,
      "outputs": [
        {
          "output_type": "execute_result",
          "data": {
            "text/plain": [
              "8965"
            ]
          },
          "metadata": {},
          "execution_count": 139
        }
      ]
    },
    {
      "cell_type": "code",
      "source": [
        "### to use from keys\n",
        "d.fromkeys((1,5,8),('a','b','c'))"
      ],
      "metadata": {
        "colab": {
          "base_uri": "https://localhost:8080/"
        },
        "id": "4Fm6_mitUcaC",
        "outputId": "ab7a7272-21b7-47dc-f1bc-072214549ee1"
      },
      "execution_count": 147,
      "outputs": [
        {
          "output_type": "execute_result",
          "data": {
            "text/plain": [
              "{1: ('a', 'b', 'c'), 5: ('a', 'b', 'c'), 8: ('a', 'b', 'c')}"
            ]
          },
          "metadata": {},
          "execution_count": 147
        }
      ]
    },
    {
      "cell_type": "code",
      "source": [
        "### to store all dictionary in one\n",
        "(d7,d8)"
      ],
      "metadata": {
        "colab": {
          "base_uri": "https://localhost:8080/"
        },
        "id": "vCy32LQkXYEO",
        "outputId": "d19e619b-f014-4228-a5c8-a7c8fffc327d"
      },
      "execution_count": 149,
      "outputs": [
        {
          "output_type": "execute_result",
          "data": {
            "text/plain": [
              "({'key2': [785412]}, {'sssi': {89654785}})"
            ]
          },
          "metadata": {},
          "execution_count": 149
        }
      ]
    },
    {
      "cell_type": "code",
      "source": [
        "### update function\n",
        "d12.update(d3)"
      ],
      "metadata": {
        "id": "iLvOOHX6Xiwa"
      },
      "execution_count": 151,
      "outputs": []
    },
    {
      "cell_type": "code",
      "source": [
        "d12"
      ],
      "metadata": {
        "colab": {
          "base_uri": "https://localhost:8080/"
        },
        "id": "mLCAebNVXw4_",
        "outputId": "dd577c7e-fda3-42bc-e74a-eb605bbee8ac"
      },
      "execution_count": 153,
      "outputs": [
        {
          "output_type": "execute_result",
          "data": {
            "text/plain": [
              "{'yash': 78542, 'sai': 'pavan'}"
            ]
          },
          "metadata": {},
          "execution_count": 153
        }
      ]
    },
    {
      "cell_type": "code",
      "source": [
        "### get function\n",
        "d12.get(\"yash\")"
      ],
      "metadata": {
        "colab": {
          "base_uri": "https://localhost:8080/"
        },
        "id": "Kq5qK4OZX0QH",
        "outputId": "28964175-b131-4f9f-8d88-370dfd006873"
      },
      "execution_count": 155,
      "outputs": [
        {
          "output_type": "execute_result",
          "data": {
            "text/plain": [
              "78542"
            ]
          },
          "metadata": {},
          "execution_count": 155
        }
      ]
    },
    {
      "cell_type": "markdown",
      "source": [
        "#### Dictionary comprehension"
      ],
      "metadata": {
        "id": "6BIsTZYPYH6V"
      }
    },
    {
      "cell_type": "code",
      "source": [
        "d13={i:i**2 for i in range(1,15)}"
      ],
      "metadata": {
        "id": "VdEZJX24YMDS"
      },
      "execution_count": 172,
      "outputs": []
    },
    {
      "cell_type": "code",
      "source": [
        "{i:i+2 for i in range(1,20)}"
      ],
      "metadata": {
        "colab": {
          "base_uri": "https://localhost:8080/"
        },
        "id": "C4LxibFRZIpp",
        "outputId": "9783647f-8a6d-43a5-e4cc-911d6f0f37db"
      },
      "execution_count": 165,
      "outputs": [
        {
          "output_type": "execute_result",
          "data": {
            "text/plain": [
              "{1: 3,\n",
              " 2: 4,\n",
              " 3: 5,\n",
              " 4: 6,\n",
              " 5: 7,\n",
              " 6: 8,\n",
              " 7: 9,\n",
              " 8: 10,\n",
              " 9: 11,\n",
              " 10: 12,\n",
              " 11: 13,\n",
              " 12: 14,\n",
              " 13: 15,\n",
              " 14: 16,\n",
              " 15: 17,\n",
              " 16: 18,\n",
              " 17: 19,\n",
              " 18: 20,\n",
              " 19: 21}"
            ]
          },
          "metadata": {},
          "execution_count": 165
        }
      ]
    },
    {
      "cell_type": "code",
      "source": [
        "import math\n",
        "{i :math.log10(i) for i in range(20,30)}"
      ],
      "metadata": {
        "colab": {
          "base_uri": "https://localhost:8080/"
        },
        "id": "-3Ea00FmZRVH",
        "outputId": "fb3d762e-e947-4c35-c056-f780ed102a5f"
      },
      "execution_count": 181,
      "outputs": [
        {
          "output_type": "execute_result",
          "data": {
            "text/plain": [
              "{20: 1.3010299956639813,\n",
              " 21: 1.3222192947339193,\n",
              " 22: 1.3424226808222062,\n",
              " 23: 1.3617278360175928,\n",
              " 24: 1.380211241711606,\n",
              " 25: 1.3979400086720377,\n",
              " 26: 1.414973347970818,\n",
              " 27: 1.4313637641589874,\n",
              " 28: 1.4471580313422192,\n",
              " 29: 1.462397997898956}"
            ]
          },
          "metadata": {},
          "execution_count": 181
        }
      ]
    },
    {
      "cell_type": "code",
      "source": [
        "### to filter only even keys\n",
        "for i in d13.keys():\n",
        "  if i%2==0:\n",
        "    print(d13[i])"
      ],
      "metadata": {
        "colab": {
          "base_uri": "https://localhost:8080/",
          "height": 228
        },
        "id": "FE7docByaAcF",
        "outputId": "51edb43c-7448-4b14-87b5-989cbfa3460f"
      },
      "execution_count": 1,
      "outputs": [
        {
          "output_type": "error",
          "ename": "NameError",
          "evalue": "ignored",
          "traceback": [
            "\u001b[0;31m---------------------------------------------------------------------------\u001b[0m",
            "\u001b[0;31mNameError\u001b[0m                                 Traceback (most recent call last)",
            "\u001b[0;32m<ipython-input-1-52c170f87230>\u001b[0m in \u001b[0;36m<cell line: 2>\u001b[0;34m()\u001b[0m\n\u001b[1;32m      1\u001b[0m \u001b[0;31m### to filter only even keys\u001b[0m\u001b[0;34m\u001b[0m\u001b[0;34m\u001b[0m\u001b[0m\n\u001b[0;32m----> 2\u001b[0;31m \u001b[0;32mfor\u001b[0m \u001b[0mi\u001b[0m \u001b[0;32min\u001b[0m \u001b[0md13\u001b[0m\u001b[0;34m.\u001b[0m\u001b[0mkeys\u001b[0m\u001b[0;34m(\u001b[0m\u001b[0;34m)\u001b[0m\u001b[0;34m:\u001b[0m\u001b[0;34m\u001b[0m\u001b[0;34m\u001b[0m\u001b[0m\n\u001b[0m\u001b[1;32m      3\u001b[0m   \u001b[0;32mif\u001b[0m \u001b[0mi\u001b[0m\u001b[0;34m%\u001b[0m\u001b[0;36m2\u001b[0m\u001b[0;34m==\u001b[0m\u001b[0;36m0\u001b[0m\u001b[0;34m:\u001b[0m\u001b[0;34m\u001b[0m\u001b[0;34m\u001b[0m\u001b[0m\n\u001b[1;32m      4\u001b[0m     \u001b[0mprint\u001b[0m\u001b[0;34m(\u001b[0m\u001b[0md13\u001b[0m\u001b[0;34m[\u001b[0m\u001b[0mi\u001b[0m\u001b[0;34m]\u001b[0m\u001b[0;34m)\u001b[0m\u001b[0;34m\u001b[0m\u001b[0;34m\u001b[0m\u001b[0m\n",
            "\u001b[0;31mNameError\u001b[0m: name 'd13' is not defined"
          ]
        }
      ]
    },
    {
      "cell_type": "code",
      "source": [
        "### to filter out odd keys\n",
        "for i in d13.keys():\n",
        "  if i%2!=0:\n",
        "    print(d13[i])"
      ],
      "metadata": {
        "id": "Zaj8Mc4PayKu"
      },
      "execution_count": null,
      "outputs": []
    },
    {
      "cell_type": "markdown",
      "source": [
        "#### 1. write a python script to add and item to the dictionary sample - {0:10 ,1:20}"
      ],
      "metadata": {
        "id": "qkdBBSvs5x7F"
      }
    },
    {
      "cell_type": "code",
      "source": [
        "sample = {0:10,1:20}"
      ],
      "metadata": {
        "id": "LGp8vf0f6BkH"
      },
      "execution_count": 2,
      "outputs": []
    },
    {
      "cell_type": "code",
      "source": [
        "sample[2]=30"
      ],
      "metadata": {
        "id": "V4MDHaIw6J9d"
      },
      "execution_count": 4,
      "outputs": []
    },
    {
      "cell_type": "code",
      "source": [
        "sample"
      ],
      "metadata": {
        "colab": {
          "base_uri": "https://localhost:8080/"
        },
        "id": "htWubc4p6cl4",
        "outputId": "1fb58fc8-d1e0-4715-e0a2-940acc5c9ed0"
      },
      "execution_count": 6,
      "outputs": [
        {
          "output_type": "execute_result",
          "data": {
            "text/plain": [
              "{0: 10, 1: 20, 2: 30}"
            ]
          },
          "metadata": {},
          "execution_count": 6
        }
      ]
    },
    {
      "cell_type": "markdown",
      "source": [
        "#### 2.write a python script to concatenate the following dictionaries to create a new one"
      ],
      "metadata": {
        "id": "mwBHCNh06gm5"
      }
    },
    {
      "cell_type": "code",
      "source": [
        "dic1 = {1:10,2:30}\n",
        "dic2 = {3:20,4:40}\n",
        "dic3 = {5:50,6:60}"
      ],
      "metadata": {
        "id": "gc-XhnHw7E_L"
      },
      "execution_count": 7,
      "outputs": []
    },
    {
      "cell_type": "code",
      "source": [
        "dic4 = {}"
      ],
      "metadata": {
        "id": "gvm7u-ak7T1j"
      },
      "execution_count": 9,
      "outputs": []
    },
    {
      "cell_type": "code",
      "source": [
        "for d in (dic1,dic2,dic3):\n",
        "  dic4.update(d)"
      ],
      "metadata": {
        "id": "e090KLTw7Yck"
      },
      "execution_count": 11,
      "outputs": []
    },
    {
      "cell_type": "code",
      "source": [
        "print(dic4)"
      ],
      "metadata": {
        "colab": {
          "base_uri": "https://localhost:8080/"
        },
        "id": "f5o1bJ1Q76P2",
        "outputId": "8fab8972-6c6c-4070-f464-1e9709ee010e"
      },
      "execution_count": 13,
      "outputs": [
        {
          "output_type": "stream",
          "name": "stdout",
          "text": [
            "{1: 10, 2: 30, 3: 20, 4: 40, 5: 50, 6: 60}\n"
          ]
        }
      ]
    },
    {
      "cell_type": "markdown",
      "source": [
        "#### 3.use fromkeys to the same question"
      ],
      "metadata": {
        "id": "tH2G2pqi8uRg"
      }
    },
    {
      "cell_type": "code",
      "source": [
        "d.fromkeys((1,2,3,4,5,6),(10,30,20,40,50,60))"
      ],
      "metadata": {
        "colab": {
          "base_uri": "https://localhost:8080/"
        },
        "id": "fDznwV8N8B3D",
        "outputId": "77a0a57b-a21d-4886-d97b-4e0122aea622"
      },
      "execution_count": 18,
      "outputs": [
        {
          "output_type": "execute_result",
          "data": {
            "text/plain": [
              "{1: (10, 30, 20, 40, 50, 60),\n",
              " 2: (10, 30, 20, 40, 50, 60),\n",
              " 3: (10, 30, 20, 40, 50, 60),\n",
              " 4: (10, 30, 20, 40, 50, 60),\n",
              " 5: (10, 30, 20, 40, 50, 60),\n",
              " 6: (10, 30, 20, 40, 50, 60)}"
            ]
          },
          "metadata": {},
          "execution_count": 18
        }
      ]
    },
    {
      "cell_type": "markdown",
      "source": [
        "#### 4.write a python program to check whether given key already exists in the dictionary"
      ],
      "metadata": {
        "id": "r8a5X8mt83y_"
      }
    },
    {
      "cell_type": "code",
      "source": [
        "f = {1:20,8:60,9:60}"
      ],
      "metadata": {
        "id": "OaUREvJa9YmJ"
      },
      "execution_count": 19,
      "outputs": []
    },
    {
      "cell_type": "code",
      "source": [
        "def is_key_present(x):\n",
        "  if x in f:\n",
        "    print('key is present')\n",
        "  else:\n",
        "      print('key is not present')"
      ],
      "metadata": {
        "id": "L8X_qzw-9hN5"
      },
      "execution_count": 29,
      "outputs": []
    },
    {
      "cell_type": "code",
      "source": [
        "is_key_present(2)"
      ],
      "metadata": {
        "colab": {
          "base_uri": "https://localhost:8080/"
        },
        "id": "rm1pRAtCABep",
        "outputId": "6429081e-016c-4df1-d497-127dd03e5a57"
      },
      "execution_count": 31,
      "outputs": [
        {
          "output_type": "stream",
          "name": "stdout",
          "text": [
            "key is not present\n"
          ]
        }
      ]
    },
    {
      "cell_type": "code",
      "source": [
        "is_key_present(1)"
      ],
      "metadata": {
        "colab": {
          "base_uri": "https://localhost:8080/"
        },
        "id": "srnss6E3AKeK",
        "outputId": "f6df231d-8270-4cbe-8bcc-b1c1a09c145d"
      },
      "execution_count": 33,
      "outputs": [
        {
          "output_type": "stream",
          "name": "stdout",
          "text": [
            "key is present\n"
          ]
        }
      ]
    },
    {
      "cell_type": "markdown",
      "source": [
        "#### 5.iterate ove dictionaries using for loops"
      ],
      "metadata": {
        "id": "DsyW92tMARen"
      }
    },
    {
      "cell_type": "code",
      "source": [
        "p = {\"r\":10,\"y\":20,\"z\":30}"
      ],
      "metadata": {
        "id": "io4mg_LnAy9v"
      },
      "execution_count": 36,
      "outputs": []
    },
    {
      "cell_type": "code",
      "source": [
        "for keys,values in d.items():\n",
        "  print(keys,'->',values)"
      ],
      "metadata": {
        "colab": {
          "base_uri": "https://localhost:8080/"
        },
        "id": "w3o8gd7OBH_O",
        "outputId": "7c143333-b8ce-48c7-cf1d-0c1a334f4b8e"
      },
      "execution_count": 38,
      "outputs": [
        {
          "output_type": "stream",
          "name": "stdout",
          "text": [
            "5 -> 50\n",
            "6 -> 60\n"
          ]
        }
      ]
    },
    {
      "cell_type": "markdown",
      "source": [
        "#### 6.generate a print dictionary that contains a number in the form of x,x*x"
      ],
      "metadata": {
        "id": "IDhWCEQLBmzB"
      }
    },
    {
      "cell_type": "code",
      "source": [
        "w = int(input(\"enter a value\"))"
      ],
      "metadata": {
        "colab": {
          "base_uri": "https://localhost:8080/"
        },
        "id": "WsecwzdiGbdD",
        "outputId": "5bc2b595-a5cc-4425-8af6-8f1a683091de"
      },
      "execution_count": 47,
      "outputs": [
        {
          "name": "stdout",
          "output_type": "stream",
          "text": [
            "enter a value10\n"
          ]
        }
      ]
    },
    {
      "cell_type": "code",
      "source": [
        "m = dict()"
      ],
      "metadata": {
        "id": "Ee0CStVIGjAm"
      },
      "execution_count": 49,
      "outputs": []
    },
    {
      "cell_type": "code",
      "source": [
        "for x in range(1, w+1):\n",
        "  m[x] = x*x"
      ],
      "metadata": {
        "id": "CzI3VOaMGy21"
      },
      "execution_count": 52,
      "outputs": []
    },
    {
      "cell_type": "code",
      "source": [
        "print(m)"
      ],
      "metadata": {
        "colab": {
          "base_uri": "https://localhost:8080/"
        },
        "id": "XsOPeerEHImt",
        "outputId": "3cfa1b84-d58f-4e60-f2d7-b60716f2629d"
      },
      "execution_count": 53,
      "outputs": [
        {
          "output_type": "stream",
          "name": "stdout",
          "text": [
            "{10: 100, 1: 1, 2: 4, 3: 9, 4: 16, 5: 25, 6: 36, 7: 49, 8: 64, 9: 81}\n"
          ]
        }
      ]
    },
    {
      "cell_type": "code",
      "source": [],
      "metadata": {
        "id": "w9hpJTYEH2iF"
      },
      "execution_count": null,
      "outputs": []
    }
  ]
}