{
  "nbformat": 4,
  "nbformat_minor": 0,
  "metadata": {
    "colab": {
      "provenance": []
    },
    "kernelspec": {
      "name": "python3",
      "display_name": "Python 3"
    },
    "language_info": {
      "name": "python"
    }
  },
  "cells": [
    {
      "cell_type": "markdown",
      "source": [
        "#### 1.write a python program to check whether the given no is prime or not"
      ],
      "metadata": {
        "id": "fysVnhFKfHV8"
      }
    },
    {
      "cell_type": "code",
      "source": [
        "def prime_no(n):\n",
        "  if n==1:\n",
        "    return False\n",
        "  elif n==2:\n",
        "    return True\n",
        "  else:\n",
        "    for x in range(2,n):\n",
        "      if (n%x==0):\n",
        "        return False\n",
        "    return True\n",
        "\n",
        "print(prime_no(4))\n"
      ],
      "metadata": {
        "colab": {
          "base_uri": "https://localhost:8080/"
        },
        "id": "KTXvoNgEgPlP",
        "outputId": "6511a78b-ce77-44dd-eba3-b94662ee1003"
      },
      "execution_count": null,
      "outputs": [
        {
          "output_type": "stream",
          "name": "stdout",
          "text": [
            "False\n"
          ]
        }
      ]
    },
    {
      "cell_type": "code",
      "source": [
        "print(prime_no(5))"
      ],
      "metadata": {
        "colab": {
          "base_uri": "https://localhost:8080/"
        },
        "id": "Nmz0b78ph8mA",
        "outputId": "5c1b985e-1809-42c1-e843-8c16d8e7a307"
      },
      "execution_count": null,
      "outputs": [
        {
          "output_type": "stream",
          "name": "stdout",
          "text": [
            "True\n"
          ]
        }
      ]
    },
    {
      "cell_type": "markdown",
      "source": [
        "#### 2.print a python program to check the given program is even no or not."
      ],
      "metadata": {
        "id": "yEefNgnUidln"
      }
    },
    {
      "cell_type": "code",
      "source": [
        "def even_(n):\n",
        "  if n%2==0:\n",
        "    print(\"the no is even\")\n",
        "    return True\n",
        "  else:\n",
        "    print(\"the no is odd\")\n",
        "    return False"
      ],
      "metadata": {
        "id": "XMOZ-kEUil_d"
      },
      "execution_count": null,
      "outputs": []
    },
    {
      "cell_type": "code",
      "source": [
        "print(even_(5))"
      ],
      "metadata": {
        "colab": {
          "base_uri": "https://localhost:8080/"
        },
        "id": "ldd5vtsDjHSh",
        "outputId": "57acc187-3c39-43aa-f246-65bba13fbae5"
      },
      "execution_count": null,
      "outputs": [
        {
          "output_type": "stream",
          "name": "stdout",
          "text": [
            "the no is odd\n",
            "False\n"
          ]
        }
      ]
    },
    {
      "cell_type": "code",
      "source": [
        "print(even_(6))"
      ],
      "metadata": {
        "colab": {
          "base_uri": "https://localhost:8080/"
        },
        "id": "f_ks8DS7kmCb",
        "outputId": "42b522bd-9ce5-401a-d75d-52a64239a8f4"
      },
      "execution_count": null,
      "outputs": [
        {
          "output_type": "stream",
          "name": "stdout",
          "text": [
            "the no is even\n",
            "True\n"
          ]
        }
      ]
    },
    {
      "cell_type": "markdown",
      "source": [
        "#### 3.check squares"
      ],
      "metadata": {
        "id": "4IKGu894ps9T"
      }
    },
    {
      "cell_type": "code",
      "source": [
        "def squares_():\n",
        "  l = list()\n",
        "  for i in range(1,30):\n",
        "    l.append(i**2)\n",
        "  print(l)\n"
      ],
      "metadata": {
        "id": "IQYAaMhapw-_"
      },
      "execution_count": null,
      "outputs": []
    },
    {
      "cell_type": "code",
      "source": [
        "print(squares_())"
      ],
      "metadata": {
        "colab": {
          "base_uri": "https://localhost:8080/"
        },
        "id": "9UcDa8vwqX8H",
        "outputId": "3ce200dd-c6a2-4c4b-8fb0-bcb66b0c5c33"
      },
      "execution_count": null,
      "outputs": [
        {
          "output_type": "stream",
          "name": "stdout",
          "text": [
            "[1, 4, 9, 16, 25, 36, 49, 64, 81, 100, 121, 144, 169, 196, 225, 256, 289, 324, 361, 400, 441, 484, 529, 576, 625, 676, 729, 784, 841]\n",
            "None\n"
          ]
        }
      ]
    },
    {
      "cell_type": "markdown",
      "source": [
        "# FIBONACCI\n"
      ],
      "metadata": {
        "id": "tyXm0ZMvP-YH"
      }
    },
    {
      "cell_type": "code",
      "source": [
        "def test1(n):\n",
        "  a,b = 0,1\n",
        "  for i in range(0,n):\n",
        "    yield a\n",
        "    a,b=b,a+b"
      ],
      "metadata": {
        "id": "YVKHxhhqQBkX"
      },
      "execution_count": null,
      "outputs": []
    },
    {
      "cell_type": "code",
      "source": [
        "test1(10)"
      ],
      "metadata": {
        "colab": {
          "base_uri": "https://localhost:8080/"
        },
        "id": "r2v8mAg8Qety",
        "outputId": "24375368-28a6-45f6-bb45-80c236452b79"
      },
      "execution_count": null,
      "outputs": [
        {
          "output_type": "execute_result",
          "data": {
            "text/plain": [
              "<generator object test1 at 0x7e4c19df0190>"
            ]
          },
          "metadata": {},
          "execution_count": 2
        }
      ]
    },
    {
      "cell_type": "code",
      "source": [
        "for i in test1(10):\n",
        "  print(i)"
      ],
      "metadata": {
        "colab": {
          "base_uri": "https://localhost:8080/"
        },
        "id": "5pZv9OchQhuy",
        "outputId": "5aff1a6d-e067-4645-fda8-05b4f2710c1a"
      },
      "execution_count": null,
      "outputs": [
        {
          "output_type": "stream",
          "name": "stdout",
          "text": [
            "0\n",
            "1\n",
            "1\n",
            "2\n",
            "3\n",
            "5\n",
            "8\n",
            "13\n",
            "21\n",
            "34\n"
          ]
        }
      ]
    },
    {
      "cell_type": "markdown",
      "source": [
        "#### 2.program on cubes from 1 to n"
      ],
      "metadata": {
        "id": "URwslWHORK5l"
      }
    },
    {
      "cell_type": "code",
      "source": [
        "def test2(n):\n",
        "  for i in range(1,n+1):\n",
        "    yield i**3\n"
      ],
      "metadata": {
        "id": "bJMWwCPOROob"
      },
      "execution_count": null,
      "outputs": []
    },
    {
      "cell_type": "code",
      "source": [
        "test2(10)"
      ],
      "metadata": {
        "colab": {
          "base_uri": "https://localhost:8080/"
        },
        "id": "AlQWBS-NRj08",
        "outputId": "1238dad4-a699-4258-de54-8976f7d66532"
      },
      "execution_count": null,
      "outputs": [
        {
          "output_type": "execute_result",
          "data": {
            "text/plain": [
              "<generator object test2 at 0x7e4c19ca27a0>"
            ]
          },
          "metadata": {},
          "execution_count": 11
        }
      ]
    },
    {
      "cell_type": "code",
      "source": [
        "for i in test2(10):\n",
        "  print(i)"
      ],
      "metadata": {
        "colab": {
          "base_uri": "https://localhost:8080/"
        },
        "id": "9Jn7GZ1bRuaN",
        "outputId": "0a1b2fb7-8ccc-475f-b6e0-8eb7e8b15dd3"
      },
      "execution_count": null,
      "outputs": [
        {
          "output_type": "stream",
          "name": "stdout",
          "text": [
            "1\n",
            "8\n",
            "27\n",
            "64\n",
            "125\n",
            "216\n",
            "343\n",
            "512\n",
            "729\n",
            "1000\n"
          ]
        }
      ]
    },
    {
      "cell_type": "markdown",
      "source": [
        "#### 3.print random numbers within a given range"
      ],
      "metadata": {
        "id": "RUPiO2rZSS5D"
      }
    },
    {
      "cell_type": "code",
      "source": [
        "import random\n",
        "\n",
        "def test3(n):\n",
        "  for i in range(start,end):\n",
        "    yield random.randint(start,end)"
      ],
      "metadata": {
        "id": "NHziDeBoRyx8"
      },
      "execution_count": null,
      "outputs": []
    },
    {
      "cell_type": "code",
      "source": [
        "start = (int(input(\"enter start\")))\n",
        "end = (int(input(\"enter end\")))"
      ],
      "metadata": {
        "colab": {
          "base_uri": "https://localhost:8080/"
        },
        "id": "CavJ6rdWSv9I",
        "outputId": "3dcb2c02-5cdc-4c95-f96c-f4914366860a"
      },
      "execution_count": null,
      "outputs": [
        {
          "name": "stdout",
          "output_type": "stream",
          "text": [
            "enter start1\n",
            "enter end30\n"
          ]
        }
      ]
    },
    {
      "cell_type": "code",
      "source": [
        "test3(10)"
      ],
      "metadata": {
        "colab": {
          "base_uri": "https://localhost:8080/"
        },
        "id": "Ip8eabFtS50A",
        "outputId": "f4587cdf-b056-4a86-fb39-533f67bf76b9"
      },
      "execution_count": null,
      "outputs": [
        {
          "output_type": "execute_result",
          "data": {
            "text/plain": [
              "<generator object test3 at 0x7e4c19cd5460>"
            ]
          },
          "metadata": {},
          "execution_count": 27
        }
      ]
    },
    {
      "cell_type": "code",
      "source": [
        "for i in test3(10):\n",
        "  print(i)"
      ],
      "metadata": {
        "colab": {
          "base_uri": "https://localhost:8080/"
        },
        "id": "ypQ0HQjsTBFS",
        "outputId": "55c0df46-34e2-4aa6-fd1e-b83515e42e26"
      },
      "execution_count": null,
      "outputs": [
        {
          "output_type": "stream",
          "name": "stdout",
          "text": [
            "15\n",
            "10\n",
            "26\n",
            "8\n",
            "25\n",
            "17\n",
            "4\n",
            "20\n",
            "22\n",
            "30\n",
            "5\n",
            "6\n",
            "19\n",
            "16\n",
            "13\n",
            "28\n",
            "10\n",
            "8\n",
            "27\n",
            "7\n",
            "23\n",
            "9\n",
            "16\n",
            "19\n",
            "17\n",
            "28\n",
            "1\n",
            "18\n",
            "17\n"
          ]
        }
      ]
    },
    {
      "cell_type": "markdown",
      "source": [
        "#### 4.permutations\n",
        "\n",
        "\n"
      ],
      "metadata": {
        "id": "r59GZNNjTuJs"
      }
    },
    {
      "cell_type": "code",
      "source": [
        "def test4(n):\n",
        "  if len(n)<=1:\n",
        "    yield n\n",
        "  else:\n",
        "    for p in test4(n[1:]):\n",
        "      for i in range(len(n)):\n",
        "        yield p[:i]+n[0:1]+p[i:]"
      ],
      "metadata": {
        "id": "oA-xKtiwUxE3"
      },
      "execution_count": null,
      "outputs": []
    },
    {
      "cell_type": "code",
      "source": [
        "n = [1,2,3,4]\n",
        "print(\"for permutation\",n)"
      ],
      "metadata": {
        "colab": {
          "base_uri": "https://localhost:8080/"
        },
        "id": "u1Q2-j_GVw7k",
        "outputId": "140759a7-beb4-46c9-9f83-affa38909faa"
      },
      "execution_count": null,
      "outputs": [
        {
          "output_type": "stream",
          "name": "stdout",
          "text": [
            "for permutation [1, 2, 3, 4]\n"
          ]
        }
      ]
    },
    {
      "cell_type": "code",
      "source": [
        "test4(n)"
      ],
      "metadata": {
        "colab": {
          "base_uri": "https://localhost:8080/"
        },
        "id": "XrdUK3yYWXsc",
        "outputId": "d60e3946-b88d-4865-fab5-6f0fbcc201b1"
      },
      "execution_count": null,
      "outputs": [
        {
          "output_type": "execute_result",
          "data": {
            "text/plain": [
              "<generator object test4 at 0x7e4c19cc29d0>"
            ]
          },
          "metadata": {},
          "execution_count": 59
        }
      ]
    },
    {
      "cell_type": "code",
      "source": [
        "for i in test4(n):\n",
        "  print(i)"
      ],
      "metadata": {
        "colab": {
          "base_uri": "https://localhost:8080/"
        },
        "id": "kFJf6uQdWsb6",
        "outputId": "c7d7b864-c32b-4903-ad9a-9368477acea7"
      },
      "execution_count": null,
      "outputs": [
        {
          "output_type": "stream",
          "name": "stdout",
          "text": [
            "[1, 2, 3, 4]\n",
            "[2, 1, 3, 4]\n",
            "[2, 3, 1, 4]\n",
            "[2, 3, 4, 1]\n",
            "[1, 3, 2, 4]\n",
            "[3, 1, 2, 4]\n",
            "[3, 2, 1, 4]\n",
            "[3, 2, 4, 1]\n",
            "[1, 3, 4, 2]\n",
            "[3, 1, 4, 2]\n",
            "[3, 4, 1, 2]\n",
            "[3, 4, 2, 1]\n",
            "[1, 2, 4, 3]\n",
            "[2, 1, 4, 3]\n",
            "[2, 4, 1, 3]\n",
            "[2, 4, 3, 1]\n",
            "[1, 4, 2, 3]\n",
            "[4, 1, 2, 3]\n",
            "[4, 2, 1, 3]\n",
            "[4, 2, 3, 1]\n",
            "[1, 4, 3, 2]\n",
            "[4, 1, 3, 2]\n",
            "[4, 3, 1, 2]\n",
            "[4, 3, 2, 1]\n"
          ]
        }
      ]
    },
    {
      "cell_type": "markdown",
      "source": [
        "# lambda"
      ],
      "metadata": {
        "id": "red9KKz_ESlx"
      }
    },
    {
      "cell_type": "markdown",
      "source": [
        "#### 1"
      ],
      "metadata": {
        "id": "xGln9_nUHMtY"
      }
    },
    {
      "cell_type": "code",
      "source": [
        "a =lambda n,p : n*p"
      ],
      "metadata": {
        "id": "awb8e62ZEXl8"
      },
      "execution_count": null,
      "outputs": []
    },
    {
      "cell_type": "code",
      "source": [
        "a(9,10)"
      ],
      "metadata": {
        "colab": {
          "base_uri": "https://localhost:8080/"
        },
        "id": "RoCb2EC3FBPa",
        "outputId": "a5f2dcca-20c0-4a7f-f431-ba3a00b00da6"
      },
      "execution_count": null,
      "outputs": [
        {
          "output_type": "execute_result",
          "data": {
            "text/plain": [
              "90"
            ]
          },
          "metadata": {},
          "execution_count": 3
        }
      ]
    },
    {
      "cell_type": "markdown",
      "source": [
        "#### 2.subtract"
      ],
      "metadata": {
        "id": "w_gExTIzHP6M"
      }
    },
    {
      "cell_type": "code",
      "source": [
        "sub =lambda a,b : a-b"
      ],
      "metadata": {
        "id": "9CtaoZGHFRfv"
      },
      "execution_count": null,
      "outputs": []
    },
    {
      "cell_type": "code",
      "source": [
        "sub(1000,2000)"
      ],
      "metadata": {
        "colab": {
          "base_uri": "https://localhost:8080/"
        },
        "id": "skc69uJKFbCU",
        "outputId": "dbd5d524-896c-40f4-bdff-2ac8ca8a2c71"
      },
      "execution_count": null,
      "outputs": [
        {
          "output_type": "execute_result",
          "data": {
            "text/plain": [
              "-1000"
            ]
          },
          "metadata": {},
          "execution_count": 5
        }
      ]
    },
    {
      "cell_type": "markdown",
      "source": [
        "#### 3.celcius to farhenheit\n",
        "#### formulae = (9/5)*c+32"
      ],
      "metadata": {
        "id": "tvtVBYtsFlAV"
      }
    },
    {
      "cell_type": "code",
      "source": [
        "cel = lambda c : (9/5)*c+32"
      ],
      "metadata": {
        "id": "iS7k2-jFFoZs"
      },
      "execution_count": null,
      "outputs": []
    },
    {
      "cell_type": "code",
      "source": [
        "cel(32)"
      ],
      "metadata": {
        "colab": {
          "base_uri": "https://localhost:8080/"
        },
        "id": "mUwwS055F6xH",
        "outputId": "46eddedc-3e6f-4a9f-c412-fe4d6c4d7f34"
      },
      "execution_count": null,
      "outputs": [
        {
          "output_type": "execute_result",
          "data": {
            "text/plain": [
              "89.6"
            ]
          },
          "metadata": {},
          "execution_count": 7
        }
      ]
    },
    {
      "cell_type": "markdown",
      "source": [
        "#### 4.to find maximum"
      ],
      "metadata": {
        "id": "cxIYvJo9GADb"
      }
    },
    {
      "cell_type": "code",
      "source": [
        "max_= lambda x,y :x if x>y else y"
      ],
      "metadata": {
        "id": "akflxq18GCEU"
      },
      "execution_count": null,
      "outputs": []
    },
    {
      "cell_type": "code",
      "source": [
        "max_(75,89)"
      ],
      "metadata": {
        "colab": {
          "base_uri": "https://localhost:8080/"
        },
        "id": "k0WspqAxGNpA",
        "outputId": "8450024b-f178-4dd1-c58e-5f361af444bc"
      },
      "execution_count": null,
      "outputs": [
        {
          "output_type": "execute_result",
          "data": {
            "text/plain": [
              "89"
            ]
          },
          "metadata": {},
          "execution_count": 13
        }
      ]
    },
    {
      "cell_type": "markdown",
      "source": [
        "#### 5.to find the length of string"
      ],
      "metadata": {
        "id": "0VsYsVWAGiQY"
      }
    },
    {
      "cell_type": "code",
      "source": [
        "s = \"sai pavan mr\""
      ],
      "metadata": {
        "id": "IC8y91HCG20l"
      },
      "execution_count": null,
      "outputs": []
    },
    {
      "cell_type": "code",
      "source": [
        "strn = lambda s : len(s)"
      ],
      "metadata": {
        "id": "cUtQab6OGlgt"
      },
      "execution_count": null,
      "outputs": []
    },
    {
      "cell_type": "code",
      "source": [
        "strn(s)"
      ],
      "metadata": {
        "colab": {
          "base_uri": "https://localhost:8080/"
        },
        "id": "I9IlNniVG7Rd",
        "outputId": "9623039f-e9a1-47af-ebed-f40ae0b8140e"
      },
      "execution_count": null,
      "outputs": [
        {
          "output_type": "execute_result",
          "data": {
            "text/plain": [
              "12"
            ]
          },
          "metadata": {},
          "execution_count": 16
        }
      ]
    },
    {
      "cell_type": "markdown",
      "source": [
        "#### 6. write a program using the lambda functions to add the no 15 with guven value and multiply x and y"
      ],
      "metadata": {
        "id": "8k7j7VmpHIwM"
      }
    },
    {
      "cell_type": "code",
      "source": [
        "#1\n",
        "add1= lambda a : a+15"
      ],
      "metadata": {
        "id": "eTQKTadrKdjS"
      },
      "execution_count": null,
      "outputs": []
    },
    {
      "cell_type": "code",
      "source": [
        "add1(45)"
      ],
      "metadata": {
        "colab": {
          "base_uri": "https://localhost:8080/"
        },
        "id": "ns1zK_TRKloZ",
        "outputId": "5ab82879-85a6-45f8-e579-5f0f7b3488b0"
      },
      "execution_count": null,
      "outputs": [
        {
          "output_type": "execute_result",
          "data": {
            "text/plain": [
              "60"
            ]
          },
          "metadata": {},
          "execution_count": 20
        }
      ]
    },
    {
      "cell_type": "code",
      "source": [
        "#2\n",
        "mult = lambda x,y : x*y\n"
      ],
      "metadata": {
        "id": "9foNCMibKpMi"
      },
      "execution_count": null,
      "outputs": []
    },
    {
      "cell_type": "code",
      "source": [
        "mult(20,25)"
      ],
      "metadata": {
        "colab": {
          "base_uri": "https://localhost:8080/"
        },
        "id": "TlAsRvWWK0vu",
        "outputId": "1ac2d5ce-eaac-4516-a253-1cfb12a36c2d"
      },
      "execution_count": null,
      "outputs": [
        {
          "output_type": "execute_result",
          "data": {
            "text/plain": [
              "500"
            ]
          },
          "metadata": {},
          "execution_count": 48
        }
      ]
    },
    {
      "cell_type": "markdown",
      "source": [
        "#### 7. filter using lambda the odd and even numbers\n"
      ],
      "metadata": {
        "id": "TaI5TZYpOu2o"
      }
    },
    {
      "cell_type": "code",
      "source": [
        "nums = (1,2,3,4,5,6,7,8,9,10)"
      ],
      "metadata": {
        "id": "WyU-OEdKcV8O"
      },
      "execution_count": null,
      "outputs": []
    },
    {
      "cell_type": "code",
      "source": [
        "nums = list(filter(lambda x : x%2==0,nums))"
      ],
      "metadata": {
        "id": "kMfdi5k0bTHE"
      },
      "execution_count": null,
      "outputs": []
    },
    {
      "cell_type": "code",
      "source": [
        "print(nums)"
      ],
      "metadata": {
        "colab": {
          "base_uri": "https://localhost:8080/"
        },
        "id": "4eJO_WzgbfSu",
        "outputId": "37eea9b4-c8ff-49aa-f36a-54d45f6985b2"
      },
      "execution_count": null,
      "outputs": [
        {
          "output_type": "stream",
          "name": "stdout",
          "text": [
            "[2, 4, 6, 8, 10]\n"
          ]
        }
      ]
    },
    {
      "cell_type": "code",
      "source": [
        "nums=(1,2,3,4,5,6,7,8,9,10)"
      ],
      "metadata": {
        "id": "Kv6lBsvLc69j"
      },
      "execution_count": null,
      "outputs": []
    },
    {
      "cell_type": "code",
      "source": [
        "nums = list(filter(lambda x: x%2!=0,nums))"
      ],
      "metadata": {
        "id": "ZyQQevblbuQP"
      },
      "execution_count": null,
      "outputs": []
    },
    {
      "cell_type": "code",
      "source": [
        "print(nums)"
      ],
      "metadata": {
        "colab": {
          "base_uri": "https://localhost:8080/"
        },
        "id": "_A9zlsf7cyME",
        "outputId": "1e71f29b-20bb-4b4c-bba1-813ac2341b25"
      },
      "execution_count": null,
      "outputs": [
        {
          "output_type": "stream",
          "name": "stdout",
          "text": [
            "[1, 3, 5, 7, 9]\n"
          ]
        }
      ]
    },
    {
      "cell_type": "markdown",
      "source": [
        "#### 8. square and cube the given numbers"
      ],
      "metadata": {
        "id": "Y5tyNyVjdDZI"
      }
    },
    {
      "cell_type": "code",
      "source": [
        "nums =(1,2,3,4,5,6,7,8,9,10)"
      ],
      "metadata": {
        "id": "zMWsiEpKdorD"
      },
      "execution_count": null,
      "outputs": []
    },
    {
      "cell_type": "code",
      "source": [
        "squar = list(map(lambda x : x**2,nums))"
      ],
      "metadata": {
        "id": "KJ1FXJ2jdyJ1"
      },
      "execution_count": null,
      "outputs": []
    },
    {
      "cell_type": "code",
      "source": [
        "print(squar)"
      ],
      "metadata": {
        "colab": {
          "base_uri": "https://localhost:8080/"
        },
        "id": "eRLT4hb4d7DU",
        "outputId": "e12dfa52-da6f-4a75-f44b-de92414c0df8"
      },
      "execution_count": null,
      "outputs": [
        {
          "output_type": "stream",
          "name": "stdout",
          "text": [
            "[1, 4, 9, 16, 25, 36, 49, 64, 81, 100]\n"
          ]
        }
      ]
    },
    {
      "cell_type": "code",
      "source": [
        "squar1 = list(map(lambda x:x**3,nums))"
      ],
      "metadata": {
        "id": "adT8xbTXeg3Y"
      },
      "execution_count": null,
      "outputs": []
    },
    {
      "cell_type": "code",
      "source": [
        "print(squar1)"
      ],
      "metadata": {
        "colab": {
          "base_uri": "https://localhost:8080/"
        },
        "id": "mcxY51AGepxz",
        "outputId": "e5b8d592-c56c-439f-c08e-e54a6289b56b"
      },
      "execution_count": null,
      "outputs": [
        {
          "output_type": "stream",
          "name": "stdout",
          "text": [
            "[1, 8, 27, 64, 125, 216, 343, 512, 729, 1000]\n"
          ]
        }
      ]
    },
    {
      "cell_type": "markdown",
      "source": [
        "#### 9. show the time using lambda"
      ],
      "metadata": {
        "id": "ax_QTd1lfNB5"
      }
    },
    {
      "cell_type": "code",
      "source": [
        "import datetime"
      ],
      "metadata": {
        "id": "SLtGLCU6fRLW"
      },
      "execution_count": null,
      "outputs": []
    },
    {
      "cell_type": "code",
      "source": [
        "now = datetime.datetime.now()"
      ],
      "metadata": {
        "id": "Vf9sGeXqfTeS"
      },
      "execution_count": null,
      "outputs": []
    },
    {
      "cell_type": "code",
      "source": [
        "year = lambda x: x.year"
      ],
      "metadata": {
        "id": "YYtdhA8IfbT_"
      },
      "execution_count": null,
      "outputs": []
    },
    {
      "cell_type": "code",
      "source": [
        "month = lambda x: x.month"
      ],
      "metadata": {
        "id": "9txGysKufg4_"
      },
      "execution_count": null,
      "outputs": []
    },
    {
      "cell_type": "code",
      "source": [
        "date = lambda x:x.month"
      ],
      "metadata": {
        "id": "ub_cOdeYfsRo"
      },
      "execution_count": null,
      "outputs": []
    },
    {
      "cell_type": "code",
      "source": [
        "t= lambda x:x.time\n"
      ],
      "metadata": {
        "id": "ZscQmlrtfxgo"
      },
      "execution_count": null,
      "outputs": []
    },
    {
      "cell_type": "code",
      "source": [
        "print(year(now))\n",
        "print(month(now))\n",
        "print(date(now))"
      ],
      "metadata": {
        "colab": {
          "base_uri": "https://localhost:8080/"
        },
        "id": "PecsRCHLf4Et",
        "outputId": "86bfc360-a9e5-47e2-be20-a485f0d0a25f"
      },
      "execution_count": null,
      "outputs": [
        {
          "output_type": "stream",
          "name": "stdout",
          "text": [
            "2023\n",
            "12\n",
            "12\n"
          ]
        }
      ]
    },
    {
      "cell_type": "code",
      "source": [],
      "metadata": {
        "id": "9t_DwpaKmD30"
      },
      "execution_count": null,
      "outputs": []
    }
  ]
}