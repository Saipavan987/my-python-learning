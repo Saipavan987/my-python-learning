{
  "cells": [
    {
      "cell_type": "markdown",
      "metadata": {
        "id": "tUBZXhBQIMVB"
      },
      "source": [
        "#### 1.Write a Python program to find out what version of Python you are using."
      ]
    },
    {
      "cell_type": "code",
      "execution_count": null,
      "metadata": {
        "colab": {
          "base_uri": "https://localhost:8080/"
        },
        "id": "tdmBNsYNG2Rj",
        "outputId": "4df72cc5-9f6a-4ba8-cae7-dc602ab7f8a0"
      },
      "outputs": [
        {
          "name": "stdout",
          "output_type": "stream",
          "text": [
            "python version\n",
            "3.10.12 (main, Nov 20 2023, 15:14:05) [GCC 11.4.0]\n",
            "version information\n",
            "sys.version_info(major=3, minor=10, micro=12, releaselevel='final', serial=0)\n"
          ]
        }
      ],
      "source": [
        "import sys\n",
        "print(\"python version\")\n",
        "print(sys.version)\n",
        "print(\"version information\")\n",
        "print(sys.version_info)"
      ]
    },
    {
      "cell_type": "markdown",
      "metadata": {
        "id": "mV8JjitbJnWv"
      },
      "source": [
        "#### 2.Write a Python program to display the current date and time."
      ]
    },
    {
      "cell_type": "code",
      "execution_count": null,
      "metadata": {
        "colab": {
          "base_uri": "https://localhost:8080/"
        },
        "id": "XzxmRuqQJO23",
        "outputId": "287fa207-b226-45e9-9d47-41a4c13fac64"
      },
      "outputs": [
        {
          "name": "stdout",
          "output_type": "stream",
          "text": [
            "the exact time while printing this code is\n",
            "2024-01-08 03:43:49\n"
          ]
        }
      ],
      "source": [
        "import datetime\n",
        "now=datetime.datetime.now()\n",
        "print(\"the exact time while printing this code is\")\n",
        "print(now.strftime(\"%Y-%m-%d %H:%M:%S\"))"
      ]
    },
    {
      "cell_type": "markdown",
      "metadata": {
        "id": "RXknLTZwLEhX"
      },
      "source": [
        "#### 3.Write a Python program that calculates the area of a circle based on the radius entered by the user."
      ]
    },
    {
      "cell_type": "code",
      "execution_count": null,
      "metadata": {
        "colab": {
          "base_uri": "https://localhost:8080/"
        },
        "id": "l76BM4cEKq42",
        "outputId": "d3bc0eff-cf41-490b-e7cd-55875dfa1d31"
      },
      "outputs": [
        {
          "name": "stdout",
          "output_type": "stream",
          "text": [
            "to find the radius of the circle\n",
            "enter the value of the radius5\n"
          ]
        }
      ],
      "source": [
        "from math import pi\n",
        "print(\"to find the radius of the circle\")\n",
        "r = int(input(\"enter the value of the radius: \"))"
      ]
    },
    {
      "cell_type": "code",
      "execution_count": null,
      "metadata": {
        "id": "3iRuaIVBrbHi"
      },
      "outputs": [],
      "source": [
        "area = pi * r**2"
      ]
    },
    {
      "cell_type": "code",
      "execution_count": null,
      "metadata": {
        "colab": {
          "base_uri": "https://localhost:8080/"
        },
        "id": "8CNbFyR3rilp",
        "outputId": "019caadc-2683-4161-a937-8e4e80aee059"
      },
      "outputs": [
        {
          "name": "stdout",
          "output_type": "stream",
          "text": [
            "the area of the circle with radius of 5 is:78.53981633974483\n"
          ]
        }
      ],
      "source": [
        "print(\"the area of the circle with radius of \" + str(r) + \" is:\" + str(area))"
      ]
    },
    {
      "cell_type": "markdown",
      "metadata": {
        "id": "gaG3UGJMtE-J"
      },
      "source": [
        "#### 4.Write a Python program that accepts the user's first and last name and prints them in reverse order with a space between them."
      ]
    },
    {
      "cell_type": "code",
      "execution_count": null,
      "metadata": {
        "colab": {
          "base_uri": "https://localhost:8080/"
        },
        "id": "ql6Tf_Slsawb",
        "outputId": "b2f24975-b93f-4480-8001-fd290c17416a"
      },
      "outputs": [
        {
          "name": "stdout",
          "output_type": "stream",
          "text": [
            "Hello\n",
            "enter the first name:sai \n",
            "enter the last name:pavan\n"
          ]
        }
      ],
      "source": [
        "print(\"Hello\")\n",
        "first=input(\"enter the first name:\")\n",
        "last=input(\"enter the last name:\")"
      ]
    },
    {
      "cell_type": "code",
      "execution_count": null,
      "metadata": {
        "colab": {
          "base_uri": "https://localhost:8080/"
        },
        "id": "FCIgety8uGmE",
        "outputId": "859193eb-0558-43b4-f55b-03588b26e91a"
      },
      "outputs": [
        {
          "name": "stdout",
          "output_type": "stream",
          "text": [
            "pavan sai \n"
          ]
        }
      ],
      "source": [
        "print(last+ \" \" + first)"
      ]
    },
    {
      "cell_type": "code",
      "execution_count": null,
      "metadata": {
        "id": "tKpje4rfvGjq"
      },
      "outputs": [],
      "source": [
        "first1=(first[::-1])"
      ]
    },
    {
      "cell_type": "code",
      "execution_count": null,
      "metadata": {
        "id": "-RwsFna1ve2I"
      },
      "outputs": [],
      "source": [
        "last1=(last[::-1])"
      ]
    },
    {
      "cell_type": "code",
      "execution_count": null,
      "metadata": {
        "colab": {
          "base_uri": "https://localhost:8080/"
        },
        "id": "k69lh8mRvnaa",
        "outputId": "e7b34165-fc58-4950-a48d-7bf47c8d8656"
      },
      "outputs": [
        {
          "name": "stdout",
          "output_type": "stream",
          "text": [
            "navap  ias\n"
          ]
        }
      ],
      "source": [
        "print(last1 + \" \" + first1)"
      ]
    },
    {
      "cell_type": "markdown",
      "metadata": {
        "id": "h7AmUEyzxHT0"
      },
      "source": [
        "#### 5.Write a Python program that accepts a sequence of comma-separated numbers from the user and generates a list and a tuple of those numbers.\n",
        "Sample data : 3, 5, 7, 23"
      ]
    },
    {
      "cell_type": "code",
      "execution_count": null,
      "metadata": {
        "colab": {
          "base_uri": "https://localhost:8080/"
        },
        "id": "_xqEX58YvtmX",
        "outputId": "acb824e8-6fb6-4312-cadb-c8d5e6ff2f97"
      },
      "outputs": [
        {
          "name": "stdout",
          "output_type": "stream",
          "text": [
            "input the numbers to be comma separated: 3 5 7 23\n"
          ]
        }
      ],
      "source": [
        "a = (input(\"input the numbers to be comma separated: \"))\n"
      ]
    },
    {
      "cell_type": "code",
      "execution_count": null,
      "metadata": {
        "id": "pFf5VTvgxdPU"
      },
      "outputs": [],
      "source": [
        "b = a.split(\" , \")"
      ]
    },
    {
      "cell_type": "code",
      "execution_count": null,
      "metadata": {
        "id": "StsUCkpSyrqu",
        "colab": {
          "base_uri": "https://localhost:8080/",
          "height": 175
        },
        "outputId": "259688de-4ec9-417c-d964-cbdbfded472b"
      },
      "outputs": [
        {
          "output_type": "error",
          "ename": "TypeError",
          "evalue": "'tuple' object is not callable",
          "traceback": [
            "\u001b[0;31m---------------------------------------------------------------------------\u001b[0m",
            "\u001b[0;31mTypeError\u001b[0m                                 Traceback (most recent call last)",
            "\u001b[0;32m<ipython-input-18-cc722a0ac0a6>\u001b[0m in \u001b[0;36m<cell line: 1>\u001b[0;34m()\u001b[0m\n\u001b[0;32m----> 1\u001b[0;31m \u001b[0mtuple\u001b[0m\u001b[0;34m=\u001b[0m\u001b[0mtuple\u001b[0m\u001b[0;34m(\u001b[0m\u001b[0mb\u001b[0m\u001b[0;34m)\u001b[0m\u001b[0;34m\u001b[0m\u001b[0;34m\u001b[0m\u001b[0m\n\u001b[0m",
            "\u001b[0;31mTypeError\u001b[0m: 'tuple' object is not callable"
          ]
        }
      ],
      "source": [
        "tuple=tuple(b)"
      ]
    },
    {
      "cell_type": "code",
      "source": [
        "print(\"list : \", b)"
      ],
      "metadata": {
        "colab": {
          "base_uri": "https://localhost:8080/"
        },
        "id": "scoJX60TlbGY",
        "outputId": "31aa7989-6efb-43e3-f223-fc3b98861e5a"
      },
      "execution_count": null,
      "outputs": [
        {
          "output_type": "stream",
          "name": "stdout",
          "text": [
            "list :  ['3 5 7 23']\n"
          ]
        }
      ]
    },
    {
      "cell_type": "code",
      "source": [
        "print(\"tuple : \" , tuple)"
      ],
      "metadata": {
        "colab": {
          "base_uri": "https://localhost:8080/"
        },
        "id": "d62Z1ptOlkT3",
        "outputId": "39d554d0-1cd1-4484-e9ab-7216446443f6"
      },
      "execution_count": null,
      "outputs": [
        {
          "output_type": "stream",
          "name": "stdout",
          "text": [
            "tuple :  ('3 5 7 23',)\n"
          ]
        }
      ]
    },
    {
      "cell_type": "markdown",
      "source": [
        "#### 6. Write a Python program that accepts a filename from the user and prints the extension of the file.\n",
        "Sample filename : abc.python"
      ],
      "metadata": {
        "id": "w6dEuujrnKC5"
      }
    },
    {
      "cell_type": "code",
      "source": [
        "filename = input(\"enter the name of the file: \")\n",
        "file_ext=filename.split(\".\")\n",
        "print(\"the last name of the file is :- \" + repr(file_ext[-1]))"
      ],
      "metadata": {
        "colab": {
          "base_uri": "https://localhost:8080/"
        },
        "id": "cSIZ1pYpl_aK",
        "outputId": "3ec59fcb-0588-44fe-cddd-db0fb2d95fa9"
      },
      "execution_count": null,
      "outputs": [
        {
          "output_type": "stream",
          "name": "stdout",
          "text": [
            "enter the name of the file: abc.python\n",
            "the last name of the file is :- 'python'\n"
          ]
        }
      ]
    },
    {
      "cell_type": "markdown",
      "source": [
        "#### 7.Write a Python program to display the first and last colors from the following list.\n",
        "color_list = [\"Red\",\"Green\",\"White\" ,\"Black\"]"
      ],
      "metadata": {
        "id": "K5olQ-hFpqWe"
      }
    },
    {
      "cell_type": "code",
      "source": [
        "colour_list = [\"Red\",\"Green\",\"White\",\"Black\"]\n",
        "print(colour_list[0],colour_list[-1])"
      ],
      "metadata": {
        "colab": {
          "base_uri": "https://localhost:8080/"
        },
        "id": "5xL8WxV1n0vn",
        "outputId": "1c9a18b5-6c08-4d82-8253-7767767ac91f"
      },
      "execution_count": null,
      "outputs": [
        {
          "output_type": "stream",
          "name": "stdout",
          "text": [
            "Red Black\n"
          ]
        }
      ]
    },
    {
      "cell_type": "markdown",
      "source": [
        "#### 8.Write a Python program to display the examination schedule. (extract the date from exam_st_date).\n",
        "exam_st_date = (11, 12, 2014)\n",
        "Sample Output : The examination will start from : 11 / 12 / 2014"
      ],
      "metadata": {
        "id": "MApXuAYxqTyz"
      }
    },
    {
      "cell_type": "code",
      "source": [
        "exam_st_date=(11,12,2014)\n",
        "print(\"the examination will start from :-\",*exam_st_date,sep=\"/\")"
      ],
      "metadata": {
        "colab": {
          "base_uri": "https://localhost:8080/"
        },
        "id": "LJhR0rIyqLXi",
        "outputId": "ed0d60b4-8721-4d7b-92d5-317e857d80c5"
      },
      "execution_count": null,
      "outputs": [
        {
          "output_type": "stream",
          "name": "stdout",
          "text": [
            "the examination will start from :-/11/12/2014\n"
          ]
        }
      ]
    },
    {
      "cell_type": "code",
      "source": [
        "print(\"the exam will start from :-  %i / %i / %i \" % exam_st_date)"
      ],
      "metadata": {
        "colab": {
          "base_uri": "https://localhost:8080/"
        },
        "id": "296B9rNzq-qi",
        "outputId": "82e7a651-fda9-4c8a-8b38-891b97d4c672"
      },
      "execution_count": null,
      "outputs": [
        {
          "output_type": "stream",
          "name": "stdout",
          "text": [
            "the exam will start from :-  11 / 12 / 2014 \n"
          ]
        }
      ]
    },
    {
      "cell_type": "markdown",
      "source": [
        "#### 9.Write a Python program that accepts an integer (n) and computes the value of n+nn+nnn.\n",
        "Sample value of n is 5\n",
        "Expected Result : 615"
      ],
      "metadata": {
        "id": "Q09GPgYW7lFc"
      }
    },
    {
      "cell_type": "code",
      "source": [
        "a = input(\"enter the value  of the input :-\")\n",
        "print(type(a))\n",
        "b = int(a)+int(a+a)+int(a+a+a)\n",
        "print(b)"
      ],
      "metadata": {
        "colab": {
          "base_uri": "https://localhost:8080/"
        },
        "id": "xvRnLhcQrtar",
        "outputId": "cd301b94-07d6-4e44-b0c5-8882a2703398"
      },
      "execution_count": null,
      "outputs": [
        {
          "output_type": "stream",
          "name": "stdout",
          "text": [
            "enter the value  of the input :-5\n",
            "<class 'str'>\n",
            "615\n"
          ]
        }
      ]
    },
    {
      "cell_type": "markdown",
      "source": [
        "#### 10.Write a Python program to print the documents (syntax, description etc.) of Python built-in function(s).\n",
        "\n",
        "Sample function: abs()"
      ],
      "metadata": {
        "id": "k6nA4xR19AO9"
      }
    },
    {
      "cell_type": "code",
      "source": [
        "\"\"\"writing a python program to print the document of python built-in function(s)\"\"\"\n",
        "print(abs.__doc__)"
      ],
      "metadata": {
        "colab": {
          "base_uri": "https://localhost:8080/"
        },
        "id": "DYyOMs7Z8vkT",
        "outputId": "01f52bfb-0d7f-4476-ecf0-b9b28d8bffe2"
      },
      "execution_count": null,
      "outputs": [
        {
          "output_type": "stream",
          "name": "stdout",
          "text": [
            "Return the absolute value of the argument.\n"
          ]
        }
      ]
    },
    {
      "cell_type": "markdown",
      "source": [
        "#### 11.Write a Python program that prints the calendar for a given month and year.\n",
        "\n",
        "Note: Use 'calendar' module."
      ],
      "metadata": {
        "id": "30MebUWV_oQi"
      }
    },
    {
      "cell_type": "code",
      "source": [
        "import calendar\n",
        "y = int(input(\"enter the year =\"))\n",
        "m = int(input(\"enter the month =\"))\n",
        "print(calendar.month(y,m))\n",
        "print(\"sai pavan birthday is on 25 of january\")"
      ],
      "metadata": {
        "colab": {
          "base_uri": "https://localhost:8080/"
        },
        "id": "TXHiDAWA_L1b",
        "outputId": "0803dc27-23dc-4a4c-b6bf-1c7880751921"
      },
      "execution_count": null,
      "outputs": [
        {
          "output_type": "stream",
          "name": "stdout",
          "text": [
            "enter the year =2024\n",
            "enter the month =01\n",
            "    January 2024\n",
            "Mo Tu We Th Fr Sa Su\n",
            " 1  2  3  4  5  6  7\n",
            " 8  9 10 11 12 13 14\n",
            "15 16 17 18 19 20 21\n",
            "22 23 24 25 26 27 28\n",
            "29 30 31\n",
            "\n",
            "sai pavan birthday is on 25 of january\n"
          ]
        }
      ]
    },
    {
      "cell_type": "markdown",
      "source": [
        "#### 12.Write a Python program to print the following 'here document'.\n",
        "\n",
        "Sample string:\n",
        "a string that you \"don't\" have to escape\n",
        "This\n",
        "is a ....... multi-line\n",
        "heredoc string --------> example"
      ],
      "metadata": {
        "id": "B-zcLLayJ-dS"
      }
    },
    {
      "cell_type": "code",
      "source": [
        "print(\"\"\"\n",
        "a string that \"dont\" have to escape\n",
        "this\n",
        "is a ........ multi-line\n",
        "heredoc string ------->example\n",
        "\"\"\")"
      ],
      "metadata": {
        "colab": {
          "base_uri": "https://localhost:8080/"
        },
        "id": "FmX7lVZKAHIG",
        "outputId": "16d184b8-fb84-4f1e-afc9-4287b079ebb7"
      },
      "execution_count": null,
      "outputs": [
        {
          "output_type": "stream",
          "name": "stdout",
          "text": [
            " \n",
            "a string that \"dont\" have to escape\n",
            "this\n",
            "is a ........ multi-line\n",
            "heredoc string ------->example\n",
            "\n"
          ]
        }
      ]
    },
    {
      "cell_type": "markdown",
      "source": [
        "#### 13.Write a Python program to calculate the number of days between two dates.\n",
        "Sample dates : (2014, 7, 2), (2014, 7, 11)\n",
        "Expected output : 9 days"
      ],
      "metadata": {
        "id": "uD8rrD92K_08"
      }
    },
    {
      "cell_type": "code",
      "source": [
        "from datetime import date\n",
        "first = date(2014,7,2)\n",
        "last = date(2014,7,11)\n",
        "gap = last-first\n",
        "print(gap.days)"
      ],
      "metadata": {
        "colab": {
          "base_uri": "https://localhost:8080/"
        },
        "id": "6Re_MWItKnAi",
        "outputId": "859f2db5-f3ec-493c-9861-b305908786eb"
      },
      "execution_count": null,
      "outputs": [
        {
          "output_type": "stream",
          "name": "stdout",
          "text": [
            "9\n"
          ]
        }
      ]
    },
    {
      "cell_type": "markdown",
      "source": [
        "#### 14.Write a Python program to get the volume of a sphere with radius given."
      ],
      "metadata": {
        "id": "QjXRAVKVL772"
      }
    },
    {
      "cell_type": "code",
      "source": [
        "from math import pi\n",
        "r = int(input(\"enter the value of the radius =\"))\n",
        "volume=(4/3*pi*r**3)\n",
        "print(\"the volume of the sphere is:\",volume)"
      ],
      "metadata": {
        "colab": {
          "base_uri": "https://localhost:8080/"
        },
        "id": "9aeqiku9LcUb",
        "outputId": "9151012b-de5a-4a85-ffa1-4d1f6d140ec2"
      },
      "execution_count": null,
      "outputs": [
        {
          "output_type": "stream",
          "name": "stdout",
          "text": [
            "enter the value of the radius =10\n",
            "the volume of the sphere is: 4188.790204786391\n",
            "enter the value of the radius =5\n",
            "the volume of the sphere is: 523.5987755982989\n"
          ]
        }
      ]
    },
    {
      "cell_type": "markdown",
      "source": [
        "#### 15.Write a Python program to calculate the difference between a given number and 17. If the number is greater than 17, return twice the absolute difference."
      ],
      "metadata": {
        "id": "fTLLaaTQNFno"
      }
    },
    {
      "cell_type": "code",
      "source": [
        "def given_int(n):\n",
        "  if n <= 17:\n",
        "    return(n-17)\n",
        "  else:\n",
        "    return(n*17)\n"
      ],
      "metadata": {
        "id": "0knfGobQMnIE"
      },
      "execution_count": null,
      "outputs": []
    },
    {
      "cell_type": "code",
      "source": [
        "print(given_int(22))"
      ],
      "metadata": {
        "colab": {
          "base_uri": "https://localhost:8080/"
        },
        "id": "6uWSOzLtN3QJ",
        "outputId": "0522470b-f2e9-4244-9f11-ec82081dfe35"
      },
      "execution_count": null,
      "outputs": [
        {
          "output_type": "stream",
          "name": "stdout",
          "text": [
            "374\n"
          ]
        }
      ]
    },
    {
      "cell_type": "code",
      "source": [
        "print(given_int(10))"
      ],
      "metadata": {
        "colab": {
          "base_uri": "https://localhost:8080/"
        },
        "id": "x_C7UEiZN7Yy",
        "outputId": "10622320-9aa5-4f5a-faec-0e94484241ba"
      },
      "execution_count": null,
      "outputs": [
        {
          "output_type": "stream",
          "name": "stdout",
          "text": [
            "-7\n"
          ]
        }
      ]
    },
    {
      "cell_type": "code",
      "source": [
        "print(given_int(17))"
      ],
      "metadata": {
        "colab": {
          "base_uri": "https://localhost:8080/"
        },
        "id": "fVeJSUH7N-ut",
        "outputId": "f6ee3a84-5a92-4c17-9c9e-b7c77c9ce395"
      },
      "execution_count": null,
      "outputs": [
        {
          "output_type": "stream",
          "name": "stdout",
          "text": [
            "0\n"
          ]
        }
      ]
    },
    {
      "cell_type": "markdown",
      "source": [
        "#### 16.Write a Python program to test whether a number is within 100 of 1000 or 2000\n"
      ],
      "metadata": {
        "id": "5fKDqoXTwvKn"
      }
    },
    {
      "cell_type": "code",
      "source": [
        "def funct(n):\n",
        "  if n>=100 and n<=1000:\n",
        "    print(\"the given number is between the numbers 100 and 1000\")\n",
        "  elif n>=1000 and n<=2000:\n",
        "    print(\"the given number is between the numbers 1000 and 2000\")\n",
        "  else:\n",
        "    print(\"the given number is not between the range 10 to 2000\")"
      ],
      "metadata": {
        "id": "zniEAydpODs2"
      },
      "execution_count": null,
      "outputs": []
    },
    {
      "cell_type": "code",
      "source": [
        "print(funct(100))"
      ],
      "metadata": {
        "colab": {
          "base_uri": "https://localhost:8080/"
        },
        "id": "4fjdlwWIyvIL",
        "outputId": "f6723a9d-c6eb-4936-a816-7156aab831a9"
      },
      "execution_count": null,
      "outputs": [
        {
          "output_type": "stream",
          "name": "stdout",
          "text": [
            "the given number is between the numbers 100 and 1000\n",
            "None\n"
          ]
        }
      ]
    },
    {
      "cell_type": "code",
      "source": [
        "print(funct(10))"
      ],
      "metadata": {
        "colab": {
          "base_uri": "https://localhost:8080/"
        },
        "id": "MzbDiV4Myysx",
        "outputId": "5117413c-b882-4bb5-a331-44cd914d9ebe"
      },
      "execution_count": null,
      "outputs": [
        {
          "output_type": "stream",
          "name": "stdout",
          "text": [
            "the given number is not between the range 10 to 2000\n",
            "None\n"
          ]
        }
      ]
    },
    {
      "cell_type": "code",
      "source": [
        "print(funct(2200))"
      ],
      "metadata": {
        "colab": {
          "base_uri": "https://localhost:8080/"
        },
        "id": "q8xSJ0Pvy1tl",
        "outputId": "a59e9ebe-f539-4e78-c348-fa280eea80a3"
      },
      "execution_count": null,
      "outputs": [
        {
          "output_type": "stream",
          "name": "stdout",
          "text": [
            "the given number is not between the range 10 to 2000\n",
            "None\n"
          ]
        }
      ]
    },
    {
      "cell_type": "markdown",
      "source": [
        "#### 17.classes"
      ],
      "metadata": {
        "id": "kPjZtPzf0F3o"
      }
    },
    {
      "cell_type": "code",
      "source": [
        "class mechanical:\n",
        " def __init__(self ,name,number,email_id):\n",
        "  self.name=name\n",
        "  self.number=number\n",
        "  self.email_id=email_id\n",
        "\n",
        " def student_details(self):\n",
        "  return self.name,self.number,self.email_id"
      ],
      "metadata": {
        "id": "71ZqmwG1zMeh"
      },
      "execution_count": null,
      "outputs": []
    },
    {
      "cell_type": "code",
      "source": [
        "saipavan=mechanical(\"saipavan\", 8456257956, \"saipavanmr@gmail.com\")"
      ],
      "metadata": {
        "id": "Vqq0sFsdzDup"
      },
      "execution_count": null,
      "outputs": []
    },
    {
      "cell_type": "code",
      "source": [
        "saipavan.name"
      ],
      "metadata": {
        "colab": {
          "base_uri": "https://localhost:8080/",
          "height": 35
        },
        "id": "GhFg6a99zalI",
        "outputId": "166bb785-1f57-4909-9319-7e935d69e2c8"
      },
      "execution_count": null,
      "outputs": [
        {
          "output_type": "execute_result",
          "data": {
            "text/plain": [
              "'saipavan'"
            ],
            "application/vnd.google.colaboratory.intrinsic+json": {
              "type": "string"
            }
          },
          "metadata": {},
          "execution_count": 5
        }
      ]
    },
    {
      "cell_type": "code",
      "source": [
        "saipavan.number"
      ],
      "metadata": {
        "colab": {
          "base_uri": "https://localhost:8080/"
        },
        "id": "nxSIUNKUzrk4",
        "outputId": "0dee6af0-6bcb-4a74-d30b-bb471621bcf8"
      },
      "execution_count": null,
      "outputs": [
        {
          "output_type": "execute_result",
          "data": {
            "text/plain": [
              "8456257956"
            ]
          },
          "metadata": {},
          "execution_count": 6
        }
      ]
    },
    {
      "cell_type": "code",
      "source": [
        "saipavan.email_id"
      ],
      "metadata": {
        "colab": {
          "base_uri": "https://localhost:8080/",
          "height": 35
        },
        "id": "QciYEwmRzuMv",
        "outputId": "d5d67f81-442b-4814-f634-1508c5235f45"
      },
      "execution_count": null,
      "outputs": [
        {
          "output_type": "execute_result",
          "data": {
            "text/plain": [
              "'saipavanmr@gmail.com'"
            ],
            "application/vnd.google.colaboratory.intrinsic+json": {
              "type": "string"
            }
          },
          "metadata": {},
          "execution_count": 7
        }
      ]
    },
    {
      "cell_type": "markdown",
      "source": [
        "#### 18."
      ],
      "metadata": {
        "id": "F4OxtRru0LNI"
      }
    },
    {
      "cell_type": "code",
      "source": [
        "class mech:\n",
        "  def saisev(self):\n",
        "    print(\"sai pavan has sevanthi\")\n",
        "\n"
      ],
      "metadata": {
        "id": "4gSBjvb8zw0V"
      },
      "execution_count": null,
      "outputs": []
    },
    {
      "cell_type": "code",
      "source": [
        "class compsci:\n",
        "  def saisev(self):\n",
        "    print(\"sevanthi has saipavanmr\")"
      ],
      "metadata": {
        "id": "2pVNP91c1BeE"
      },
      "execution_count": null,
      "outputs": []
    },
    {
      "cell_type": "code",
      "source": [
        "obj_mech=mech()"
      ],
      "metadata": {
        "id": "o5wa1ONw2J9k"
      },
      "execution_count": null,
      "outputs": []
    },
    {
      "cell_type": "code",
      "source": [
        "obj_compsci=compsci()"
      ],
      "metadata": {
        "id": "HVPSxWAz2QqJ"
      },
      "execution_count": null,
      "outputs": []
    },
    {
      "cell_type": "code",
      "source": [
        "polytechnic=[obj_mech,obj_compsci]"
      ],
      "metadata": {
        "id": "mHulnfoS2XXG"
      },
      "execution_count": null,
      "outputs": []
    },
    {
      "cell_type": "code",
      "source": [
        "class gpti(polytechnic):\n",
        "  for i in polytechnic:\n",
        "    i.saisev()\n"
      ],
      "metadata": {
        "colab": {
          "base_uri": "https://localhost:8080/",
          "height": 245
        },
        "id": "Q5JozQWH1Jx-",
        "outputId": "30a1030a-e7f6-4146-de87-ef026ee84eee"
      },
      "execution_count": null,
      "outputs": [
        {
          "output_type": "stream",
          "name": "stdout",
          "text": [
            "sai pavan has sevanthi\n",
            "sevanthi has saipavanmr\n"
          ]
        },
        {
          "output_type": "error",
          "ename": "TypeError",
          "evalue": "list expected at most 1 argument, got 3",
          "traceback": [
            "\u001b[0;31m---------------------------------------------------------------------------\u001b[0m",
            "\u001b[0;31mTypeError\u001b[0m                                 Traceback (most recent call last)",
            "\u001b[0;32m<ipython-input-22-e6d4d6e67dd2>\u001b[0m in \u001b[0;36m<cell line: 1>\u001b[0;34m()\u001b[0m\n\u001b[0;32m----> 1\u001b[0;31m \u001b[0;32mclass\u001b[0m \u001b[0mgpti\u001b[0m\u001b[0;34m(\u001b[0m\u001b[0mpolytechnic\u001b[0m\u001b[0;34m)\u001b[0m\u001b[0;34m:\u001b[0m\u001b[0;34m\u001b[0m\u001b[0;34m\u001b[0m\u001b[0m\n\u001b[0m\u001b[1;32m      2\u001b[0m   \u001b[0;32mfor\u001b[0m \u001b[0mi\u001b[0m \u001b[0;32min\u001b[0m \u001b[0mpolytechnic\u001b[0m\u001b[0;34m:\u001b[0m\u001b[0;34m\u001b[0m\u001b[0;34m\u001b[0m\u001b[0m\n\u001b[1;32m      3\u001b[0m     \u001b[0mi\u001b[0m\u001b[0;34m.\u001b[0m\u001b[0msaisev\u001b[0m\u001b[0;34m(\u001b[0m\u001b[0;34m)\u001b[0m\u001b[0;34m\u001b[0m\u001b[0;34m\u001b[0m\u001b[0m\n",
            "\u001b[0;31mTypeError\u001b[0m: list expected at most 1 argument, got 3"
          ]
        }
      ]
    },
    {
      "cell_type": "markdown",
      "source": [
        "#### 19.\n"
      ],
      "metadata": {
        "id": "7qYvbMtc3Rxi"
      }
    },
    {
      "cell_type": "code",
      "source": [
        "class car:\n",
        "  def __init__(self, company,model,year,owner_name,speed):\n",
        "    self.company=company\n",
        "    self.model=model\n",
        "    self.year=year\n",
        "    self.owner_name=owner_name\n",
        "    self.__speed=0\n",
        "\n",
        "  def cardetails(self):\n",
        "    return self.company,self.model,self.year,self.owner_name\n",
        "\n",
        "  def setspeed(self,speed):\n",
        "    self.__speed= 0 if speed < 0 else speed\n",
        "\n",
        "  def getspeed(self):\n",
        "    return self.__speed\n"
      ],
      "metadata": {
        "id": "r6Lajl0s3Z6U"
      },
      "execution_count": null,
      "outputs": []
    },
    {
      "cell_type": "code",
      "source": [
        "firstcar=car(\"tatamotors\",\"nexon_pure_s\",2024,\"Sai Pavan M R\",500)"
      ],
      "metadata": {
        "id": "JWtb8oTf4aM2"
      },
      "execution_count": null,
      "outputs": []
    },
    {
      "cell_type": "code",
      "source": [
        "firstcar.setspeed(250)"
      ],
      "metadata": {
        "id": "iZi4AK0Z9qGD"
      },
      "execution_count": null,
      "outputs": []
    },
    {
      "cell_type": "code",
      "source": [
        "firstcar.getspeed()"
      ],
      "metadata": {
        "colab": {
          "base_uri": "https://localhost:8080/"
        },
        "id": "wL5oVlH495A9",
        "outputId": "2514c6d8-b68e-47cc-b81f-fe08759729b3"
      },
      "execution_count": null,
      "outputs": [
        {
          "output_type": "execute_result",
          "data": {
            "text/plain": [
              "250"
            ]
          },
          "metadata": {},
          "execution_count": 57
        }
      ]
    },
    {
      "cell_type": "code",
      "source": [
        "firstcar.model"
      ],
      "metadata": {
        "colab": {
          "base_uri": "https://localhost:8080/",
          "height": 35
        },
        "id": "DHbDnDip5ZMH",
        "outputId": "a3f2a1f0-87d9-4795-c9b1-75ea87657c71"
      },
      "execution_count": null,
      "outputs": [
        {
          "output_type": "execute_result",
          "data": {
            "text/plain": [
              "'nexon_pure_s'"
            ],
            "application/vnd.google.colaboratory.intrinsic+json": {
              "type": "string"
            }
          },
          "metadata": {},
          "execution_count": 58
        }
      ]
    },
    {
      "cell_type": "code",
      "source": [
        "firstcar.owner_name"
      ],
      "metadata": {
        "colab": {
          "base_uri": "https://localhost:8080/",
          "height": 35
        },
        "id": "OFHKO71S5vln",
        "outputId": "61b220c6-8a1d-4596-e2b1-d56b64ac5612"
      },
      "execution_count": null,
      "outputs": [
        {
          "output_type": "execute_result",
          "data": {
            "text/plain": [
              "'Sai Pavan M R'"
            ],
            "application/vnd.google.colaboratory.intrinsic+json": {
              "type": "string"
            }
          },
          "metadata": {},
          "execution_count": 33
        }
      ]
    },
    {
      "cell_type": "code",
      "source": [
        "secondcar=car(\"tatamotors\",\"tata_punch\",2024,\"sai pavan m r\",652)"
      ],
      "metadata": {
        "id": "XRNrkWZw53Ah"
      },
      "execution_count": null,
      "outputs": []
    },
    {
      "cell_type": "code",
      "source": [
        "secondcar.model"
      ],
      "metadata": {
        "colab": {
          "base_uri": "https://localhost:8080/",
          "height": 35
        },
        "id": "3qmViL246onQ",
        "outputId": "c5264dea-0326-4b84-8541-ca1f7fec52a0"
      },
      "execution_count": null,
      "outputs": [
        {
          "output_type": "execute_result",
          "data": {
            "text/plain": [
              "'tata_punch'"
            ],
            "application/vnd.google.colaboratory.intrinsic+json": {
              "type": "string"
            }
          },
          "metadata": {},
          "execution_count": 36
        }
      ]
    },
    {
      "cell_type": "code",
      "source": [
        "secondcar.setspeed(652)"
      ],
      "metadata": {
        "id": "gaZhN_RYBBVl"
      },
      "execution_count": null,
      "outputs": []
    },
    {
      "cell_type": "code",
      "source": [
        "secondcar.getspeed()"
      ],
      "metadata": {
        "colab": {
          "base_uri": "https://localhost:8080/"
        },
        "id": "G4OyDm7UBcXz",
        "outputId": "5a9a4b73-e989-4028-b94b-235ec5ca2b03"
      },
      "execution_count": null,
      "outputs": [
        {
          "output_type": "execute_result",
          "data": {
            "text/plain": [
              "652"
            ]
          },
          "metadata": {},
          "execution_count": 67
        }
      ]
    },
    {
      "cell_type": "code",
      "source": [
        "firstcar.model"
      ],
      "metadata": {
        "colab": {
          "base_uri": "https://localhost:8080/",
          "height": 35
        },
        "id": "1jvD7xlc6rYo",
        "outputId": "ec2cca56-3b54-416e-bb69-9a2ab0dcc386"
      },
      "execution_count": null,
      "outputs": [
        {
          "output_type": "execute_result",
          "data": {
            "text/plain": [
              "'nexon_pure_s'"
            ],
            "application/vnd.google.colaboratory.intrinsic+json": {
              "type": "string"
            }
          },
          "metadata": {},
          "execution_count": 37
        }
      ]
    },
    {
      "cell_type": "code",
      "source": [
        "thirdcar=car(\"tatamotors\",\"harrier\",2026,\"sai pavan m r\")"
      ],
      "metadata": {
        "id": "RUgidKpV6uBJ"
      },
      "execution_count": null,
      "outputs": []
    },
    {
      "cell_type": "code",
      "source": [
        "thirdcar.model"
      ],
      "metadata": {
        "colab": {
          "base_uri": "https://localhost:8080/",
          "height": 35
        },
        "id": "2JFY-plY6513",
        "outputId": "e8328a09-4cd8-4505-a65e-508e3ac16959"
      },
      "execution_count": null,
      "outputs": [
        {
          "output_type": "execute_result",
          "data": {
            "text/plain": [
              "'harrier'"
            ],
            "application/vnd.google.colaboratory.intrinsic+json": {
              "type": "string"
            }
          },
          "metadata": {},
          "execution_count": 39
        }
      ]
    },
    {
      "cell_type": "markdown",
      "source": [
        "#### 20"
      ],
      "metadata": {
        "id": "mAyO5U1vCf-N"
      }
    },
    {
      "cell_type": "code",
      "source": [
        "class bankaccount:\n",
        "  def __init__(self,balance):\n",
        "    self.__balance=balance\n",
        "\n",
        "  def deposit(self,amount):\n",
        "    self.__balance=self.__balance+amount\n",
        "\n",
        "  def withdraw(self,amount):\n",
        "    if self.__balance >= amount:\n",
        "      self.__balance = self.__balance-amount\n",
        "      return True\n",
        "    elif self.__balance < amount:\n",
        "      return False\n",
        "\n",
        "  def getbalance(self):\n",
        "    return self.__balance\n"
      ],
      "metadata": {
        "id": "3OI7lBGd68zP"
      },
      "execution_count": null,
      "outputs": []
    },
    {
      "cell_type": "code",
      "source": [
        "obj_bankaccount=bankaccount(1000)"
      ],
      "metadata": {
        "id": "W3tf8a-VEfr_"
      },
      "execution_count": null,
      "outputs": []
    },
    {
      "cell_type": "code",
      "source": [
        "obj_bankaccount.deposit(2000)"
      ],
      "metadata": {
        "id": "2MGFbaykF6h2"
      },
      "execution_count": null,
      "outputs": []
    },
    {
      "cell_type": "code",
      "source": [
        "obj_bankaccount.getbalance()"
      ],
      "metadata": {
        "colab": {
          "base_uri": "https://localhost:8080/"
        },
        "id": "cFgFgnAHGD-R",
        "outputId": "8709348e-c190-4f33-8f38-32a06148f511"
      },
      "execution_count": null,
      "outputs": [
        {
          "output_type": "execute_result",
          "data": {
            "text/plain": [
              "4000"
            ]
          },
          "metadata": {},
          "execution_count": 84
        }
      ]
    },
    {
      "cell_type": "code",
      "source": [
        "obj_bankaccount.withdraw(4000)"
      ],
      "metadata": {
        "colab": {
          "base_uri": "https://localhost:8080/"
        },
        "id": "6zHdexQ-GIHz",
        "outputId": "1ed5aebc-ca94-420d-d54e-a07160f52b20"
      },
      "execution_count": null,
      "outputs": [
        {
          "output_type": "execute_result",
          "data": {
            "text/plain": [
              "True"
            ]
          },
          "metadata": {},
          "execution_count": 85
        }
      ]
    },
    {
      "cell_type": "code",
      "source": [
        "obj_bankaccount.getbalance()"
      ],
      "metadata": {
        "colab": {
          "base_uri": "https://localhost:8080/"
        },
        "id": "M3ZeiN51GPjD",
        "outputId": "c33a0a13-a1d5-4c01-dfbb-e3f8e3682e8f"
      },
      "execution_count": null,
      "outputs": [
        {
          "output_type": "execute_result",
          "data": {
            "text/plain": [
              "0"
            ]
          },
          "metadata": {},
          "execution_count": 86
        }
      ]
    },
    {
      "cell_type": "code",
      "source": [
        "obj_bankaccount.deposit(1000)"
      ],
      "metadata": {
        "id": "HOZ4DTW3Gu5J"
      },
      "execution_count": null,
      "outputs": []
    },
    {
      "cell_type": "code",
      "source": [
        "obj_bankaccount.getbalance()"
      ],
      "metadata": {
        "colab": {
          "base_uri": "https://localhost:8080/"
        },
        "id": "YpMkZaXdHETj",
        "outputId": "416e444f-edb8-414e-fd77-39dde1dfd158"
      },
      "execution_count": null,
      "outputs": [
        {
          "output_type": "execute_result",
          "data": {
            "text/plain": [
              "1000"
            ]
          },
          "metadata": {},
          "execution_count": 93
        }
      ]
    },
    {
      "cell_type": "code",
      "source": [
        "obj_bankaccount.withdraw(2000)"
      ],
      "metadata": {
        "id": "Bwf6yuIAHJod"
      },
      "execution_count": null,
      "outputs": []
    },
    {
      "cell_type": "markdown",
      "source": [
        "#### 21.mutilevel classes"
      ],
      "metadata": {
        "id": "ovULdERnIIXK"
      }
    },
    {
      "cell_type": "code",
      "source": [
        "class class1:\n",
        "  def classone(self):\n",
        "    print(\"this is the first class\")"
      ],
      "metadata": {
        "id": "KKJMWEsoHokk"
      },
      "execution_count": null,
      "outputs": []
    },
    {
      "cell_type": "code",
      "source": [
        "class class2(class1):\n",
        "  def classtwo(self):\n",
        "    print(\"this is my second class\")"
      ],
      "metadata": {
        "id": "ZRB3fpdPJPiR"
      },
      "execution_count": null,
      "outputs": []
    },
    {
      "cell_type": "code",
      "source": [
        "class class3(class2):\n",
        "  def classthree(self):\n",
        "    print(\"this is my thirrd class\")"
      ],
      "metadata": {
        "id": "o6LDWG1UJdWk"
      },
      "execution_count": null,
      "outputs": []
    },
    {
      "cell_type": "code",
      "source": [
        "cls=class3"
      ],
      "metadata": {
        "id": "g9TOX3D_JnHy"
      },
      "execution_count": null,
      "outputs": []
    },
    {
      "cell_type": "code",
      "source": [
        "cls.classone"
      ],
      "metadata": {
        "colab": {
          "base_uri": "https://localhost:8080/"
        },
        "id": "l_yeuIMVJqov",
        "outputId": "57edc589-c8e0-498e-cbf2-55ab39f831ef"
      },
      "execution_count": null,
      "outputs": [
        {
          "output_type": "execute_result",
          "data": {
            "text/plain": [
              "<function __main__.class1.classone(self)>"
            ]
          },
          "metadata": {},
          "execution_count": 106
        }
      ]
    },
    {
      "cell_type": "markdown",
      "source": [
        "#### 22.multiple inheretence"
      ],
      "metadata": {
        "id": "bqhZUaVpLDp9"
      }
    },
    {
      "cell_type": "code",
      "source": [
        "class class4():\n",
        "  def classfour(self):\n",
        "    print(\"this is my classfour\")\n"
      ],
      "metadata": {
        "id": "RQBbWA_sJw7J"
      },
      "execution_count": null,
      "outputs": []
    },
    {
      "cell_type": "code",
      "source": [
        "class class5():\n",
        "  def classfive(self):\n",
        "    print(\"this is my classfive\")"
      ],
      "metadata": {
        "id": "BOkhyyIaLebg"
      },
      "execution_count": null,
      "outputs": []
    },
    {
      "cell_type": "code",
      "source": [
        "class class6():\n",
        "  def classsix(self):\n",
        "    print(\"this is my classsix\")"
      ],
      "metadata": {
        "id": "woTPOJvpLoJ4"
      },
      "execution_count": null,
      "outputs": []
    },
    {
      "cell_type": "code",
      "source": [
        "class class7(class4,class5,class6):\n",
        "  pass\n",
        "  print(\"this is the collection of class\")"
      ],
      "metadata": {
        "colab": {
          "base_uri": "https://localhost:8080/"
        },
        "id": "QIUhq3zkLxv2",
        "outputId": "a8da251a-934a-4008-e448-a04c75a41608"
      },
      "execution_count": null,
      "outputs": [
        {
          "output_type": "stream",
          "name": "stdout",
          "text": [
            "this is the collection of class\n"
          ]
        }
      ]
    },
    {
      "cell_type": "code",
      "source": [
        "obj_class=class7()"
      ],
      "metadata": {
        "id": "FD4Yd3rlMAtR"
      },
      "execution_count": null,
      "outputs": []
    },
    {
      "cell_type": "code",
      "source": [
        "obj_class.classfour()"
      ],
      "metadata": {
        "colab": {
          "base_uri": "https://localhost:8080/"
        },
        "id": "eNm8ryzjMQC9",
        "outputId": "fd108f6e-ab54-4879-e7b7-11e2bfab64b3"
      },
      "execution_count": null,
      "outputs": [
        {
          "output_type": "stream",
          "name": "stdout",
          "text": [
            "this is my classfour\n"
          ]
        }
      ]
    },
    {
      "cell_type": "markdown",
      "source": [
        "#### 22.abstract method"
      ],
      "metadata": {
        "id": "X9vSOtlw_liL"
      }
    },
    {
      "cell_type": "code",
      "source": [
        "import abc\n",
        "\n",
        "class pwskills:\n",
        "\n",
        "  @abc.abstractmethod\n",
        "  def student_details(self):\n",
        "    pass\n",
        "\n",
        "  @abc.abstractmethod\n",
        "  def student_assignment(self):\n",
        "    pass\n",
        "\n",
        "  @abc.abstractmethod\n",
        "  def student_marks(self):\n",
        "    pass"
      ],
      "metadata": {
        "id": "PjHvLMCoMUL1"
      },
      "execution_count": null,
      "outputs": []
    },
    {
      "cell_type": "code",
      "source": [
        "class data_science(pwskills):\n",
        "\n",
        "  def student_details(self):\n",
        "    return \"i will try to return the student details of data science\"\n",
        "\n",
        "  def student_assignment(self):\n",
        "    return \"i will try to return the assignment regarding datascience\"\n"
      ],
      "metadata": {
        "id": "4SU4hKISAcJD"
      },
      "execution_count": null,
      "outputs": []
    },
    {
      "cell_type": "code",
      "source": [
        "class web_dev(pwskills):\n",
        "\n",
        "  def student_details(self):\n",
        "    return \"i will try to return the details regarding web development\"\n",
        "\n",
        "  def student_marks(self):\n",
        "    return \"i will try to return the details regarding student marks of web development\""
      ],
      "metadata": {
        "id": "zYGeZk6dBP-u"
      },
      "execution_count": null,
      "outputs": []
    },
    {
      "cell_type": "code",
      "source": [
        "ds=data_science()"
      ],
      "metadata": {
        "id": "CGqTD9UpBshM"
      },
      "execution_count": null,
      "outputs": []
    },
    {
      "cell_type": "code",
      "source": [
        "ds.student_assignment()"
      ],
      "metadata": {
        "colab": {
          "base_uri": "https://localhost:8080/",
          "height": 35
        },
        "id": "PnT_9bdDB3WR",
        "outputId": "a0a85df9-a262-418b-d610-9c00f29dc8af"
      },
      "execution_count": null,
      "outputs": [
        {
          "output_type": "execute_result",
          "data": {
            "text/plain": [
              "'i will try to return the assignment regarding datascience'"
            ],
            "application/vnd.google.colaboratory.intrinsic+json": {
              "type": "string"
            }
          },
          "metadata": {},
          "execution_count": 6
        }
      ]
    },
    {
      "cell_type": "code",
      "source": [
        "ds.student_marks()"
      ],
      "metadata": {
        "id": "JKpyYALCB5Vm"
      },
      "execution_count": null,
      "outputs": []
    },
    {
      "cell_type": "code",
      "source": [
        "ds.student_details()"
      ],
      "metadata": {
        "colab": {
          "base_uri": "https://localhost:8080/",
          "height": 35
        },
        "id": "CVkKnoaKB9rt",
        "outputId": "ed5c885e-9a12-459a-97a6-1092ea9f93e8"
      },
      "execution_count": null,
      "outputs": [
        {
          "output_type": "execute_result",
          "data": {
            "text/plain": [
              "'i will try to return the student details of data science'"
            ],
            "application/vnd.google.colaboratory.intrinsic+json": {
              "type": "string"
            }
          },
          "metadata": {},
          "execution_count": 8
        }
      ]
    },
    {
      "cell_type": "code",
      "source": [
        "wb=web_dev()"
      ],
      "metadata": {
        "id": "gmlA1THCCA1-"
      },
      "execution_count": null,
      "outputs": []
    },
    {
      "cell_type": "code",
      "source": [
        "wb.student_marks()"
      ],
      "metadata": {
        "colab": {
          "base_uri": "https://localhost:8080/",
          "height": 35
        },
        "id": "2OYxkT4zCEIb",
        "outputId": "df35ef3a-615f-426c-e5a0-e96b6ca66007"
      },
      "execution_count": null,
      "outputs": [
        {
          "output_type": "execute_result",
          "data": {
            "text/plain": [
              "'i will try to return the details regarding student marks of web development'"
            ],
            "application/vnd.google.colaboratory.intrinsic+json": {
              "type": "string"
            }
          },
          "metadata": {},
          "execution_count": 11
        }
      ]
    },
    {
      "cell_type": "code",
      "source": [
        "wb.student_details()"
      ],
      "metadata": {
        "colab": {
          "base_uri": "https://localhost:8080/",
          "height": 35
        },
        "id": "4Ao9E_ztCI27",
        "outputId": "452c718c-4421-4cef-943e-626cf57fe07a"
      },
      "execution_count": null,
      "outputs": [
        {
          "output_type": "execute_result",
          "data": {
            "text/plain": [
              "'i will try to return the details regarding web development'"
            ],
            "application/vnd.google.colaboratory.intrinsic+json": {
              "type": "string"
            }
          },
          "metadata": {},
          "execution_count": 12
        }
      ]
    },
    {
      "cell_type": "code",
      "source": [
        "class cars():\n",
        "\n",
        "  @abc.abstractmethod\n",
        "  def mileage(self):\n",
        "    pass\n",
        "\n"
      ],
      "metadata": {
        "id": "OK48SHyvCRTd"
      },
      "execution_count": null,
      "outputs": []
    },
    {
      "cell_type": "code",
      "source": [
        "class tatamotors(cars):\n",
        "\n",
        "  def mileage(self):\n",
        "    return \"nexon has the mileage of 20kmpl\""
      ],
      "metadata": {
        "id": "P8vNdTG2FV-r"
      },
      "execution_count": null,
      "outputs": []
    },
    {
      "cell_type": "code",
      "source": [
        "class suzuki(cars):\n",
        "\n",
        "  def mileage(self):\n",
        "    return \"brezza has the mileage of 18kmpl\""
      ],
      "metadata": {
        "id": "beCEiJ4lGloi"
      },
      "execution_count": null,
      "outputs": []
    },
    {
      "cell_type": "code",
      "source": [
        "class Hyundai(cars):\n",
        "\n",
        "  def mileage(self):\n",
        "    return \"creta has the mileage pf 15kmpl\""
      ],
      "metadata": {
        "id": "rW21_v3BG09t"
      },
      "execution_count": null,
      "outputs": []
    },
    {
      "cell_type": "code",
      "source": [
        "tata=tatamotors()"
      ],
      "metadata": {
        "id": "IA0_WwImG-s5"
      },
      "execution_count": null,
      "outputs": []
    },
    {
      "cell_type": "code",
      "source": [
        "maruthi=suzuki()"
      ],
      "metadata": {
        "id": "4VRM-16HHC9y"
      },
      "execution_count": null,
      "outputs": []
    },
    {
      "cell_type": "code",
      "source": [
        "hyu=Hyundai()"
      ],
      "metadata": {
        "id": "V6PFY0jBHGap"
      },
      "execution_count": null,
      "outputs": []
    },
    {
      "cell_type": "code",
      "source": [
        "tata.mileage()"
      ],
      "metadata": {
        "colab": {
          "base_uri": "https://localhost:8080/",
          "height": 35
        },
        "id": "JROFihU5HJQM",
        "outputId": "e2f0da0d-663c-4b3f-c8b7-ca52080c45f3"
      },
      "execution_count": null,
      "outputs": [
        {
          "output_type": "execute_result",
          "data": {
            "text/plain": [
              "'nexon has the mileage of 20kmpl'"
            ],
            "application/vnd.google.colaboratory.intrinsic+json": {
              "type": "string"
            }
          },
          "metadata": {},
          "execution_count": 24
        }
      ]
    },
    {
      "cell_type": "code",
      "source": [
        "maruthi.mileage()"
      ],
      "metadata": {
        "colab": {
          "base_uri": "https://localhost:8080/",
          "height": 35
        },
        "id": "DT01JEXiHLY-",
        "outputId": "d5a611c4-0294-4350-f6b9-ab78d2e5e71a"
      },
      "execution_count": null,
      "outputs": [
        {
          "output_type": "execute_result",
          "data": {
            "text/plain": [
              "'brezza has the mileage of 18kmpl'"
            ],
            "application/vnd.google.colaboratory.intrinsic+json": {
              "type": "string"
            }
          },
          "metadata": {},
          "execution_count": 26
        }
      ]
    },
    {
      "cell_type": "code",
      "source": [
        "hyu.mileage()"
      ],
      "metadata": {
        "colab": {
          "base_uri": "https://localhost:8080/",
          "height": 35
        },
        "id": "kAkeKbX8HOJB",
        "outputId": "99a85d7d-a1df-4db9-b6c9-72469d646e27"
      },
      "execution_count": null,
      "outputs": [
        {
          "output_type": "execute_result",
          "data": {
            "text/plain": [
              "'creta has the mileage pf 15kmpl'"
            ],
            "application/vnd.google.colaboratory.intrinsic+json": {
              "type": "string"
            }
          },
          "metadata": {},
          "execution_count": 27
        }
      ]
    },
    {
      "cell_type": "markdown",
      "source": [
        "#### 23.decorators"
      ],
      "metadata": {
        "id": "_vyMihYXLNEY"
      }
    },
    {
      "cell_type": "code",
      "source": [
        "def deco(func):\n",
        "  def inner_deco():\n",
        "    print(\"this is the start of the function\")\n",
        "    func()\n",
        "    print(\"this is the end of the function\")\n",
        "  return inner_deco"
      ],
      "metadata": {
        "id": "baTQj6T3HSkc"
      },
      "execution_count": null,
      "outputs": []
    },
    {
      "cell_type": "code",
      "source": [
        "@deco\n",
        "def test1():\n",
        "  print(8*9)"
      ],
      "metadata": {
        "id": "HTlV54cbL-_A"
      },
      "execution_count": null,
      "outputs": []
    },
    {
      "cell_type": "code",
      "source": [
        "test1()"
      ],
      "metadata": {
        "colab": {
          "base_uri": "https://localhost:8080/"
        },
        "id": "8JGiobX1MCwn",
        "outputId": "42b3001e-e4a1-4fd1-ee04-7cb139edc9d0"
      },
      "execution_count": null,
      "outputs": [
        {
          "output_type": "stream",
          "name": "stdout",
          "text": [
            "this is the start of the function\n",
            "72\n",
            "this is the end of the function\n"
          ]
        }
      ]
    },
    {
      "cell_type": "markdown",
      "source": [
        "#### 24.time taken"
      ],
      "metadata": {
        "id": "mD1jcO8uMgtO"
      }
    },
    {
      "cell_type": "code",
      "source": [
        "import time\n",
        "\n",
        "def timer_test(func):\n",
        "  def timer_test_inner():\n",
        "    start=time.time()\n",
        "    func()\n",
        "    end=time.time()\n",
        "    print(end-start)\n",
        "  return timer_test_inner"
      ],
      "metadata": {
        "id": "HM6995CAMOTi"
      },
      "execution_count": null,
      "outputs": []
    },
    {
      "cell_type": "code",
      "source": [
        "@timer_test\n",
        "def test2():\n",
        "  print(10000000*10)"
      ],
      "metadata": {
        "id": "IhqOK3SvNt84"
      },
      "execution_count": null,
      "outputs": []
    },
    {
      "cell_type": "code",
      "source": [
        "test2()"
      ],
      "metadata": {
        "colab": {
          "base_uri": "https://localhost:8080/"
        },
        "id": "G30YG1UjN9WI",
        "outputId": "18e09ee9-6671-489c-f699-7ebdbc79c115"
      },
      "execution_count": null,
      "outputs": [
        {
          "output_type": "stream",
          "name": "stdout",
          "text": [
            "100000000\n",
            "0.0008647441864013672\n"
          ]
        }
      ]
    },
    {
      "cell_type": "code",
      "source": [
        "@timer_test\n",
        "def test3():\n",
        "  print(10*20+45-756+856-85)"
      ],
      "metadata": {
        "id": "jVObHcMRN--5"
      },
      "execution_count": null,
      "outputs": []
    },
    {
      "cell_type": "code",
      "source": [
        "test3()"
      ],
      "metadata": {
        "colab": {
          "base_uri": "https://localhost:8080/"
        },
        "id": "hRD0frkHOZcp",
        "outputId": "b47bc51b-7c48-4bb5-a4f5-da014e795c32"
      },
      "execution_count": null,
      "outputs": [
        {
          "output_type": "stream",
          "name": "stdout",
          "text": [
            "260\n",
            "6.318092346191406e-05\n"
          ]
        }
      ]
    },
    {
      "cell_type": "code",
      "source": [
        "class pwskills:\n",
        "\n",
        "  mobile_number=6366027191\n",
        "\n",
        "  def __init__(self,name,email):\n",
        "    self.name=name\n",
        "    self.email=email\n",
        "\n",
        "  @classmethod\n",
        "  def change_mobile(cls, mobile):\n",
        "    pwskills.mobile_number = mobile\n",
        "\n",
        "  @classmethod\n",
        "  def details(cls,name,email):\n",
        "    return cls(name,email)\n",
        "\n",
        "  def studentdetails(self):\n",
        "    print(self.name,self.email)"
      ],
      "metadata": {
        "id": "f7TinMk6Oa81"
      },
      "execution_count": null,
      "outputs": []
    },
    {
      "cell_type": "code",
      "source": [
        "pw=pwskills(\"saipavan\",\"saipavanmr@gmail.com\")"
      ],
      "metadata": {
        "id": "lmkBxX179AJW"
      },
      "execution_count": null,
      "outputs": []
    },
    {
      "cell_type": "code",
      "source": [
        "pw.name"
      ],
      "metadata": {
        "colab": {
          "base_uri": "https://localhost:8080/",
          "height": 35
        },
        "id": "jNJHMtiQ9Q7B",
        "outputId": "2c65f068-0caa-4b2b-f677-f1565eac2757"
      },
      "execution_count": null,
      "outputs": [
        {
          "output_type": "execute_result",
          "data": {
            "text/plain": [
              "'saipavan'"
            ],
            "application/vnd.google.colaboratory.intrinsic+json": {
              "type": "string"
            }
          },
          "metadata": {},
          "execution_count": 3
        }
      ]
    },
    {
      "cell_type": "code",
      "source": [
        "pw.email"
      ],
      "metadata": {
        "colab": {
          "base_uri": "https://localhost:8080/",
          "height": 35
        },
        "id": "Y7w76-yR9Sqz",
        "outputId": "312442f0-a35f-4a77-b451-7c6e9474d69e"
      },
      "execution_count": null,
      "outputs": [
        {
          "output_type": "execute_result",
          "data": {
            "text/plain": [
              "'saipavanmr@gmail.com'"
            ],
            "application/vnd.google.colaboratory.intrinsic+json": {
              "type": "string"
            }
          },
          "metadata": {},
          "execution_count": 4
        }
      ]
    },
    {
      "cell_type": "code",
      "source": [
        "pw1 = pwskills(\"pavan\",\"pavan@gmail.com\")"
      ],
      "metadata": {
        "id": "JE2xRQk99UPc"
      },
      "execution_count": null,
      "outputs": []
    },
    {
      "cell_type": "code",
      "source": [
        "pw.name"
      ],
      "metadata": {
        "colab": {
          "base_uri": "https://localhost:8080/",
          "height": 35
        },
        "id": "3F6gLzO99e6t",
        "outputId": "93cadeee-9155-4ea2-f522-7711cbcf5ff8"
      },
      "execution_count": null,
      "outputs": [
        {
          "output_type": "execute_result",
          "data": {
            "text/plain": [
              "'saipavan'"
            ],
            "application/vnd.google.colaboratory.intrinsic+json": {
              "type": "string"
            }
          },
          "metadata": {},
          "execution_count": 6
        }
      ]
    },
    {
      "cell_type": "code",
      "source": [
        "pw1.name"
      ],
      "metadata": {
        "colab": {
          "base_uri": "https://localhost:8080/",
          "height": 35
        },
        "id": "IZsRKkBA9g7X",
        "outputId": "719745b7-5856-4287-c24d-5f55f4d8e862"
      },
      "execution_count": null,
      "outputs": [
        {
          "output_type": "execute_result",
          "data": {
            "text/plain": [
              "'pavan'"
            ],
            "application/vnd.google.colaboratory.intrinsic+json": {
              "type": "string"
            }
          },
          "metadata": {},
          "execution_count": 7
        }
      ]
    },
    {
      "cell_type": "code",
      "source": [
        "pw2=pwskills.details(\"sevanthi\",\"sevanthib@gmail.com\")"
      ],
      "metadata": {
        "id": "tYTdVMtR9ij0"
      },
      "execution_count": null,
      "outputs": []
    },
    {
      "cell_type": "code",
      "source": [
        "pw2.name\n"
      ],
      "metadata": {
        "colab": {
          "base_uri": "https://localhost:8080/",
          "height": 35
        },
        "id": "SMrIVB8H-klQ",
        "outputId": "6906d99f-beeb-4c79-9390-6c78e04d2e80"
      },
      "execution_count": null,
      "outputs": [
        {
          "output_type": "execute_result",
          "data": {
            "text/plain": [
              "'sevanthi'"
            ],
            "application/vnd.google.colaboratory.intrinsic+json": {
              "type": "string"
            }
          },
          "metadata": {},
          "execution_count": 17
        }
      ]
    },
    {
      "cell_type": "code",
      "source": [
        "pw2.email"
      ],
      "metadata": {
        "colab": {
          "base_uri": "https://localhost:8080/",
          "height": 35
        },
        "id": "v7tw9DxQ-nXN",
        "outputId": "6901f480-8afe-45e9-d302-3c30c4453260"
      },
      "execution_count": null,
      "outputs": [
        {
          "output_type": "execute_result",
          "data": {
            "text/plain": [
              "'sevanthib@gmail.com'"
            ],
            "application/vnd.google.colaboratory.intrinsic+json": {
              "type": "string"
            }
          },
          "metadata": {},
          "execution_count": 18
        }
      ]
    },
    {
      "cell_type": "code",
      "source": [
        "pw3=pwskills.mobile_number"
      ],
      "metadata": {
        "id": "nodSPP7R-uVa"
      },
      "execution_count": null,
      "outputs": []
    },
    {
      "cell_type": "code",
      "source": [
        "pw3"
      ],
      "metadata": {
        "colab": {
          "base_uri": "https://localhost:8080/"
        },
        "id": "kGyBp0aK_zSq",
        "outputId": "1cea1264-80d3-43e9-e121-0700f4f1d151"
      },
      "execution_count": null,
      "outputs": [
        {
          "output_type": "execute_result",
          "data": {
            "text/plain": [
              "6366027191"
            ]
          },
          "metadata": {},
          "execution_count": 24
        }
      ]
    },
    {
      "cell_type": "code",
      "source": [
        "pwskills.change_mobile(9019672254)"
      ],
      "metadata": {
        "id": "fxWbvFjY_2iV"
      },
      "execution_count": null,
      "outputs": []
    },
    {
      "cell_type": "code",
      "source": [
        "pwskills.mobile_number"
      ],
      "metadata": {
        "colab": {
          "base_uri": "https://localhost:8080/"
        },
        "id": "a-3xBoi6BtMY",
        "outputId": "c16104c3-e3a5-4a4e-c269-82d396ce0f5c"
      },
      "execution_count": null,
      "outputs": [
        {
          "output_type": "execute_result",
          "data": {
            "text/plain": [
              "9019672254"
            ]
          },
          "metadata": {},
          "execution_count": 41
        }
      ]
    },
    {
      "cell_type": "code",
      "source": [
        "pwskills.change_mobile(95867435)"
      ],
      "metadata": {
        "id": "RUZkb32cB_Kb"
      },
      "execution_count": null,
      "outputs": []
    },
    {
      "cell_type": "code",
      "source": [
        "pwskills.mobile_number"
      ],
      "metadata": {
        "colab": {
          "base_uri": "https://localhost:8080/"
        },
        "id": "Fj3AS-W1CVK1",
        "outputId": "554db532-900d-4a3c-a2ed-a841ba740d29"
      },
      "execution_count": null,
      "outputs": [
        {
          "output_type": "execute_result",
          "data": {
            "text/plain": [
              "95867435"
            ]
          },
          "metadata": {},
          "execution_count": 44
        }
      ]
    },
    {
      "cell_type": "code",
      "source": [
        "pwskills.change_mobile(9019672254)"
      ],
      "metadata": {
        "id": "4sg76skdCZoJ"
      },
      "execution_count": null,
      "outputs": []
    },
    {
      "cell_type": "code",
      "source": [
        "pwskills.mobile_number"
      ],
      "metadata": {
        "colab": {
          "base_uri": "https://localhost:8080/"
        },
        "id": "ZYpW1-IcCd-r",
        "outputId": "4e73a7db-b8e8-484d-89e5-885e03f83fcc"
      },
      "execution_count": null,
      "outputs": [
        {
          "output_type": "execute_result",
          "data": {
            "text/plain": [
              "9019672254"
            ]
          },
          "metadata": {},
          "execution_count": 46
        }
      ]
    },
    {
      "cell_type": "markdown",
      "source": [
        "# Working with files\n"
      ],
      "metadata": {
        "id": "gYmXUW57divc"
      }
    },
    {
      "cell_type": "markdown",
      "source": [
        "## 1.Write Mode"
      ],
      "metadata": {
        "id": "20YCcf_MgxMt"
      }
    },
    {
      "cell_type": "code",
      "source": [
        "f = open(\"test.txt\", 'w')\n"
      ],
      "metadata": {
        "id": "WdRV3nE3CgfM"
      },
      "execution_count": null,
      "outputs": []
    },
    {
      "cell_type": "markdown",
      "source": [
        "##### pwd=present working directory, which shows where the file is stored at present"
      ],
      "metadata": {
        "id": "DtRsPUDZeSf_"
      }
    },
    {
      "cell_type": "code",
      "source": [
        "pwd"
      ],
      "metadata": {
        "colab": {
          "base_uri": "https://localhost:8080/",
          "height": 35
        },
        "id": "jzB3ZqFodyZp",
        "outputId": "b605a31f-1602-4e11-8bf3-ab901f4137ac"
      },
      "execution_count": null,
      "outputs": [
        {
          "output_type": "execute_result",
          "data": {
            "text/plain": [
              "'/content'"
            ],
            "application/vnd.google.colaboratory.intrinsic+json": {
              "type": "string"
            }
          },
          "metadata": {},
          "execution_count": 2
        }
      ]
    },
    {
      "cell_type": "code",
      "source": [
        "ls"
      ],
      "metadata": {
        "colab": {
          "base_uri": "https://localhost:8080/"
        },
        "id": "u_BgJ8zAd_Kn",
        "outputId": "db4ade4e-1a0b-4a70-c24c-dd5e71adec03"
      },
      "execution_count": null,
      "outputs": [
        {
          "output_type": "stream",
          "name": "stdout",
          "text": [
            "\u001b[0m\u001b[01;34msample_data\u001b[0m/  test.txt\n"
          ]
        }
      ]
    },
    {
      "cell_type": "code",
      "source": [
        "f.write(\"this is my first operation with the file\")"
      ],
      "metadata": {
        "colab": {
          "base_uri": "https://localhost:8080/"
        },
        "id": "eju82qzwei-R",
        "outputId": "8f6ea44c-5077-4b09-8892-cae02573844b"
      },
      "execution_count": null,
      "outputs": [
        {
          "output_type": "execute_result",
          "data": {
            "text/plain": [
              "40"
            ]
          },
          "metadata": {},
          "execution_count": 4
        }
      ]
    },
    {
      "cell_type": "markdown",
      "source": [
        "unless you close the file you will not be able to view the typings in the file"
      ],
      "metadata": {
        "id": "MXjD8Q3he8FI"
      }
    },
    {
      "cell_type": "code",
      "source": [
        "f.close()"
      ],
      "metadata": {
        "id": "H6kTKC5seshq"
      },
      "execution_count": null,
      "outputs": []
    },
    {
      "cell_type": "markdown",
      "source": [
        "wa - write and append mode,it will try to add new information in the file\n"
      ],
      "metadata": {
        "id": "E9f_DpmBfZLo"
      }
    },
    {
      "cell_type": "markdown",
      "source": [
        "## 2.Read Mode"
      ],
      "metadata": {
        "id": "eSYbljejfqR1"
      }
    },
    {
      "cell_type": "code",
      "source": [
        "data = open(\"test.txt\",\"r\")"
      ],
      "metadata": {
        "id": "pm47eBj6e7BP"
      },
      "execution_count": null,
      "outputs": []
    },
    {
      "cell_type": "code",
      "source": [
        "data.read()"
      ],
      "metadata": {
        "colab": {
          "base_uri": "https://localhost:8080/",
          "height": 35
        },
        "id": "ygEzusvSf2s_",
        "outputId": "95732b0a-b736-4c94-d0c3-655716d6ce27"
      },
      "execution_count": null,
      "outputs": [
        {
          "output_type": "execute_result",
          "data": {
            "text/plain": [
              "'this is my first operation with the file'"
            ],
            "application/vnd.google.colaboratory.intrinsic+json": {
              "type": "string"
            }
          },
          "metadata": {},
          "execution_count": 9
        }
      ]
    },
    {
      "cell_type": "markdown",
      "source": [
        "after calling the read operation second time the cursor will be in the last of sentence so we will get blank"
      ],
      "metadata": {
        "id": "yH71wWu-fqOZ"
      }
    },
    {
      "cell_type": "code",
      "source": [
        "data.read()"
      ],
      "metadata": {
        "colab": {
          "base_uri": "https://localhost:8080/",
          "height": 35
        },
        "id": "i4grhZl4gYb3",
        "outputId": "db2a85ec-747e-47c8-8b20-03dc793c4a58"
      },
      "execution_count": null,
      "outputs": [
        {
          "output_type": "execute_result",
          "data": {
            "text/plain": [
              "''"
            ],
            "application/vnd.google.colaboratory.intrinsic+json": {
              "type": "string"
            }
          },
          "metadata": {},
          "execution_count": 10
        }
      ]
    },
    {
      "cell_type": "markdown",
      "source": [
        "to restart the read mode we must use seek mode, in seek mode we will be able to reset the cursor location"
      ],
      "metadata": {
        "id": "QpgAU_pEggN0"
      }
    },
    {
      "cell_type": "code",
      "source": [
        "data.seek(0)"
      ],
      "metadata": {
        "colab": {
          "base_uri": "https://localhost:8080/"
        },
        "id": "X_P8Gk9-gacf",
        "outputId": "5b82a88a-c8e7-443e-fb11-c65e90e6f369"
      },
      "execution_count": null,
      "outputs": [
        {
          "output_type": "execute_result",
          "data": {
            "text/plain": [
              "0"
            ]
          },
          "metadata": {},
          "execution_count": 12
        }
      ]
    },
    {
      "cell_type": "code",
      "source": [
        "data.read()"
      ],
      "metadata": {
        "colab": {
          "base_uri": "https://localhost:8080/",
          "height": 35
        },
        "id": "6Vvb7UmTgoO9",
        "outputId": "374986d4-1ebe-4535-fc9f-e56d0a5d69b1"
      },
      "execution_count": null,
      "outputs": [
        {
          "output_type": "execute_result",
          "data": {
            "text/plain": [
              "'this is my first operation with the file'"
            ],
            "application/vnd.google.colaboratory.intrinsic+json": {
              "type": "string"
            }
          },
          "metadata": {},
          "execution_count": 13
        }
      ]
    },
    {
      "cell_type": "code",
      "source": [
        "data.seek(5)"
      ],
      "metadata": {
        "colab": {
          "base_uri": "https://localhost:8080/"
        },
        "id": "MkBKt_3KgsMW",
        "outputId": "927468ed-f646-447c-f663-d475780cb6ce"
      },
      "execution_count": null,
      "outputs": [
        {
          "output_type": "execute_result",
          "data": {
            "text/plain": [
              "5"
            ]
          },
          "metadata": {},
          "execution_count": 14
        }
      ]
    },
    {
      "cell_type": "code",
      "source": [
        "data.read()"
      ],
      "metadata": {
        "colab": {
          "base_uri": "https://localhost:8080/",
          "height": 35
        },
        "id": "HeMTaNH3hGL_",
        "outputId": "ebcf50c6-90be-4f5e-823c-80cd621c1dfc"
      },
      "execution_count": null,
      "outputs": [
        {
          "output_type": "execute_result",
          "data": {
            "text/plain": [
              "'is my first operation with the file'"
            ],
            "application/vnd.google.colaboratory.intrinsic+json": {
              "type": "string"
            }
          },
          "metadata": {},
          "execution_count": 15
        }
      ]
    },
    {
      "cell_type": "markdown",
      "source": [
        "size- to get the size of the file use the module \"os\" which comes in the bites"
      ],
      "metadata": {
        "id": "K8tn6ytNhzRH"
      }
    },
    {
      "cell_type": "code",
      "source": [
        "import os"
      ],
      "metadata": {
        "id": "aD0qpyp0hr6y"
      },
      "execution_count": null,
      "outputs": []
    },
    {
      "cell_type": "code",
      "source": [
        "os.path.getsize(\"test.txt\")"
      ],
      "metadata": {
        "colab": {
          "base_uri": "https://localhost:8080/"
        },
        "id": "2FcPjd-ghoA6",
        "outputId": "78f7d822-bc02-4da6-a93a-35d6b3a68c66"
      },
      "execution_count": null,
      "outputs": [
        {
          "output_type": "execute_result",
          "data": {
            "text/plain": [
              "40"
            ]
          },
          "metadata": {},
          "execution_count": 21
        }
      ]
    },
    {
      "cell_type": "markdown",
      "source": [
        "copy-to create the copy of the file you need the \"shutil\" module"
      ],
      "metadata": {
        "id": "zIQiIGTaiF78"
      }
    },
    {
      "cell_type": "code",
      "source": [
        "import shutil"
      ],
      "metadata": {
        "id": "tfCUVlUQh-XR"
      },
      "execution_count": null,
      "outputs": []
    },
    {
      "cell_type": "code",
      "source": [
        "shutil.copy(\"test.txt\",\"new_test.txt\")"
      ],
      "metadata": {
        "colab": {
          "base_uri": "https://localhost:8080/",
          "height": 35
        },
        "id": "sZfIJlakiaLj",
        "outputId": "657b61c5-3b13-4587-87c9-6bd5be18fabc"
      },
      "execution_count": null,
      "outputs": [
        {
          "output_type": "execute_result",
          "data": {
            "text/plain": [
              "'new_test.txt'"
            ],
            "application/vnd.google.colaboratory.intrinsic+json": {
              "type": "string"
            }
          },
          "metadata": {},
          "execution_count": 23
        }
      ]
    },
    {
      "cell_type": "markdown",
      "source": [
        "delete-you need os module"
      ],
      "metadata": {
        "id": "8O1JwoThimJx"
      }
    },
    {
      "cell_type": "code",
      "source": [
        "os.remove(\"test.txt\")"
      ],
      "metadata": {
        "id": "m1BytN88iiVo"
      },
      "execution_count": null,
      "outputs": []
    },
    {
      "cell_type": "markdown",
      "source": [
        "to open the file in the different way"
      ],
      "metadata": {
        "id": "Alf4njVPi0eq"
      }
    },
    {
      "cell_type": "code",
      "source": [
        "with open(\"new_test.txt\",\"r\") as f:\n",
        "  print(f.read())"
      ],
      "metadata": {
        "colab": {
          "base_uri": "https://localhost:8080/"
        },
        "id": "qBcN8TX9ixhC",
        "outputId": "87572630-aa85-4ad9-fd1e-ba59a5f27a2d"
      },
      "execution_count": null,
      "outputs": [
        {
          "output_type": "stream",
          "name": "stdout",
          "text": [
            "this is my first operation with the file\n"
          ]
        }
      ]
    },
    {
      "cell_type": "markdown",
      "source": [
        "to rename the file"
      ],
      "metadata": {
        "id": "W8GVLGxGjKDJ"
      }
    },
    {
      "cell_type": "code",
      "source": [
        "os.rename(\"new_test.txt\",\"test_1\")"
      ],
      "metadata": {
        "id": "OmEfjkbKjDr_"
      },
      "execution_count": null,
      "outputs": []
    },
    {
      "cell_type": "markdown",
      "source": [
        "# 3.read and write with different types of operation"
      ],
      "metadata": {
        "id": "2hlblj2dmnVD"
      }
    },
    {
      "cell_type": "markdown",
      "source": [
        "#### json - java script object notation which tries to store the data in key and value pairs as given below."
      ],
      "metadata": {
        "id": "iXuHQyvQnRbh"
      }
    },
    {
      "cell_type": "code",
      "source": [
        "data={\n",
        "    \"name\":\"sai\",\n",
        "    \"email\":\"saipavanmr@gmail.com\",\n",
        "    \"phone\":854662244,\n",
        "    \"subject\":[\"datascience\",\"webdevelopment\"]\n",
        "    }"
      ],
      "metadata": {
        "id": "pVZUR5pZjRbm"
      },
      "execution_count": null,
      "outputs": []
    },
    {
      "cell_type": "code",
      "source": [
        "import json"
      ],
      "metadata": {
        "id": "Hn5PMlX8nOvQ"
      },
      "execution_count": null,
      "outputs": []
    },
    {
      "cell_type": "markdown",
      "source": [
        "#### dump=for writing the data in json\n",
        "#### load=for reading the file in json"
      ],
      "metadata": {
        "id": "ct5GvTQ0oeMq"
      }
    },
    {
      "cell_type": "code",
      "source": [
        "with open (\"test1.json\",\"w\") as f:\n",
        "  json.dump(data,f)"
      ],
      "metadata": {
        "id": "7dUkSCNCnpzv"
      },
      "execution_count": null,
      "outputs": []
    },
    {
      "cell_type": "markdown",
      "source": [
        " the given data in json will be saved in the key and value pairs"
      ],
      "metadata": {
        "id": "0Drm_Ye7oF8L"
      }
    },
    {
      "cell_type": "code",
      "source": [
        "with open(\"test1.json\",\"r\") as f:\n",
        "  data1=json.load(f)"
      ],
      "metadata": {
        "id": "p6ocr418nwfE"
      },
      "execution_count": null,
      "outputs": []
    },
    {
      "cell_type": "code",
      "source": [
        "data1"
      ],
      "metadata": {
        "colab": {
          "base_uri": "https://localhost:8080/"
        },
        "id": "GtnTrh3uoZfL",
        "outputId": "7dec35a8-e0fe-4d13-e945-927361835de5"
      },
      "execution_count": null,
      "outputs": [
        {
          "output_type": "execute_result",
          "data": {
            "text/plain": [
              "{'name': 'sai',\n",
              " 'email': 'saipavanmr@gmail.com',\n",
              " 'phone': 854662244,\n",
              " 'subject': ['datascience', 'webdevelopment']}"
            ]
          },
          "metadata": {},
          "execution_count": 33
        }
      ]
    },
    {
      "cell_type": "markdown",
      "source": [
        "to view the webdevelopment use the index number"
      ],
      "metadata": {
        "id": "4MtcDsVpo0Ef"
      }
    },
    {
      "cell_type": "code",
      "source": [
        "data[\"subject\"][1]"
      ],
      "metadata": {
        "colab": {
          "base_uri": "https://localhost:8080/",
          "height": 35
        },
        "id": "zalzLWc4obM-",
        "outputId": "2f87fd25-ea04-4a7b-9944-6ae14eae926c"
      },
      "execution_count": null,
      "outputs": [
        {
          "output_type": "execute_result",
          "data": {
            "text/plain": [
              "'webdevelopment'"
            ],
            "application/vnd.google.colaboratory.intrinsic+json": {
              "type": "string"
            }
          },
          "metadata": {},
          "execution_count": 36
        }
      ]
    },
    {
      "cell_type": "markdown",
      "source": [
        "if there are some comma separated data where there are list under list and to store the entire data in \"CSV-comma separated value file\""
      ],
      "metadata": {
        "id": "NwwfcEtMpLBy"
      }
    },
    {
      "cell_type": "code",
      "source": [
        "data = [[\"name\",\"email_id\",\"mobile_number\"],\n",
        "        [\"sai\",\"saipavanmr@gmail.com\",8555564586],\n",
        "        [\"sev\",\"sev@gmail.com\",5456355532]\n",
        "       ]\n"
      ],
      "metadata": {
        "id": "EVGV436kpBJy"
      },
      "execution_count": null,
      "outputs": []
    },
    {
      "cell_type": "markdown",
      "source": [
        "import the csv and use writer for writing and reader for reading, so it is the list we have to iterate thrpugh it one by one and use \"writerow\" to store in a row"
      ],
      "metadata": {
        "id": "kkFmOdySqUuP"
      }
    },
    {
      "cell_type": "code",
      "source": [
        "import csv"
      ],
      "metadata": {
        "id": "ThZi9IfBqExV"
      },
      "execution_count": null,
      "outputs": []
    },
    {
      "cell_type": "code",
      "source": [
        "with open(\"test.csv\",\"w\") as f:\n",
        "  w=csv.writer(f)\n",
        "  for i in data:\n",
        "    w.writerow(i)"
      ],
      "metadata": {
        "id": "wd-lqmFrqG8K"
      },
      "execution_count": null,
      "outputs": []
    },
    {
      "cell_type": "markdown",
      "source": [
        " to perform the data read operation"
      ],
      "metadata": {
        "id": "9LybwGJlq-Rh"
      }
    },
    {
      "cell_type": "code",
      "source": [
        "with open(\"test.csv\",\"r\") as f:\n",
        "  read=csv.reader(f)\n",
        "  for i in read:\n",
        "    print(i)"
      ],
      "metadata": {
        "colab": {
          "base_uri": "https://localhost:8080/"
        },
        "id": "IV-DF5c8qP7W",
        "outputId": "873ac66f-f5d5-46cd-8f76-8795d07e21d0"
      },
      "execution_count": null,
      "outputs": [
        {
          "output_type": "stream",
          "name": "stdout",
          "text": [
            "['name', 'email_id', 'mobile_number']\n",
            "['sai', 'saipavanmr@gmail.com', '8555564586']\n",
            "['sev', 'sev@gmail.com', '5456355532']\n"
          ]
        }
      ]
    },
    {
      "cell_type": "markdown",
      "source": [
        "#### 1.binary read operations\n",
        "wb-write binary\n",
        "rb-read binary"
      ],
      "metadata": {
        "id": "URybGe-frbji"
      }
    },
    {
      "cell_type": "code",
      "source": [
        "with open(\"test4.bin\",\"wb\") as f:\n",
        "  f.write(b\"x01\\x02\\x03\")"
      ],
      "metadata": {
        "id": "LdWSb2W3rNdU"
      },
      "execution_count": null,
      "outputs": []
    },
    {
      "cell_type": "code",
      "source": [
        "with open(\"test4.bin\",\"rb\") as f:\n",
        "  print(f.read())"
      ],
      "metadata": {
        "colab": {
          "base_uri": "https://localhost:8080/"
        },
        "id": "tHoS547psCoc",
        "outputId": "d6ed4ad3-af24-441b-d96d-d41e8af0e60f"
      },
      "execution_count": null,
      "outputs": [
        {
          "output_type": "stream",
          "name": "stdout",
          "text": [
            "b'x01\\x02\\x03'\n"
          ]
        }
      ]
    },
    {
      "cell_type": "markdown",
      "source": [
        "# 4.Buffered read and write"
      ],
      "metadata": {
        "id": "VFTtfBQf8n8N"
      }
    },
    {
      "cell_type": "markdown",
      "source": [
        "whenever the given file is in big file size so we can read and write them in chunks it is called as the buffered read and write , import io"
      ],
      "metadata": {
        "id": "zQu82bQ28vBj"
      }
    },
    {
      "cell_type": "code",
      "source": [
        "import io"
      ],
      "metadata": {
        "id": "QRYIbY01sN5t"
      },
      "execution_count": null,
      "outputs": []
    },
    {
      "cell_type": "markdown",
      "source": [
        "we have use the flush option in order to close the function and to view it"
      ],
      "metadata": {
        "id": "UTGYYOJE-Ec4"
      }
    },
    {
      "cell_type": "code",
      "source": [
        "with open(\"test.txt1\",\"wb\") as f:\n",
        "  file = io.BufferedWriter(f)\n",
        "  file.write(b\"this is my buffered writer\\n\")\n",
        "  file.write(b\"this is the second line of the buffered writer\")\n",
        "  file.flush()"
      ],
      "metadata": {
        "id": "q4eQ0UFy9Lr5"
      },
      "execution_count": null,
      "outputs": []
    },
    {
      "cell_type": "code",
      "source": [
        "with open(\"test.txt1\",\"rb\") as f:\n",
        "  file = io.BufferedReader(f)\n",
        "  data = file.read(10)\n",
        "  print(data)"
      ],
      "metadata": {
        "colab": {
          "base_uri": "https://localhost:8080/"
        },
        "id": "WHXkrLLO91t4",
        "outputId": "c0cc85b3-bdbf-419b-a66d-612377de9be3"
      },
      "execution_count": null,
      "outputs": [
        {
          "output_type": "stream",
          "name": "stdout",
          "text": [
            "b'this is my'\n"
          ]
        }
      ]
    },
    {
      "cell_type": "markdown",
      "source": [
        "above we can see how we can use the buffred read and write operation"
      ],
      "metadata": {
        "id": "BeNWR5qm_E2U"
      }
    },
    {
      "cell_type": "markdown",
      "source": [
        "# logging and debugging"
      ],
      "metadata": {
        "id": "jxOgICwO_Nq7"
      }
    },
    {
      "cell_type": "markdown",
      "source": [
        "if there is andy type of errors or information inorder to fix it we use logging,\n",
        "in production grade sysytem we dont use the print() statement it will always try to print something after shutthing down the sysytem it will be cleared."
      ],
      "metadata": {
        "id": "WyQBSt3jBbBK"
      }
    },
    {
      "cell_type": "markdown",
      "source": [],
      "metadata": {
        "id": "mrS9MtGPCRLn"
      }
    },
    {
      "cell_type": "code",
      "source": [
        "import logging"
      ],
      "metadata": {
        "id": "5V5WeQtl--xX"
      },
      "execution_count": null,
      "outputs": []
    },
    {
      "cell_type": "code",
      "source": [
        "logging.basicConfig(dilename =\"test.log\",level = logging.INFO)"
      ],
      "metadata": {
        "id": "AtCQ-9exCTtR"
      },
      "execution_count": null,
      "outputs": []
    },
    {
      "cell_type": "code",
      "source": [
        "logging.info(\"this is my logfile\")"
      ],
      "metadata": {
        "id": "dLMEXmrQCs5Y"
      },
      "execution_count": null,
      "outputs": []
    },
    {
      "cell_type": "code",
      "source": [],
      "metadata": {
        "id": "0xWCMFUJC3FX"
      },
      "execution_count": null,
      "outputs": []
    }
  ],
  "metadata": {
    "colab": {
      "provenance": []
    },
    "kernelspec": {
      "display_name": "Python 3",
      "name": "python3"
    },
    "language_info": {
      "name": "python"
    }
  },
  "nbformat": 4,
  "nbformat_minor": 0
}